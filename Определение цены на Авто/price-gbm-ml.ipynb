{
 "cells": [
  {
   "cell_type": "markdown",
   "metadata": {},
   "source": [
    "# Определение стоимости автомобилей"
   ]
  },
  {
   "cell_type": "markdown",
   "metadata": {},
   "source": [
    "Сервис по продаже автомобилей с пробегом «Не бит, не крашен» разрабатывает приложение для привлечения новых клиентов. В нём можно быстро узнать рыночную стоимость своего автомобиля. В вашем распоряжении исторические данные: технические характеристики, комплектации и цены автомобилей. Вам нужно построить модель для определения стоимости. \n",
    "\n",
    "Заказчику важны:\n",
    "\n",
    "- качество предсказания;\n",
    "- скорость предсказания;\n",
    "- время обучения."
   ]
  },
  {
   "cell_type": "markdown",
   "metadata": {},
   "source": [
    "## План работы\n",
    "\n",
    "- Открыть файлы с данными\n",
    "- Проверить данные и откорректировать их, если потребуется.\n",
    "- Изучить аномалии в столбцах.\n",
    "- Подготовить выборки для обучения моделей.\n",
    "- Обучить модель LightGBM и обычную модель (не бустинг), оценить их качество метрикой RMSE. \n",
    "- Выбрать лучшую модель и проверить её на тестовой выборке.\n",
    "- Написать общий вывод."
   ]
  },
  {
   "cell_type": "markdown",
   "metadata": {},
   "source": [
    "## Цель работы\n",
    "\n",
    "- Построить модель, которая сможет определять рыночную смтоимость автомобиля с качеством RMSE не более 2500"
   ]
  },
  {
   "cell_type": "markdown",
   "metadata": {},
   "source": [
    "## Описание данных\n",
    "\n",
    "Признаки:\n",
    "- DateCrawled — дата скачивания анкеты из базы\n",
    "- VehicleType — тип автомобильного кузова\n",
    "- RegistrationYear — год регистрации автомобиля\n",
    "- Gearbox — тип коробки передач\n",
    "- Power — мощность (л. с.)\n",
    "- Model — модель автомобиля\n",
    "- Kilometer — пробег (км)\n",
    "- RegistrationMonth — месяц регистрации автомобиля\n",
    "- FuelType — тип топлива\n",
    "- Brand — марка автомобиля\n",
    "- Repaired — была машина в ремонте или нет\n",
    "- DateCreated — дата создания анкеты\n",
    "- NumberOfPictures — количество фотографий автомобиля\n",
    "- PostalCode — почтовый индекс владельца анкеты (пользователя)\n",
    "- LastSeen — дата последней активности пользователя\n",
    "\n",
    "Целевой признак: \n",
    "- Price — цена (евро)"
   ]
  },
  {
   "cell_type": "code",
   "execution_count": 1,
   "metadata": {},
   "outputs": [
    {
     "name": "stdout",
     "output_type": "stream",
     "text": [
      "Requirement already satisfied: scikit-learn in /opt/conda/lib/python3.9/site-packages (1.3.2)\n",
      "Requirement already satisfied: scipy>=1.5.0 in /opt/conda/lib/python3.9/site-packages (from scikit-learn) (1.9.1)\n",
      "Requirement already satisfied: joblib>=1.1.1 in /opt/conda/lib/python3.9/site-packages (from scikit-learn) (1.3.2)\n",
      "Requirement already satisfied: threadpoolctl>=2.0.0 in /opt/conda/lib/python3.9/site-packages (from scikit-learn) (3.1.0)\n",
      "Requirement already satisfied: numpy<2.0,>=1.17.3 in /opt/conda/lib/python3.9/site-packages (from scikit-learn) (1.21.1)\n",
      "Note: you may need to restart the kernel to use updated packages.\n"
     ]
    }
   ],
   "source": [
    "pip install --upgrade scikit-learn"
   ]
  },
  {
   "cell_type": "markdown",
   "metadata": {},
   "source": [
    "## Подготовка данных"
   ]
  },
  {
   "cell_type": "code",
   "execution_count": 2,
   "metadata": {},
   "outputs": [],
   "source": [
    "import pandas as pd\n",
    "import matplotlib.pyplot as plt\n",
    "from sklearn.model_selection import (\n",
    "    train_test_split,\n",
    "    GridSearchCV\n",
    ")\n",
    "from sklearn.metrics import make_scorer, mean_squared_error\n",
    "import lightgbm\n",
    "from lightgbm import LGBMRegressor\n",
    "from sklearn.ensemble import RandomForestRegressor\n",
    "from sklearn.pipeline import Pipeline\n",
    "from sklearn.preprocessing import (\n",
    "    StandardScaler,\n",
    "    OneHotEncoder\n",
    ")\n",
    "from sklearn.compose import ColumnTransformer\n",
    "import numpy as np\n",
    "from time import time\n",
    "from sklearn.dummy import DummyRegressor"
   ]
  },
  {
   "cell_type": "code",
   "execution_count": 3,
   "metadata": {
    "scrolled": true
   },
   "outputs": [
    {
     "data": {
      "text/html": [
       "<div>\n",
       "<style scoped>\n",
       "    .dataframe tbody tr th:only-of-type {\n",
       "        vertical-align: middle;\n",
       "    }\n",
       "\n",
       "    .dataframe tbody tr th {\n",
       "        vertical-align: top;\n",
       "    }\n",
       "\n",
       "    .dataframe thead th {\n",
       "        text-align: right;\n",
       "    }\n",
       "</style>\n",
       "<table border=\"1\" class=\"dataframe\">\n",
       "  <thead>\n",
       "    <tr style=\"text-align: right;\">\n",
       "      <th></th>\n",
       "      <th>DateCrawled</th>\n",
       "      <th>Price</th>\n",
       "      <th>VehicleType</th>\n",
       "      <th>RegistrationYear</th>\n",
       "      <th>Gearbox</th>\n",
       "      <th>Power</th>\n",
       "      <th>Model</th>\n",
       "      <th>Kilometer</th>\n",
       "      <th>RegistrationMonth</th>\n",
       "      <th>FuelType</th>\n",
       "      <th>Brand</th>\n",
       "      <th>Repaired</th>\n",
       "      <th>DateCreated</th>\n",
       "      <th>NumberOfPictures</th>\n",
       "      <th>PostalCode</th>\n",
       "      <th>LastSeen</th>\n",
       "    </tr>\n",
       "  </thead>\n",
       "  <tbody>\n",
       "    <tr>\n",
       "      <th>0</th>\n",
       "      <td>2016-03-24 11:52:17</td>\n",
       "      <td>480</td>\n",
       "      <td>NaN</td>\n",
       "      <td>1993</td>\n",
       "      <td>manual</td>\n",
       "      <td>0</td>\n",
       "      <td>golf</td>\n",
       "      <td>150000</td>\n",
       "      <td>0</td>\n",
       "      <td>petrol</td>\n",
       "      <td>volkswagen</td>\n",
       "      <td>NaN</td>\n",
       "      <td>2016-03-24 00:00:00</td>\n",
       "      <td>0</td>\n",
       "      <td>70435</td>\n",
       "      <td>2016-04-07 03:16:57</td>\n",
       "    </tr>\n",
       "    <tr>\n",
       "      <th>1</th>\n",
       "      <td>2016-03-24 10:58:45</td>\n",
       "      <td>18300</td>\n",
       "      <td>coupe</td>\n",
       "      <td>2011</td>\n",
       "      <td>manual</td>\n",
       "      <td>190</td>\n",
       "      <td>NaN</td>\n",
       "      <td>125000</td>\n",
       "      <td>5</td>\n",
       "      <td>gasoline</td>\n",
       "      <td>audi</td>\n",
       "      <td>yes</td>\n",
       "      <td>2016-03-24 00:00:00</td>\n",
       "      <td>0</td>\n",
       "      <td>66954</td>\n",
       "      <td>2016-04-07 01:46:50</td>\n",
       "    </tr>\n",
       "    <tr>\n",
       "      <th>2</th>\n",
       "      <td>2016-03-14 12:52:21</td>\n",
       "      <td>9800</td>\n",
       "      <td>suv</td>\n",
       "      <td>2004</td>\n",
       "      <td>auto</td>\n",
       "      <td>163</td>\n",
       "      <td>grand</td>\n",
       "      <td>125000</td>\n",
       "      <td>8</td>\n",
       "      <td>gasoline</td>\n",
       "      <td>jeep</td>\n",
       "      <td>NaN</td>\n",
       "      <td>2016-03-14 00:00:00</td>\n",
       "      <td>0</td>\n",
       "      <td>90480</td>\n",
       "      <td>2016-04-05 12:47:46</td>\n",
       "    </tr>\n",
       "    <tr>\n",
       "      <th>3</th>\n",
       "      <td>2016-03-17 16:54:04</td>\n",
       "      <td>1500</td>\n",
       "      <td>small</td>\n",
       "      <td>2001</td>\n",
       "      <td>manual</td>\n",
       "      <td>75</td>\n",
       "      <td>golf</td>\n",
       "      <td>150000</td>\n",
       "      <td>6</td>\n",
       "      <td>petrol</td>\n",
       "      <td>volkswagen</td>\n",
       "      <td>no</td>\n",
       "      <td>2016-03-17 00:00:00</td>\n",
       "      <td>0</td>\n",
       "      <td>91074</td>\n",
       "      <td>2016-03-17 17:40:17</td>\n",
       "    </tr>\n",
       "    <tr>\n",
       "      <th>4</th>\n",
       "      <td>2016-03-31 17:25:20</td>\n",
       "      <td>3600</td>\n",
       "      <td>small</td>\n",
       "      <td>2008</td>\n",
       "      <td>manual</td>\n",
       "      <td>69</td>\n",
       "      <td>fabia</td>\n",
       "      <td>90000</td>\n",
       "      <td>7</td>\n",
       "      <td>gasoline</td>\n",
       "      <td>skoda</td>\n",
       "      <td>no</td>\n",
       "      <td>2016-03-31 00:00:00</td>\n",
       "      <td>0</td>\n",
       "      <td>60437</td>\n",
       "      <td>2016-04-06 10:17:21</td>\n",
       "    </tr>\n",
       "  </tbody>\n",
       "</table>\n",
       "</div>"
      ],
      "text/plain": [
       "           DateCrawled  Price VehicleType  RegistrationYear Gearbox  Power  \\\n",
       "0  2016-03-24 11:52:17    480         NaN              1993  manual      0   \n",
       "1  2016-03-24 10:58:45  18300       coupe              2011  manual    190   \n",
       "2  2016-03-14 12:52:21   9800         suv              2004    auto    163   \n",
       "3  2016-03-17 16:54:04   1500       small              2001  manual     75   \n",
       "4  2016-03-31 17:25:20   3600       small              2008  manual     69   \n",
       "\n",
       "   Model  Kilometer  RegistrationMonth  FuelType       Brand Repaired  \\\n",
       "0   golf     150000                  0    petrol  volkswagen      NaN   \n",
       "1    NaN     125000                  5  gasoline        audi      yes   \n",
       "2  grand     125000                  8  gasoline        jeep      NaN   \n",
       "3   golf     150000                  6    petrol  volkswagen       no   \n",
       "4  fabia      90000                  7  gasoline       skoda       no   \n",
       "\n",
       "           DateCreated  NumberOfPictures  PostalCode             LastSeen  \n",
       "0  2016-03-24 00:00:00                 0       70435  2016-04-07 03:16:57  \n",
       "1  2016-03-24 00:00:00                 0       66954  2016-04-07 01:46:50  \n",
       "2  2016-03-14 00:00:00                 0       90480  2016-04-05 12:47:46  \n",
       "3  2016-03-17 00:00:00                 0       91074  2016-03-17 17:40:17  \n",
       "4  2016-03-31 00:00:00                 0       60437  2016-04-06 10:17:21  "
      ]
     },
     "execution_count": 3,
     "metadata": {},
     "output_type": "execute_result"
    }
   ],
   "source": [
    "# загрузка данных\n",
    "\n",
    "data = pd.read_csv('/datasets/autos.csv')\n",
    "data.head()"
   ]
  },
  {
   "cell_type": "code",
   "execution_count": 4,
   "metadata": {},
   "outputs": [
    {
     "name": "stdout",
     "output_type": "stream",
     "text": [
      "<class 'pandas.core.frame.DataFrame'>\n",
      "RangeIndex: 354369 entries, 0 to 354368\n",
      "Data columns (total 16 columns):\n",
      " #   Column             Non-Null Count   Dtype \n",
      "---  ------             --------------   ----- \n",
      " 0   DateCrawled        354369 non-null  object\n",
      " 1   Price              354369 non-null  int64 \n",
      " 2   VehicleType        316879 non-null  object\n",
      " 3   RegistrationYear   354369 non-null  int64 \n",
      " 4   Gearbox            334536 non-null  object\n",
      " 5   Power              354369 non-null  int64 \n",
      " 6   Model              334664 non-null  object\n",
      " 7   Kilometer          354369 non-null  int64 \n",
      " 8   RegistrationMonth  354369 non-null  int64 \n",
      " 9   FuelType           321474 non-null  object\n",
      " 10  Brand              354369 non-null  object\n",
      " 11  Repaired           283215 non-null  object\n",
      " 12  DateCreated        354369 non-null  object\n",
      " 13  NumberOfPictures   354369 non-null  int64 \n",
      " 14  PostalCode         354369 non-null  int64 \n",
      " 15  LastSeen           354369 non-null  object\n",
      "dtypes: int64(7), object(9)\n",
      "memory usage: 43.3+ MB\n"
     ]
    }
   ],
   "source": [
    "data.info()"
   ]
  },
  {
   "cell_type": "markdown",
   "metadata": {},
   "source": [
    "- Есть пропуски в столбцах VehicleType, Gearbox, Model, FuelType, Repaired; \n",
    "- Некоторые столбцы имеют неверный тип данных, например, столбец DateCrawled, DateCreated и LastSeen, которые содержат информацию о дате; \n",
    "- Кажется, что описанные выше столбцы с датами никак не повлияют на обучаемость моделей, т.к. даты не связаны напрямую с самими автомобилями, как, например, столбцы Kilometer, Power или Repaired. В таком случае столбцы с датами можно просто удалить; \n",
    "- Также неинформативными кажутся столбцы RegistrationMonth и NumberOfPictures. Первый содержит только номер месяца, что по сути никак не влияет на стоимость авто, а второй содержит количество фотографий, что тоже никак не может повлиять на стоимость авто. Но избавляться от них пока не буду, если что вернусь к ним позднее."
   ]
  },
  {
   "cell_type": "code",
   "execution_count": 5,
   "metadata": {},
   "outputs": [
    {
     "name": "stdout",
     "output_type": "stream",
     "text": [
      "<class 'pandas.core.frame.DataFrame'>\n",
      "RangeIndex: 354369 entries, 0 to 354368\n",
      "Data columns (total 13 columns):\n",
      " #   Column             Non-Null Count   Dtype \n",
      "---  ------             --------------   ----- \n",
      " 0   Price              354369 non-null  int64 \n",
      " 1   VehicleType        316879 non-null  object\n",
      " 2   RegistrationYear   354369 non-null  int64 \n",
      " 3   Gearbox            334536 non-null  object\n",
      " 4   Power              354369 non-null  int64 \n",
      " 5   Model              334664 non-null  object\n",
      " 6   Kilometer          354369 non-null  int64 \n",
      " 7   RegistrationMonth  354369 non-null  int64 \n",
      " 8   FuelType           321474 non-null  object\n",
      " 9   Brand              354369 non-null  object\n",
      " 10  Repaired           283215 non-null  object\n",
      " 11  NumberOfPictures   354369 non-null  int64 \n",
      " 12  PostalCode         354369 non-null  int64 \n",
      "dtypes: int64(7), object(6)\n",
      "memory usage: 35.1+ MB\n"
     ]
    }
   ],
   "source": [
    "# начнем с удаления неинформативных столбцов\n",
    "columns_to_remove = ['DateCrawled', 'DateCreated', 'LastSeen']\n",
    "data = data.drop(columns_to_remove, axis=1)\n",
    "data.info()"
   ]
  },
  {
   "cell_type": "code",
   "execution_count": 6,
   "metadata": {},
   "outputs": [
    {
     "data": {
      "text/html": [
       "<div>\n",
       "<style scoped>\n",
       "    .dataframe tbody tr th:only-of-type {\n",
       "        vertical-align: middle;\n",
       "    }\n",
       "\n",
       "    .dataframe tbody tr th {\n",
       "        vertical-align: top;\n",
       "    }\n",
       "\n",
       "    .dataframe thead th {\n",
       "        text-align: right;\n",
       "    }\n",
       "</style>\n",
       "<table border=\"1\" class=\"dataframe\">\n",
       "  <thead>\n",
       "    <tr style=\"text-align: right;\">\n",
       "      <th></th>\n",
       "      <th>Price</th>\n",
       "      <th>VehicleType</th>\n",
       "      <th>RegistrationYear</th>\n",
       "      <th>Gearbox</th>\n",
       "      <th>Power</th>\n",
       "      <th>Model</th>\n",
       "      <th>Kilometer</th>\n",
       "      <th>RegistrationMonth</th>\n",
       "      <th>FuelType</th>\n",
       "      <th>Brand</th>\n",
       "      <th>Repaired</th>\n",
       "      <th>NumberOfPictures</th>\n",
       "      <th>PostalCode</th>\n",
       "    </tr>\n",
       "  </thead>\n",
       "  <tbody>\n",
       "    <tr>\n",
       "      <th>0</th>\n",
       "      <td>480</td>\n",
       "      <td>NaN</td>\n",
       "      <td>1993</td>\n",
       "      <td>manual</td>\n",
       "      <td>0</td>\n",
       "      <td>golf</td>\n",
       "      <td>150000</td>\n",
       "      <td>0</td>\n",
       "      <td>petrol</td>\n",
       "      <td>volkswagen</td>\n",
       "      <td>NaN</td>\n",
       "      <td>0</td>\n",
       "      <td>70435</td>\n",
       "    </tr>\n",
       "    <tr>\n",
       "      <th>16</th>\n",
       "      <td>300</td>\n",
       "      <td>NaN</td>\n",
       "      <td>2016</td>\n",
       "      <td>NaN</td>\n",
       "      <td>60</td>\n",
       "      <td>polo</td>\n",
       "      <td>150000</td>\n",
       "      <td>0</td>\n",
       "      <td>petrol</td>\n",
       "      <td>volkswagen</td>\n",
       "      <td>NaN</td>\n",
       "      <td>0</td>\n",
       "      <td>38871</td>\n",
       "    </tr>\n",
       "    <tr>\n",
       "      <th>22</th>\n",
       "      <td>2900</td>\n",
       "      <td>NaN</td>\n",
       "      <td>2018</td>\n",
       "      <td>manual</td>\n",
       "      <td>90</td>\n",
       "      <td>meriva</td>\n",
       "      <td>150000</td>\n",
       "      <td>5</td>\n",
       "      <td>petrol</td>\n",
       "      <td>opel</td>\n",
       "      <td>no</td>\n",
       "      <td>0</td>\n",
       "      <td>49716</td>\n",
       "    </tr>\n",
       "    <tr>\n",
       "      <th>26</th>\n",
       "      <td>5555</td>\n",
       "      <td>NaN</td>\n",
       "      <td>2017</td>\n",
       "      <td>manual</td>\n",
       "      <td>125</td>\n",
       "      <td>c4</td>\n",
       "      <td>125000</td>\n",
       "      <td>4</td>\n",
       "      <td>NaN</td>\n",
       "      <td>citroen</td>\n",
       "      <td>no</td>\n",
       "      <td>0</td>\n",
       "      <td>31139</td>\n",
       "    </tr>\n",
       "    <tr>\n",
       "      <th>31</th>\n",
       "      <td>899</td>\n",
       "      <td>NaN</td>\n",
       "      <td>2016</td>\n",
       "      <td>manual</td>\n",
       "      <td>60</td>\n",
       "      <td>clio</td>\n",
       "      <td>150000</td>\n",
       "      <td>6</td>\n",
       "      <td>petrol</td>\n",
       "      <td>renault</td>\n",
       "      <td>NaN</td>\n",
       "      <td>0</td>\n",
       "      <td>37075</td>\n",
       "    </tr>\n",
       "    <tr>\n",
       "      <th>...</th>\n",
       "      <td>...</td>\n",
       "      <td>...</td>\n",
       "      <td>...</td>\n",
       "      <td>...</td>\n",
       "      <td>...</td>\n",
       "      <td>...</td>\n",
       "      <td>...</td>\n",
       "      <td>...</td>\n",
       "      <td>...</td>\n",
       "      <td>...</td>\n",
       "      <td>...</td>\n",
       "      <td>...</td>\n",
       "      <td>...</td>\n",
       "    </tr>\n",
       "    <tr>\n",
       "      <th>354346</th>\n",
       "      <td>2600</td>\n",
       "      <td>NaN</td>\n",
       "      <td>2005</td>\n",
       "      <td>auto</td>\n",
       "      <td>0</td>\n",
       "      <td>c_klasse</td>\n",
       "      <td>150000</td>\n",
       "      <td>9</td>\n",
       "      <td>NaN</td>\n",
       "      <td>mercedes_benz</td>\n",
       "      <td>NaN</td>\n",
       "      <td>0</td>\n",
       "      <td>61169</td>\n",
       "    </tr>\n",
       "    <tr>\n",
       "      <th>354351</th>\n",
       "      <td>1900</td>\n",
       "      <td>NaN</td>\n",
       "      <td>2000</td>\n",
       "      <td>manual</td>\n",
       "      <td>110</td>\n",
       "      <td>NaN</td>\n",
       "      <td>150000</td>\n",
       "      <td>7</td>\n",
       "      <td>NaN</td>\n",
       "      <td>volkswagen</td>\n",
       "      <td>no</td>\n",
       "      <td>0</td>\n",
       "      <td>87700</td>\n",
       "    </tr>\n",
       "    <tr>\n",
       "      <th>354361</th>\n",
       "      <td>5250</td>\n",
       "      <td>NaN</td>\n",
       "      <td>2016</td>\n",
       "      <td>auto</td>\n",
       "      <td>150</td>\n",
       "      <td>159</td>\n",
       "      <td>150000</td>\n",
       "      <td>12</td>\n",
       "      <td>NaN</td>\n",
       "      <td>alfa_romeo</td>\n",
       "      <td>no</td>\n",
       "      <td>0</td>\n",
       "      <td>51371</td>\n",
       "    </tr>\n",
       "    <tr>\n",
       "      <th>354364</th>\n",
       "      <td>0</td>\n",
       "      <td>NaN</td>\n",
       "      <td>2005</td>\n",
       "      <td>manual</td>\n",
       "      <td>0</td>\n",
       "      <td>colt</td>\n",
       "      <td>150000</td>\n",
       "      <td>7</td>\n",
       "      <td>petrol</td>\n",
       "      <td>mitsubishi</td>\n",
       "      <td>yes</td>\n",
       "      <td>0</td>\n",
       "      <td>2694</td>\n",
       "    </tr>\n",
       "    <tr>\n",
       "      <th>354365</th>\n",
       "      <td>2200</td>\n",
       "      <td>NaN</td>\n",
       "      <td>2005</td>\n",
       "      <td>NaN</td>\n",
       "      <td>0</td>\n",
       "      <td>NaN</td>\n",
       "      <td>20000</td>\n",
       "      <td>1</td>\n",
       "      <td>NaN</td>\n",
       "      <td>sonstige_autos</td>\n",
       "      <td>NaN</td>\n",
       "      <td>0</td>\n",
       "      <td>39576</td>\n",
       "    </tr>\n",
       "  </tbody>\n",
       "</table>\n",
       "<p>37490 rows × 13 columns</p>\n",
       "</div>"
      ],
      "text/plain": [
       "        Price VehicleType  RegistrationYear Gearbox  Power     Model  \\\n",
       "0         480         NaN              1993  manual      0      golf   \n",
       "16        300         NaN              2016     NaN     60      polo   \n",
       "22       2900         NaN              2018  manual     90    meriva   \n",
       "26       5555         NaN              2017  manual    125        c4   \n",
       "31        899         NaN              2016  manual     60      clio   \n",
       "...       ...         ...               ...     ...    ...       ...   \n",
       "354346   2600         NaN              2005    auto      0  c_klasse   \n",
       "354351   1900         NaN              2000  manual    110       NaN   \n",
       "354361   5250         NaN              2016    auto    150       159   \n",
       "354364      0         NaN              2005  manual      0      colt   \n",
       "354365   2200         NaN              2005     NaN      0       NaN   \n",
       "\n",
       "        Kilometer  RegistrationMonth FuelType           Brand Repaired  \\\n",
       "0          150000                  0   petrol      volkswagen      NaN   \n",
       "16         150000                  0   petrol      volkswagen      NaN   \n",
       "22         150000                  5   petrol            opel       no   \n",
       "26         125000                  4      NaN         citroen       no   \n",
       "31         150000                  6   petrol         renault      NaN   \n",
       "...           ...                ...      ...             ...      ...   \n",
       "354346     150000                  9      NaN   mercedes_benz      NaN   \n",
       "354351     150000                  7      NaN      volkswagen       no   \n",
       "354361     150000                 12      NaN      alfa_romeo       no   \n",
       "354364     150000                  7   petrol      mitsubishi      yes   \n",
       "354365      20000                  1      NaN  sonstige_autos      NaN   \n",
       "\n",
       "        NumberOfPictures  PostalCode  \n",
       "0                      0       70435  \n",
       "16                     0       38871  \n",
       "22                     0       49716  \n",
       "26                     0       31139  \n",
       "31                     0       37075  \n",
       "...                  ...         ...  \n",
       "354346                 0       61169  \n",
       "354351                 0       87700  \n",
       "354361                 0       51371  \n",
       "354364                 0        2694  \n",
       "354365                 0       39576  \n",
       "\n",
       "[37490 rows x 13 columns]"
      ]
     },
     "metadata": {},
     "output_type": "display_data"
    }
   ],
   "source": [
    "# посмтрим пропущенные значения в столбцах\n",
    "missing_rows = data[data['VehicleType'].isnull()]\n",
    "display(missing_rows)"
   ]
  },
  {
   "cell_type": "code",
   "execution_count": 7,
   "metadata": {},
   "outputs": [
    {
     "data": {
      "text/plain": [
       "[nan, 'coupe', 'suv', 'small', 'sedan', 'convertible', 'bus', 'wagon', 'other']"
      ]
     },
     "execution_count": 7,
     "metadata": {},
     "output_type": "execute_result"
    }
   ],
   "source": [
    "data['VehicleType'].unique().tolist()"
   ]
  },
  {
   "cell_type": "markdown",
   "metadata": {},
   "source": [
    "- Самый просто вариант -- удалить пропуски. \n",
    "- Самый сложный, но более действенный в плане метрики качества обученной модели, это заполнить каждый пропуск в столбце VehicleType, основываясь на общедоступных данных по модели, т.е. столбцу Model, однако этот способ займет много времени.\n",
    "- Начну с самого простого - удаления. В последствии, если RMSE будет выше 2500, можно будет вернуться и попробовать заполнить пропуски данными из интернета."
   ]
  },
  {
   "cell_type": "code",
   "execution_count": 8,
   "metadata": {},
   "outputs": [
    {
     "name": "stdout",
     "output_type": "stream",
     "text": [
      "Размер датасета до удаления пропусков: (354369, 13)\n"
     ]
    }
   ],
   "source": [
    "print('Размер датасета до удаления пропусков:', data.shape)"
   ]
  },
  {
   "cell_type": "code",
   "execution_count": 9,
   "metadata": {},
   "outputs": [
    {
     "name": "stdout",
     "output_type": "stream",
     "text": [
      "Размер датасета после удаления пропусков: (316879, 13)\n"
     ]
    }
   ],
   "source": [
    "# удаляю пропуски из столбца VehicleType\n",
    "data = data.dropna(subset=['VehicleType'])\n",
    "print('Размер датасета после удаления пропусков:', data.shape)"
   ]
  },
  {
   "cell_type": "markdown",
   "metadata": {},
   "source": [
    "Размер датасета сократился, но не значительно. Перейдем к следующим столбцам."
   ]
  },
  {
   "cell_type": "code",
   "execution_count": 10,
   "metadata": {},
   "outputs": [
    {
     "name": "stdout",
     "output_type": "stream",
     "text": [
      "<class 'pandas.core.frame.DataFrame'>\n",
      "Int64Index: 316879 entries, 1 to 354368\n",
      "Data columns (total 13 columns):\n",
      " #   Column             Non-Null Count   Dtype \n",
      "---  ------             --------------   ----- \n",
      " 0   Price              316879 non-null  int64 \n",
      " 1   VehicleType        316879 non-null  object\n",
      " 2   RegistrationYear   316879 non-null  int64 \n",
      " 3   Gearbox            307016 non-null  object\n",
      " 4   Power              316879 non-null  int64 \n",
      " 5   Model              304002 non-null  object\n",
      " 6   Kilometer          316879 non-null  int64 \n",
      " 7   RegistrationMonth  316879 non-null  int64 \n",
      " 8   FuelType           301279 non-null  object\n",
      " 9   Brand              316879 non-null  object\n",
      " 10  Repaired           266296 non-null  object\n",
      " 11  NumberOfPictures   316879 non-null  int64 \n",
      " 12  PostalCode         316879 non-null  int64 \n",
      "dtypes: int64(7), object(6)\n",
      "memory usage: 33.8+ MB\n"
     ]
    }
   ],
   "source": [
    "data.info()"
   ]
  },
  {
   "cell_type": "markdown",
   "metadata": {},
   "source": [
    "Пропуски есть еще в столбцах Gearbox, Model, FuelType, Repaired."
   ]
  },
  {
   "cell_type": "code",
   "execution_count": 11,
   "metadata": {},
   "outputs": [
    {
     "data": {
      "text/html": [
       "<div>\n",
       "<style scoped>\n",
       "    .dataframe tbody tr th:only-of-type {\n",
       "        vertical-align: middle;\n",
       "    }\n",
       "\n",
       "    .dataframe tbody tr th {\n",
       "        vertical-align: top;\n",
       "    }\n",
       "\n",
       "    .dataframe thead th {\n",
       "        text-align: right;\n",
       "    }\n",
       "</style>\n",
       "<table border=\"1\" class=\"dataframe\">\n",
       "  <thead>\n",
       "    <tr style=\"text-align: right;\">\n",
       "      <th></th>\n",
       "      <th>Price</th>\n",
       "      <th>VehicleType</th>\n",
       "      <th>RegistrationYear</th>\n",
       "      <th>Gearbox</th>\n",
       "      <th>Power</th>\n",
       "      <th>Model</th>\n",
       "      <th>Kilometer</th>\n",
       "      <th>RegistrationMonth</th>\n",
       "      <th>FuelType</th>\n",
       "      <th>Brand</th>\n",
       "      <th>Repaired</th>\n",
       "      <th>NumberOfPictures</th>\n",
       "      <th>PostalCode</th>\n",
       "    </tr>\n",
       "  </thead>\n",
       "  <tbody>\n",
       "    <tr>\n",
       "      <th>15</th>\n",
       "      <td>450</td>\n",
       "      <td>small</td>\n",
       "      <td>1910</td>\n",
       "      <td>NaN</td>\n",
       "      <td>0</td>\n",
       "      <td>ka</td>\n",
       "      <td>5000</td>\n",
       "      <td>0</td>\n",
       "      <td>petrol</td>\n",
       "      <td>ford</td>\n",
       "      <td>NaN</td>\n",
       "      <td>0</td>\n",
       "      <td>24148</td>\n",
       "    </tr>\n",
       "    <tr>\n",
       "      <th>32</th>\n",
       "      <td>245</td>\n",
       "      <td>sedan</td>\n",
       "      <td>1994</td>\n",
       "      <td>NaN</td>\n",
       "      <td>0</td>\n",
       "      <td>golf</td>\n",
       "      <td>150000</td>\n",
       "      <td>2</td>\n",
       "      <td>petrol</td>\n",
       "      <td>volkswagen</td>\n",
       "      <td>no</td>\n",
       "      <td>0</td>\n",
       "      <td>44145</td>\n",
       "    </tr>\n",
       "    <tr>\n",
       "      <th>69</th>\n",
       "      <td>1200</td>\n",
       "      <td>coupe</td>\n",
       "      <td>2001</td>\n",
       "      <td>NaN</td>\n",
       "      <td>0</td>\n",
       "      <td>astra</td>\n",
       "      <td>150000</td>\n",
       "      <td>0</td>\n",
       "      <td>NaN</td>\n",
       "      <td>opel</td>\n",
       "      <td>NaN</td>\n",
       "      <td>0</td>\n",
       "      <td>47249</td>\n",
       "    </tr>\n",
       "    <tr>\n",
       "      <th>110</th>\n",
       "      <td>350</td>\n",
       "      <td>small</td>\n",
       "      <td>1998</td>\n",
       "      <td>NaN</td>\n",
       "      <td>0</td>\n",
       "      <td>corsa</td>\n",
       "      <td>150000</td>\n",
       "      <td>2</td>\n",
       "      <td>petrol</td>\n",
       "      <td>opel</td>\n",
       "      <td>NaN</td>\n",
       "      <td>0</td>\n",
       "      <td>82110</td>\n",
       "    </tr>\n",
       "    <tr>\n",
       "      <th>115</th>\n",
       "      <td>0</td>\n",
       "      <td>small</td>\n",
       "      <td>1999</td>\n",
       "      <td>NaN</td>\n",
       "      <td>0</td>\n",
       "      <td>NaN</td>\n",
       "      <td>5000</td>\n",
       "      <td>0</td>\n",
       "      <td>petrol</td>\n",
       "      <td>volkswagen</td>\n",
       "      <td>NaN</td>\n",
       "      <td>0</td>\n",
       "      <td>37520</td>\n",
       "    </tr>\n",
       "    <tr>\n",
       "      <th>...</th>\n",
       "      <td>...</td>\n",
       "      <td>...</td>\n",
       "      <td>...</td>\n",
       "      <td>...</td>\n",
       "      <td>...</td>\n",
       "      <td>...</td>\n",
       "      <td>...</td>\n",
       "      <td>...</td>\n",
       "      <td>...</td>\n",
       "      <td>...</td>\n",
       "      <td>...</td>\n",
       "      <td>...</td>\n",
       "      <td>...</td>\n",
       "    </tr>\n",
       "    <tr>\n",
       "      <th>354221</th>\n",
       "      <td>4300</td>\n",
       "      <td>small</td>\n",
       "      <td>2009</td>\n",
       "      <td>NaN</td>\n",
       "      <td>0</td>\n",
       "      <td>ibiza</td>\n",
       "      <td>150000</td>\n",
       "      <td>3</td>\n",
       "      <td>petrol</td>\n",
       "      <td>seat</td>\n",
       "      <td>no</td>\n",
       "      <td>0</td>\n",
       "      <td>32756</td>\n",
       "    </tr>\n",
       "    <tr>\n",
       "      <th>354260</th>\n",
       "      <td>399</td>\n",
       "      <td>other</td>\n",
       "      <td>1994</td>\n",
       "      <td>NaN</td>\n",
       "      <td>1103</td>\n",
       "      <td>3er</td>\n",
       "      <td>150000</td>\n",
       "      <td>0</td>\n",
       "      <td>NaN</td>\n",
       "      <td>bmw</td>\n",
       "      <td>NaN</td>\n",
       "      <td>0</td>\n",
       "      <td>56235</td>\n",
       "    </tr>\n",
       "    <tr>\n",
       "      <th>354285</th>\n",
       "      <td>3500</td>\n",
       "      <td>small</td>\n",
       "      <td>2001</td>\n",
       "      <td>NaN</td>\n",
       "      <td>75</td>\n",
       "      <td>corsa</td>\n",
       "      <td>90000</td>\n",
       "      <td>4</td>\n",
       "      <td>petrol</td>\n",
       "      <td>opel</td>\n",
       "      <td>no</td>\n",
       "      <td>0</td>\n",
       "      <td>49740</td>\n",
       "    </tr>\n",
       "    <tr>\n",
       "      <th>354288</th>\n",
       "      <td>3300</td>\n",
       "      <td>wagon</td>\n",
       "      <td>2006</td>\n",
       "      <td>NaN</td>\n",
       "      <td>0</td>\n",
       "      <td>touran</td>\n",
       "      <td>150000</td>\n",
       "      <td>7</td>\n",
       "      <td>gasoline</td>\n",
       "      <td>volkswagen</td>\n",
       "      <td>NaN</td>\n",
       "      <td>0</td>\n",
       "      <td>12057</td>\n",
       "    </tr>\n",
       "    <tr>\n",
       "      <th>354329</th>\n",
       "      <td>350</td>\n",
       "      <td>small</td>\n",
       "      <td>1996</td>\n",
       "      <td>NaN</td>\n",
       "      <td>65</td>\n",
       "      <td>punto</td>\n",
       "      <td>150000</td>\n",
       "      <td>0</td>\n",
       "      <td>NaN</td>\n",
       "      <td>fiat</td>\n",
       "      <td>NaN</td>\n",
       "      <td>0</td>\n",
       "      <td>25436</td>\n",
       "    </tr>\n",
       "  </tbody>\n",
       "</table>\n",
       "<p>9863 rows × 13 columns</p>\n",
       "</div>"
      ],
      "text/plain": [
       "        Price VehicleType  RegistrationYear Gearbox  Power   Model  Kilometer  \\\n",
       "15        450       small              1910     NaN      0      ka       5000   \n",
       "32        245       sedan              1994     NaN      0    golf     150000   \n",
       "69       1200       coupe              2001     NaN      0   astra     150000   \n",
       "110       350       small              1998     NaN      0   corsa     150000   \n",
       "115         0       small              1999     NaN      0     NaN       5000   \n",
       "...       ...         ...               ...     ...    ...     ...        ...   \n",
       "354221   4300       small              2009     NaN      0   ibiza     150000   \n",
       "354260    399       other              1994     NaN   1103     3er     150000   \n",
       "354285   3500       small              2001     NaN     75   corsa      90000   \n",
       "354288   3300       wagon              2006     NaN      0  touran     150000   \n",
       "354329    350       small              1996     NaN     65   punto     150000   \n",
       "\n",
       "        RegistrationMonth  FuelType       Brand Repaired  NumberOfPictures  \\\n",
       "15                      0    petrol        ford      NaN                 0   \n",
       "32                      2    petrol  volkswagen       no                 0   \n",
       "69                      0       NaN        opel      NaN                 0   \n",
       "110                     2    petrol        opel      NaN                 0   \n",
       "115                     0    petrol  volkswagen      NaN                 0   \n",
       "...                   ...       ...         ...      ...               ...   \n",
       "354221                  3    petrol        seat       no                 0   \n",
       "354260                  0       NaN         bmw      NaN                 0   \n",
       "354285                  4    petrol        opel       no                 0   \n",
       "354288                  7  gasoline  volkswagen      NaN                 0   \n",
       "354329                  0       NaN        fiat      NaN                 0   \n",
       "\n",
       "        PostalCode  \n",
       "15           24148  \n",
       "32           44145  \n",
       "69           47249  \n",
       "110          82110  \n",
       "115          37520  \n",
       "...            ...  \n",
       "354221       32756  \n",
       "354260       56235  \n",
       "354285       49740  \n",
       "354288       12057  \n",
       "354329       25436  \n",
       "\n",
       "[9863 rows x 13 columns]"
      ]
     },
     "metadata": {},
     "output_type": "display_data"
    }
   ],
   "source": [
    "missing_rows_gear = data[data['Gearbox'].isnull()]\n",
    "display(missing_rows_gear)"
   ]
  },
  {
   "cell_type": "code",
   "execution_count": 12,
   "metadata": {},
   "outputs": [
    {
     "data": {
      "text/plain": [
       "['manual', 'auto', nan]"
      ]
     },
     "execution_count": 12,
     "metadata": {},
     "output_type": "execute_result"
    }
   ],
   "source": [
    "data['Gearbox'].unique().tolist()"
   ]
  },
  {
   "cell_type": "markdown",
   "metadata": {},
   "source": [
    "Взять информацию по трансмиссии в данном случае негде, так как даже, если отталкиваться от модели авто, они зачастую бывают как с ручной, так и с автоматической трансмиссией. Поэтому удалю пропуски в этом столбце."
   ]
  },
  {
   "cell_type": "code",
   "execution_count": 13,
   "metadata": {},
   "outputs": [
    {
     "name": "stdout",
     "output_type": "stream",
     "text": [
      "Размер датасета до удаления пропусков: (316879, 13)\n",
      "Размер датасета после удаления пропусков: (307016, 13)\n"
     ]
    }
   ],
   "source": [
    "print('Размер датасета до удаления пропусков:', data.shape)\n",
    "# удаляю пропуски из столбца Gearbox\n",
    "data = data.dropna(subset=['Gearbox'])\n",
    "print('Размер датасета после удаления пропусков:', data.shape)"
   ]
  },
  {
   "cell_type": "code",
   "execution_count": 14,
   "metadata": {},
   "outputs": [
    {
     "data": {
      "text/html": [
       "<div>\n",
       "<style scoped>\n",
       "    .dataframe tbody tr th:only-of-type {\n",
       "        vertical-align: middle;\n",
       "    }\n",
       "\n",
       "    .dataframe tbody tr th {\n",
       "        vertical-align: top;\n",
       "    }\n",
       "\n",
       "    .dataframe thead th {\n",
       "        text-align: right;\n",
       "    }\n",
       "</style>\n",
       "<table border=\"1\" class=\"dataframe\">\n",
       "  <thead>\n",
       "    <tr style=\"text-align: right;\">\n",
       "      <th></th>\n",
       "      <th>Price</th>\n",
       "      <th>VehicleType</th>\n",
       "      <th>RegistrationYear</th>\n",
       "      <th>Gearbox</th>\n",
       "      <th>Power</th>\n",
       "      <th>Model</th>\n",
       "      <th>Kilometer</th>\n",
       "      <th>RegistrationMonth</th>\n",
       "      <th>FuelType</th>\n",
       "      <th>Brand</th>\n",
       "      <th>Repaired</th>\n",
       "      <th>NumberOfPictures</th>\n",
       "      <th>PostalCode</th>\n",
       "    </tr>\n",
       "  </thead>\n",
       "  <tbody>\n",
       "    <tr>\n",
       "      <th>1</th>\n",
       "      <td>18300</td>\n",
       "      <td>coupe</td>\n",
       "      <td>2011</td>\n",
       "      <td>manual</td>\n",
       "      <td>190</td>\n",
       "      <td>NaN</td>\n",
       "      <td>125000</td>\n",
       "      <td>5</td>\n",
       "      <td>gasoline</td>\n",
       "      <td>audi</td>\n",
       "      <td>yes</td>\n",
       "      <td>0</td>\n",
       "      <td>66954</td>\n",
       "    </tr>\n",
       "    <tr>\n",
       "      <th>59</th>\n",
       "      <td>1</td>\n",
       "      <td>suv</td>\n",
       "      <td>1994</td>\n",
       "      <td>manual</td>\n",
       "      <td>286</td>\n",
       "      <td>NaN</td>\n",
       "      <td>150000</td>\n",
       "      <td>11</td>\n",
       "      <td>NaN</td>\n",
       "      <td>sonstige_autos</td>\n",
       "      <td>NaN</td>\n",
       "      <td>0</td>\n",
       "      <td>53721</td>\n",
       "    </tr>\n",
       "    <tr>\n",
       "      <th>81</th>\n",
       "      <td>350</td>\n",
       "      <td>small</td>\n",
       "      <td>1997</td>\n",
       "      <td>manual</td>\n",
       "      <td>54</td>\n",
       "      <td>NaN</td>\n",
       "      <td>150000</td>\n",
       "      <td>3</td>\n",
       "      <td>NaN</td>\n",
       "      <td>fiat</td>\n",
       "      <td>yes</td>\n",
       "      <td>0</td>\n",
       "      <td>45665</td>\n",
       "    </tr>\n",
       "    <tr>\n",
       "      <th>135</th>\n",
       "      <td>1450</td>\n",
       "      <td>sedan</td>\n",
       "      <td>1992</td>\n",
       "      <td>manual</td>\n",
       "      <td>136</td>\n",
       "      <td>NaN</td>\n",
       "      <td>150000</td>\n",
       "      <td>0</td>\n",
       "      <td>NaN</td>\n",
       "      <td>audi</td>\n",
       "      <td>no</td>\n",
       "      <td>0</td>\n",
       "      <td>38709</td>\n",
       "    </tr>\n",
       "    <tr>\n",
       "      <th>160</th>\n",
       "      <td>500</td>\n",
       "      <td>small</td>\n",
       "      <td>1999</td>\n",
       "      <td>manual</td>\n",
       "      <td>0</td>\n",
       "      <td>NaN</td>\n",
       "      <td>150000</td>\n",
       "      <td>0</td>\n",
       "      <td>petrol</td>\n",
       "      <td>renault</td>\n",
       "      <td>no</td>\n",
       "      <td>0</td>\n",
       "      <td>26969</td>\n",
       "    </tr>\n",
       "    <tr>\n",
       "      <th>...</th>\n",
       "      <td>...</td>\n",
       "      <td>...</td>\n",
       "      <td>...</td>\n",
       "      <td>...</td>\n",
       "      <td>...</td>\n",
       "      <td>...</td>\n",
       "      <td>...</td>\n",
       "      <td>...</td>\n",
       "      <td>...</td>\n",
       "      <td>...</td>\n",
       "      <td>...</td>\n",
       "      <td>...</td>\n",
       "      <td>...</td>\n",
       "    </tr>\n",
       "    <tr>\n",
       "      <th>354077</th>\n",
       "      <td>200</td>\n",
       "      <td>small</td>\n",
       "      <td>1998</td>\n",
       "      <td>manual</td>\n",
       "      <td>37</td>\n",
       "      <td>NaN</td>\n",
       "      <td>150000</td>\n",
       "      <td>4</td>\n",
       "      <td>petrol</td>\n",
       "      <td>volkswagen</td>\n",
       "      <td>yes</td>\n",
       "      <td>0</td>\n",
       "      <td>26382</td>\n",
       "    </tr>\n",
       "    <tr>\n",
       "      <th>354080</th>\n",
       "      <td>4300</td>\n",
       "      <td>small</td>\n",
       "      <td>2008</td>\n",
       "      <td>auto</td>\n",
       "      <td>0</td>\n",
       "      <td>NaN</td>\n",
       "      <td>150000</td>\n",
       "      <td>3</td>\n",
       "      <td>NaN</td>\n",
       "      <td>honda</td>\n",
       "      <td>NaN</td>\n",
       "      <td>0</td>\n",
       "      <td>30627</td>\n",
       "    </tr>\n",
       "    <tr>\n",
       "      <th>354234</th>\n",
       "      <td>5000</td>\n",
       "      <td>sedan</td>\n",
       "      <td>2002</td>\n",
       "      <td>auto</td>\n",
       "      <td>170</td>\n",
       "      <td>NaN</td>\n",
       "      <td>150000</td>\n",
       "      <td>0</td>\n",
       "      <td>petrol</td>\n",
       "      <td>audi</td>\n",
       "      <td>no</td>\n",
       "      <td>0</td>\n",
       "      <td>85221</td>\n",
       "    </tr>\n",
       "    <tr>\n",
       "      <th>354245</th>\n",
       "      <td>560</td>\n",
       "      <td>small</td>\n",
       "      <td>2001</td>\n",
       "      <td>auto</td>\n",
       "      <td>170</td>\n",
       "      <td>NaN</td>\n",
       "      <td>90000</td>\n",
       "      <td>0</td>\n",
       "      <td>petrol</td>\n",
       "      <td>fiat</td>\n",
       "      <td>yes</td>\n",
       "      <td>0</td>\n",
       "      <td>55743</td>\n",
       "    </tr>\n",
       "    <tr>\n",
       "      <th>354321</th>\n",
       "      <td>9400</td>\n",
       "      <td>wagon</td>\n",
       "      <td>2007</td>\n",
       "      <td>manual</td>\n",
       "      <td>200</td>\n",
       "      <td>NaN</td>\n",
       "      <td>150000</td>\n",
       "      <td>4</td>\n",
       "      <td>gasoline</td>\n",
       "      <td>sonstige_autos</td>\n",
       "      <td>yes</td>\n",
       "      <td>0</td>\n",
       "      <td>91186</td>\n",
       "    </tr>\n",
       "  </tbody>\n",
       "</table>\n",
       "<p>11758 rows × 13 columns</p>\n",
       "</div>"
      ],
      "text/plain": [
       "        Price VehicleType  RegistrationYear Gearbox  Power Model  Kilometer  \\\n",
       "1       18300       coupe              2011  manual    190   NaN     125000   \n",
       "59          1         suv              1994  manual    286   NaN     150000   \n",
       "81        350       small              1997  manual     54   NaN     150000   \n",
       "135      1450       sedan              1992  manual    136   NaN     150000   \n",
       "160       500       small              1999  manual      0   NaN     150000   \n",
       "...       ...         ...               ...     ...    ...   ...        ...   \n",
       "354077    200       small              1998  manual     37   NaN     150000   \n",
       "354080   4300       small              2008    auto      0   NaN     150000   \n",
       "354234   5000       sedan              2002    auto    170   NaN     150000   \n",
       "354245    560       small              2001    auto    170   NaN      90000   \n",
       "354321   9400       wagon              2007  manual    200   NaN     150000   \n",
       "\n",
       "        RegistrationMonth  FuelType           Brand Repaired  \\\n",
       "1                       5  gasoline            audi      yes   \n",
       "59                     11       NaN  sonstige_autos      NaN   \n",
       "81                      3       NaN            fiat      yes   \n",
       "135                     0       NaN            audi       no   \n",
       "160                     0    petrol         renault       no   \n",
       "...                   ...       ...             ...      ...   \n",
       "354077                  4    petrol      volkswagen      yes   \n",
       "354080                  3       NaN           honda      NaN   \n",
       "354234                  0    petrol            audi       no   \n",
       "354245                  0    petrol            fiat      yes   \n",
       "354321                  4  gasoline  sonstige_autos      yes   \n",
       "\n",
       "        NumberOfPictures  PostalCode  \n",
       "1                      0       66954  \n",
       "59                     0       53721  \n",
       "81                     0       45665  \n",
       "135                    0       38709  \n",
       "160                    0       26969  \n",
       "...                  ...         ...  \n",
       "354077                 0       26382  \n",
       "354080                 0       30627  \n",
       "354234                 0       85221  \n",
       "354245                 0       55743  \n",
       "354321                 0       91186  \n",
       "\n",
       "[11758 rows x 13 columns]"
      ]
     },
     "metadata": {},
     "output_type": "display_data"
    }
   ],
   "source": [
    "missing_rows_model = data[data['Model'].isnull()]\n",
    "display(missing_rows_model)"
   ]
  },
  {
   "cell_type": "markdown",
   "metadata": {},
   "source": [
    "Аналогично, проще и логичнее удалить пропуски, так как заполнить их подходящими значениями будет очень сложно или невозможно."
   ]
  },
  {
   "cell_type": "code",
   "execution_count": 15,
   "metadata": {},
   "outputs": [
    {
     "name": "stdout",
     "output_type": "stream",
     "text": [
      "Размер датасета до удаления пропусков: (307016, 13)\n",
      "Размер датасета после удаления пропусков: (295258, 13)\n"
     ]
    }
   ],
   "source": [
    "print('Размер датасета до удаления пропусков:', data.shape)\n",
    "# удаляю пропуски из столбца Model\n",
    "data = data.dropna(subset=['Model'])\n",
    "print('Размер датасета после удаления пропусков:', data.shape)"
   ]
  },
  {
   "cell_type": "code",
   "execution_count": 16,
   "metadata": {},
   "outputs": [
    {
     "data": {
      "text/html": [
       "<div>\n",
       "<style scoped>\n",
       "    .dataframe tbody tr th:only-of-type {\n",
       "        vertical-align: middle;\n",
       "    }\n",
       "\n",
       "    .dataframe tbody tr th {\n",
       "        vertical-align: top;\n",
       "    }\n",
       "\n",
       "    .dataframe thead th {\n",
       "        text-align: right;\n",
       "    }\n",
       "</style>\n",
       "<table border=\"1\" class=\"dataframe\">\n",
       "  <thead>\n",
       "    <tr style=\"text-align: right;\">\n",
       "      <th></th>\n",
       "      <th>Price</th>\n",
       "      <th>VehicleType</th>\n",
       "      <th>RegistrationYear</th>\n",
       "      <th>Gearbox</th>\n",
       "      <th>Power</th>\n",
       "      <th>Model</th>\n",
       "      <th>Kilometer</th>\n",
       "      <th>RegistrationMonth</th>\n",
       "      <th>FuelType</th>\n",
       "      <th>Brand</th>\n",
       "      <th>Repaired</th>\n",
       "      <th>NumberOfPictures</th>\n",
       "      <th>PostalCode</th>\n",
       "    </tr>\n",
       "  </thead>\n",
       "  <tbody>\n",
       "    <tr>\n",
       "      <th>9</th>\n",
       "      <td>999</td>\n",
       "      <td>small</td>\n",
       "      <td>1998</td>\n",
       "      <td>manual</td>\n",
       "      <td>101</td>\n",
       "      <td>golf</td>\n",
       "      <td>150000</td>\n",
       "      <td>0</td>\n",
       "      <td>NaN</td>\n",
       "      <td>volkswagen</td>\n",
       "      <td>NaN</td>\n",
       "      <td>0</td>\n",
       "      <td>27472</td>\n",
       "    </tr>\n",
       "    <tr>\n",
       "      <th>13</th>\n",
       "      <td>2500</td>\n",
       "      <td>wagon</td>\n",
       "      <td>2004</td>\n",
       "      <td>manual</td>\n",
       "      <td>131</td>\n",
       "      <td>passat</td>\n",
       "      <td>150000</td>\n",
       "      <td>2</td>\n",
       "      <td>NaN</td>\n",
       "      <td>volkswagen</td>\n",
       "      <td>no</td>\n",
       "      <td>0</td>\n",
       "      <td>90762</td>\n",
       "    </tr>\n",
       "    <tr>\n",
       "      <th>36</th>\n",
       "      <td>1600</td>\n",
       "      <td>other</td>\n",
       "      <td>1991</td>\n",
       "      <td>manual</td>\n",
       "      <td>75</td>\n",
       "      <td>kadett</td>\n",
       "      <td>70000</td>\n",
       "      <td>0</td>\n",
       "      <td>NaN</td>\n",
       "      <td>opel</td>\n",
       "      <td>NaN</td>\n",
       "      <td>0</td>\n",
       "      <td>2943</td>\n",
       "    </tr>\n",
       "    <tr>\n",
       "      <th>41</th>\n",
       "      <td>7500</td>\n",
       "      <td>sedan</td>\n",
       "      <td>2002</td>\n",
       "      <td>auto</td>\n",
       "      <td>306</td>\n",
       "      <td>e_klasse</td>\n",
       "      <td>150000</td>\n",
       "      <td>4</td>\n",
       "      <td>NaN</td>\n",
       "      <td>mercedes_benz</td>\n",
       "      <td>NaN</td>\n",
       "      <td>0</td>\n",
       "      <td>33649</td>\n",
       "    </tr>\n",
       "    <tr>\n",
       "      <th>54</th>\n",
       "      <td>4700</td>\n",
       "      <td>wagon</td>\n",
       "      <td>2005</td>\n",
       "      <td>manual</td>\n",
       "      <td>0</td>\n",
       "      <td>signum</td>\n",
       "      <td>150000</td>\n",
       "      <td>0</td>\n",
       "      <td>NaN</td>\n",
       "      <td>opel</td>\n",
       "      <td>no</td>\n",
       "      <td>0</td>\n",
       "      <td>88433</td>\n",
       "    </tr>\n",
       "    <tr>\n",
       "      <th>...</th>\n",
       "      <td>...</td>\n",
       "      <td>...</td>\n",
       "      <td>...</td>\n",
       "      <td>...</td>\n",
       "      <td>...</td>\n",
       "      <td>...</td>\n",
       "      <td>...</td>\n",
       "      <td>...</td>\n",
       "      <td>...</td>\n",
       "      <td>...</td>\n",
       "      <td>...</td>\n",
       "      <td>...</td>\n",
       "      <td>...</td>\n",
       "    </tr>\n",
       "    <tr>\n",
       "      <th>354236</th>\n",
       "      <td>1799</td>\n",
       "      <td>wagon</td>\n",
       "      <td>2005</td>\n",
       "      <td>manual</td>\n",
       "      <td>180</td>\n",
       "      <td>signum</td>\n",
       "      <td>150000</td>\n",
       "      <td>1</td>\n",
       "      <td>NaN</td>\n",
       "      <td>opel</td>\n",
       "      <td>yes</td>\n",
       "      <td>0</td>\n",
       "      <td>8064</td>\n",
       "    </tr>\n",
       "    <tr>\n",
       "      <th>354265</th>\n",
       "      <td>3000</td>\n",
       "      <td>sedan</td>\n",
       "      <td>2001</td>\n",
       "      <td>auto</td>\n",
       "      <td>150</td>\n",
       "      <td>a4</td>\n",
       "      <td>150000</td>\n",
       "      <td>8</td>\n",
       "      <td>NaN</td>\n",
       "      <td>audi</td>\n",
       "      <td>yes</td>\n",
       "      <td>0</td>\n",
       "      <td>71332</td>\n",
       "    </tr>\n",
       "    <tr>\n",
       "      <th>354326</th>\n",
       "      <td>1300</td>\n",
       "      <td>small</td>\n",
       "      <td>1999</td>\n",
       "      <td>manual</td>\n",
       "      <td>75</td>\n",
       "      <td>2_reihe</td>\n",
       "      <td>125000</td>\n",
       "      <td>0</td>\n",
       "      <td>NaN</td>\n",
       "      <td>peugeot</td>\n",
       "      <td>NaN</td>\n",
       "      <td>0</td>\n",
       "      <td>35102</td>\n",
       "    </tr>\n",
       "    <tr>\n",
       "      <th>354327</th>\n",
       "      <td>2999</td>\n",
       "      <td>wagon</td>\n",
       "      <td>2004</td>\n",
       "      <td>manual</td>\n",
       "      <td>234</td>\n",
       "      <td>vectra</td>\n",
       "      <td>100000</td>\n",
       "      <td>1</td>\n",
       "      <td>NaN</td>\n",
       "      <td>opel</td>\n",
       "      <td>NaN</td>\n",
       "      <td>0</td>\n",
       "      <td>83364</td>\n",
       "    </tr>\n",
       "    <tr>\n",
       "      <th>354339</th>\n",
       "      <td>3850</td>\n",
       "      <td>convertible</td>\n",
       "      <td>2006</td>\n",
       "      <td>manual</td>\n",
       "      <td>108</td>\n",
       "      <td>2_reihe</td>\n",
       "      <td>125000</td>\n",
       "      <td>2</td>\n",
       "      <td>NaN</td>\n",
       "      <td>peugeot</td>\n",
       "      <td>no</td>\n",
       "      <td>0</td>\n",
       "      <td>53947</td>\n",
       "    </tr>\n",
       "  </tbody>\n",
       "</table>\n",
       "<p>11132 rows × 13 columns</p>\n",
       "</div>"
      ],
      "text/plain": [
       "        Price  VehicleType  RegistrationYear Gearbox  Power     Model  \\\n",
       "9         999        small              1998  manual    101      golf   \n",
       "13       2500        wagon              2004  manual    131    passat   \n",
       "36       1600        other              1991  manual     75    kadett   \n",
       "41       7500        sedan              2002    auto    306  e_klasse   \n",
       "54       4700        wagon              2005  manual      0    signum   \n",
       "...       ...          ...               ...     ...    ...       ...   \n",
       "354236   1799        wagon              2005  manual    180    signum   \n",
       "354265   3000        sedan              2001    auto    150        a4   \n",
       "354326   1300        small              1999  manual     75   2_reihe   \n",
       "354327   2999        wagon              2004  manual    234    vectra   \n",
       "354339   3850  convertible              2006  manual    108   2_reihe   \n",
       "\n",
       "        Kilometer  RegistrationMonth FuelType          Brand Repaired  \\\n",
       "9          150000                  0      NaN     volkswagen      NaN   \n",
       "13         150000                  2      NaN     volkswagen       no   \n",
       "36          70000                  0      NaN           opel      NaN   \n",
       "41         150000                  4      NaN  mercedes_benz      NaN   \n",
       "54         150000                  0      NaN           opel       no   \n",
       "...           ...                ...      ...            ...      ...   \n",
       "354236     150000                  1      NaN           opel      yes   \n",
       "354265     150000                  8      NaN           audi      yes   \n",
       "354326     125000                  0      NaN        peugeot      NaN   \n",
       "354327     100000                  1      NaN           opel      NaN   \n",
       "354339     125000                  2      NaN        peugeot       no   \n",
       "\n",
       "        NumberOfPictures  PostalCode  \n",
       "9                      0       27472  \n",
       "13                     0       90762  \n",
       "36                     0        2943  \n",
       "41                     0       33649  \n",
       "54                     0       88433  \n",
       "...                  ...         ...  \n",
       "354236                 0        8064  \n",
       "354265                 0       71332  \n",
       "354326                 0       35102  \n",
       "354327                 0       83364  \n",
       "354339                 0       53947  \n",
       "\n",
       "[11132 rows x 13 columns]"
      ]
     },
     "metadata": {},
     "output_type": "display_data"
    }
   ],
   "source": [
    "missing_rows_ftype = data[data['FuelType'].isnull()]\n",
    "display(missing_rows_ftype)"
   ]
  },
  {
   "cell_type": "markdown",
   "metadata": {},
   "source": [
    "Аналогично с трансмиссией. Авто одной и той же модели могут быть и дизельные, и бензиновые. Например 1 строчка Volkswagen Golf 1998 г.в. есть как бензиновый двигатель, так и дизельный. \n",
    "Поэтому удалю пропущенные значения."
   ]
  },
  {
   "cell_type": "code",
   "execution_count": 17,
   "metadata": {},
   "outputs": [
    {
     "name": "stdout",
     "output_type": "stream",
     "text": [
      "Размер датасета до удаления пропусков: (295258, 13)\n",
      "Размер датасета после удаления пропусков: (284126, 13)\n"
     ]
    }
   ],
   "source": [
    "print('Размер датасета до удаления пропусков:', data.shape)\n",
    "# удаляю пропуски из столбца FuelType\n",
    "data = data.dropna(subset=['FuelType'])\n",
    "print('Размер датасета после удаления пропусков:', data.shape)"
   ]
  },
  {
   "cell_type": "code",
   "execution_count": 18,
   "metadata": {},
   "outputs": [
    {
     "data": {
      "text/html": [
       "<div>\n",
       "<style scoped>\n",
       "    .dataframe tbody tr th:only-of-type {\n",
       "        vertical-align: middle;\n",
       "    }\n",
       "\n",
       "    .dataframe tbody tr th {\n",
       "        vertical-align: top;\n",
       "    }\n",
       "\n",
       "    .dataframe thead th {\n",
       "        text-align: right;\n",
       "    }\n",
       "</style>\n",
       "<table border=\"1\" class=\"dataframe\">\n",
       "  <thead>\n",
       "    <tr style=\"text-align: right;\">\n",
       "      <th></th>\n",
       "      <th>Price</th>\n",
       "      <th>VehicleType</th>\n",
       "      <th>RegistrationYear</th>\n",
       "      <th>Gearbox</th>\n",
       "      <th>Power</th>\n",
       "      <th>Model</th>\n",
       "      <th>Kilometer</th>\n",
       "      <th>RegistrationMonth</th>\n",
       "      <th>FuelType</th>\n",
       "      <th>Brand</th>\n",
       "      <th>Repaired</th>\n",
       "      <th>NumberOfPictures</th>\n",
       "      <th>PostalCode</th>\n",
       "    </tr>\n",
       "  </thead>\n",
       "  <tbody>\n",
       "    <tr>\n",
       "      <th>2</th>\n",
       "      <td>9800</td>\n",
       "      <td>suv</td>\n",
       "      <td>2004</td>\n",
       "      <td>auto</td>\n",
       "      <td>163</td>\n",
       "      <td>grand</td>\n",
       "      <td>125000</td>\n",
       "      <td>8</td>\n",
       "      <td>gasoline</td>\n",
       "      <td>jeep</td>\n",
       "      <td>NaN</td>\n",
       "      <td>0</td>\n",
       "      <td>90480</td>\n",
       "    </tr>\n",
       "    <tr>\n",
       "      <th>8</th>\n",
       "      <td>14500</td>\n",
       "      <td>bus</td>\n",
       "      <td>2014</td>\n",
       "      <td>manual</td>\n",
       "      <td>125</td>\n",
       "      <td>c_max</td>\n",
       "      <td>30000</td>\n",
       "      <td>8</td>\n",
       "      <td>petrol</td>\n",
       "      <td>ford</td>\n",
       "      <td>NaN</td>\n",
       "      <td>0</td>\n",
       "      <td>94505</td>\n",
       "    </tr>\n",
       "    <tr>\n",
       "      <th>12</th>\n",
       "      <td>999</td>\n",
       "      <td>wagon</td>\n",
       "      <td>1995</td>\n",
       "      <td>manual</td>\n",
       "      <td>115</td>\n",
       "      <td>passat</td>\n",
       "      <td>150000</td>\n",
       "      <td>11</td>\n",
       "      <td>petrol</td>\n",
       "      <td>volkswagen</td>\n",
       "      <td>NaN</td>\n",
       "      <td>0</td>\n",
       "      <td>37269</td>\n",
       "    </tr>\n",
       "    <tr>\n",
       "      <th>42</th>\n",
       "      <td>12500</td>\n",
       "      <td>sedan</td>\n",
       "      <td>2006</td>\n",
       "      <td>auto</td>\n",
       "      <td>231</td>\n",
       "      <td>5er</td>\n",
       "      <td>150000</td>\n",
       "      <td>11</td>\n",
       "      <td>gasoline</td>\n",
       "      <td>bmw</td>\n",
       "      <td>NaN</td>\n",
       "      <td>0</td>\n",
       "      <td>46119</td>\n",
       "    </tr>\n",
       "    <tr>\n",
       "      <th>44</th>\n",
       "      <td>3900</td>\n",
       "      <td>small</td>\n",
       "      <td>2008</td>\n",
       "      <td>auto</td>\n",
       "      <td>61</td>\n",
       "      <td>fortwo</td>\n",
       "      <td>80000</td>\n",
       "      <td>6</td>\n",
       "      <td>petrol</td>\n",
       "      <td>smart</td>\n",
       "      <td>NaN</td>\n",
       "      <td>0</td>\n",
       "      <td>21073</td>\n",
       "    </tr>\n",
       "    <tr>\n",
       "      <th>...</th>\n",
       "      <td>...</td>\n",
       "      <td>...</td>\n",
       "      <td>...</td>\n",
       "      <td>...</td>\n",
       "      <td>...</td>\n",
       "      <td>...</td>\n",
       "      <td>...</td>\n",
       "      <td>...</td>\n",
       "      <td>...</td>\n",
       "      <td>...</td>\n",
       "      <td>...</td>\n",
       "      <td>...</td>\n",
       "      <td>...</td>\n",
       "    </tr>\n",
       "    <tr>\n",
       "      <th>354341</th>\n",
       "      <td>699</td>\n",
       "      <td>sedan</td>\n",
       "      <td>1999</td>\n",
       "      <td>manual</td>\n",
       "      <td>101</td>\n",
       "      <td>vectra</td>\n",
       "      <td>150000</td>\n",
       "      <td>3</td>\n",
       "      <td>petrol</td>\n",
       "      <td>opel</td>\n",
       "      <td>NaN</td>\n",
       "      <td>0</td>\n",
       "      <td>65936</td>\n",
       "    </tr>\n",
       "    <tr>\n",
       "      <th>354349</th>\n",
       "      <td>5999</td>\n",
       "      <td>wagon</td>\n",
       "      <td>2005</td>\n",
       "      <td>manual</td>\n",
       "      <td>140</td>\n",
       "      <td>a4</td>\n",
       "      <td>150000</td>\n",
       "      <td>4</td>\n",
       "      <td>gasoline</td>\n",
       "      <td>audi</td>\n",
       "      <td>NaN</td>\n",
       "      <td>0</td>\n",
       "      <td>56472</td>\n",
       "    </tr>\n",
       "    <tr>\n",
       "      <th>354356</th>\n",
       "      <td>999</td>\n",
       "      <td>convertible</td>\n",
       "      <td>2000</td>\n",
       "      <td>manual</td>\n",
       "      <td>95</td>\n",
       "      <td>megane</td>\n",
       "      <td>150000</td>\n",
       "      <td>4</td>\n",
       "      <td>petrol</td>\n",
       "      <td>renault</td>\n",
       "      <td>NaN</td>\n",
       "      <td>0</td>\n",
       "      <td>88477</td>\n",
       "    </tr>\n",
       "    <tr>\n",
       "      <th>354357</th>\n",
       "      <td>1690</td>\n",
       "      <td>wagon</td>\n",
       "      <td>2004</td>\n",
       "      <td>manual</td>\n",
       "      <td>55</td>\n",
       "      <td>fabia</td>\n",
       "      <td>150000</td>\n",
       "      <td>4</td>\n",
       "      <td>petrol</td>\n",
       "      <td>skoda</td>\n",
       "      <td>NaN</td>\n",
       "      <td>0</td>\n",
       "      <td>18246</td>\n",
       "    </tr>\n",
       "    <tr>\n",
       "      <th>354368</th>\n",
       "      <td>3400</td>\n",
       "      <td>wagon</td>\n",
       "      <td>2002</td>\n",
       "      <td>manual</td>\n",
       "      <td>100</td>\n",
       "      <td>golf</td>\n",
       "      <td>150000</td>\n",
       "      <td>6</td>\n",
       "      <td>gasoline</td>\n",
       "      <td>volkswagen</td>\n",
       "      <td>NaN</td>\n",
       "      <td>0</td>\n",
       "      <td>40764</td>\n",
       "    </tr>\n",
       "  </tbody>\n",
       "</table>\n",
       "<p>38312 rows × 13 columns</p>\n",
       "</div>"
      ],
      "text/plain": [
       "        Price  VehicleType  RegistrationYear Gearbox  Power   Model  \\\n",
       "2        9800          suv              2004    auto    163   grand   \n",
       "8       14500          bus              2014  manual    125   c_max   \n",
       "12        999        wagon              1995  manual    115  passat   \n",
       "42      12500        sedan              2006    auto    231     5er   \n",
       "44       3900        small              2008    auto     61  fortwo   \n",
       "...       ...          ...               ...     ...    ...     ...   \n",
       "354341    699        sedan              1999  manual    101  vectra   \n",
       "354349   5999        wagon              2005  manual    140      a4   \n",
       "354356    999  convertible              2000  manual     95  megane   \n",
       "354357   1690        wagon              2004  manual     55   fabia   \n",
       "354368   3400        wagon              2002  manual    100    golf   \n",
       "\n",
       "        Kilometer  RegistrationMonth  FuelType       Brand Repaired  \\\n",
       "2          125000                  8  gasoline        jeep      NaN   \n",
       "8           30000                  8    petrol        ford      NaN   \n",
       "12         150000                 11    petrol  volkswagen      NaN   \n",
       "42         150000                 11  gasoline         bmw      NaN   \n",
       "44          80000                  6    petrol       smart      NaN   \n",
       "...           ...                ...       ...         ...      ...   \n",
       "354341     150000                  3    petrol        opel      NaN   \n",
       "354349     150000                  4  gasoline        audi      NaN   \n",
       "354356     150000                  4    petrol     renault      NaN   \n",
       "354357     150000                  4    petrol       skoda      NaN   \n",
       "354368     150000                  6  gasoline  volkswagen      NaN   \n",
       "\n",
       "        NumberOfPictures  PostalCode  \n",
       "2                      0       90480  \n",
       "8                      0       94505  \n",
       "12                     0       37269  \n",
       "42                     0       46119  \n",
       "44                     0       21073  \n",
       "...                  ...         ...  \n",
       "354341                 0       65936  \n",
       "354349                 0       56472  \n",
       "354356                 0       88477  \n",
       "354357                 0       18246  \n",
       "354368                 0       40764  \n",
       "\n",
       "[38312 rows x 13 columns]"
      ]
     },
     "metadata": {},
     "output_type": "display_data"
    }
   ],
   "source": [
    "\n",
    "missing_rows_rp = data[data['Repaired'].isnull()]\n",
    "display(missing_rows_rp)"
   ]
  },
  {
   "cell_type": "markdown",
   "metadata": {},
   "source": [
    "Здесь у нас уже много пропусков, которые удалять не хочется, особенно учитывая, что есть столбец с пробегом, по которому можно попробовать понять был ли авто в ремонте. Можно поискать в интернете средний пробег после, которого авто попадает в ремонт, и заполнить пропуски. \n",
    "\n",
    "В среднем проблемы начинаются после 100 - 120 пробега. Возьму порог в 120 000 км"
   ]
  },
  {
   "cell_type": "code",
   "execution_count": 19,
   "metadata": {},
   "outputs": [],
   "source": [
    "for index, row in data.iterrows():\n",
    "    if pd.isna(row['Repaired']):\n",
    "        if row['Kilometer'] < 120000:\n",
    "            data.loc[index, 'Repaired'] = 'no'\n",
    "        else:\n",
    "            data.loc[index, 'Repaired'] = 'yes'"
   ]
  },
  {
   "cell_type": "code",
   "execution_count": 20,
   "metadata": {},
   "outputs": [
    {
     "name": "stdout",
     "output_type": "stream",
     "text": [
      "<class 'pandas.core.frame.DataFrame'>\n",
      "Int64Index: 284126 entries, 2 to 354368\n",
      "Data columns (total 13 columns):\n",
      " #   Column             Non-Null Count   Dtype \n",
      "---  ------             --------------   ----- \n",
      " 0   Price              284126 non-null  int64 \n",
      " 1   VehicleType        284126 non-null  object\n",
      " 2   RegistrationYear   284126 non-null  int64 \n",
      " 3   Gearbox            284126 non-null  object\n",
      " 4   Power              284126 non-null  int64 \n",
      " 5   Model              284126 non-null  object\n",
      " 6   Kilometer          284126 non-null  int64 \n",
      " 7   RegistrationMonth  284126 non-null  int64 \n",
      " 8   FuelType           284126 non-null  object\n",
      " 9   Brand              284126 non-null  object\n",
      " 10  Repaired           284126 non-null  object\n",
      " 11  NumberOfPictures   284126 non-null  int64 \n",
      " 12  PostalCode         284126 non-null  int64 \n",
      "dtypes: int64(7), object(6)\n",
      "memory usage: 38.4+ MB\n"
     ]
    }
   ],
   "source": [
    "data.info()"
   ]
  },
  {
   "cell_type": "markdown",
   "metadata": {},
   "source": [
    "Итого: \n",
    "- Заполнены пропуски в столбце Repaired \n",
    "- В остальных столбцах пропуски были удалены\n",
    "\n",
    "Можно переходить к поиску аномалий"
   ]
  },
  {
   "cell_type": "code",
   "execution_count": 21,
   "metadata": {},
   "outputs": [
    {
     "data": {
      "text/html": [
       "<div>\n",
       "<style scoped>\n",
       "    .dataframe tbody tr th:only-of-type {\n",
       "        vertical-align: middle;\n",
       "    }\n",
       "\n",
       "    .dataframe tbody tr th {\n",
       "        vertical-align: top;\n",
       "    }\n",
       "\n",
       "    .dataframe thead th {\n",
       "        text-align: right;\n",
       "    }\n",
       "</style>\n",
       "<table border=\"1\" class=\"dataframe\">\n",
       "  <thead>\n",
       "    <tr style=\"text-align: right;\">\n",
       "      <th></th>\n",
       "      <th>Price</th>\n",
       "      <th>RegistrationYear</th>\n",
       "      <th>Power</th>\n",
       "      <th>Kilometer</th>\n",
       "      <th>RegistrationMonth</th>\n",
       "      <th>NumberOfPictures</th>\n",
       "      <th>PostalCode</th>\n",
       "    </tr>\n",
       "  </thead>\n",
       "  <tbody>\n",
       "    <tr>\n",
       "      <th>count</th>\n",
       "      <td>284126.000000</td>\n",
       "      <td>284126.000000</td>\n",
       "      <td>284126.000000</td>\n",
       "      <td>284126.000000</td>\n",
       "      <td>284126.000000</td>\n",
       "      <td>284126.0</td>\n",
       "      <td>284126.000000</td>\n",
       "    </tr>\n",
       "    <tr>\n",
       "      <th>mean</th>\n",
       "      <td>4847.265516</td>\n",
       "      <td>2002.567861</td>\n",
       "      <td>117.727213</td>\n",
       "      <td>128261.651521</td>\n",
       "      <td>6.071577</td>\n",
       "      <td>0.0</td>\n",
       "      <td>51094.901026</td>\n",
       "    </tr>\n",
       "    <tr>\n",
       "      <th>std</th>\n",
       "      <td>4637.056831</td>\n",
       "      <td>6.243808</td>\n",
       "      <td>169.107292</td>\n",
       "      <td>36739.971043</td>\n",
       "      <td>3.548155</td>\n",
       "      <td>0.0</td>\n",
       "      <td>25775.683653</td>\n",
       "    </tr>\n",
       "    <tr>\n",
       "      <th>min</th>\n",
       "      <td>0.000000</td>\n",
       "      <td>1910.000000</td>\n",
       "      <td>0.000000</td>\n",
       "      <td>5000.000000</td>\n",
       "      <td>0.000000</td>\n",
       "      <td>0.0</td>\n",
       "      <td>1067.000000</td>\n",
       "    </tr>\n",
       "    <tr>\n",
       "      <th>25%</th>\n",
       "      <td>1300.000000</td>\n",
       "      <td>1999.000000</td>\n",
       "      <td>75.000000</td>\n",
       "      <td>125000.000000</td>\n",
       "      <td>3.000000</td>\n",
       "      <td>0.0</td>\n",
       "      <td>30851.000000</td>\n",
       "    </tr>\n",
       "    <tr>\n",
       "      <th>50%</th>\n",
       "      <td>3199.000000</td>\n",
       "      <td>2003.000000</td>\n",
       "      <td>109.000000</td>\n",
       "      <td>150000.000000</td>\n",
       "      <td>6.000000</td>\n",
       "      <td>0.0</td>\n",
       "      <td>50170.000000</td>\n",
       "    </tr>\n",
       "    <tr>\n",
       "      <th>75%</th>\n",
       "      <td>6999.000000</td>\n",
       "      <td>2007.000000</td>\n",
       "      <td>147.000000</td>\n",
       "      <td>150000.000000</td>\n",
       "      <td>9.000000</td>\n",
       "      <td>0.0</td>\n",
       "      <td>71706.000000</td>\n",
       "    </tr>\n",
       "    <tr>\n",
       "      <th>max</th>\n",
       "      <td>20000.000000</td>\n",
       "      <td>2018.000000</td>\n",
       "      <td>20000.000000</td>\n",
       "      <td>150000.000000</td>\n",
       "      <td>12.000000</td>\n",
       "      <td>0.0</td>\n",
       "      <td>99998.000000</td>\n",
       "    </tr>\n",
       "  </tbody>\n",
       "</table>\n",
       "</div>"
      ],
      "text/plain": [
       "               Price  RegistrationYear          Power      Kilometer  \\\n",
       "count  284126.000000     284126.000000  284126.000000  284126.000000   \n",
       "mean     4847.265516       2002.567861     117.727213  128261.651521   \n",
       "std      4637.056831          6.243808     169.107292   36739.971043   \n",
       "min         0.000000       1910.000000       0.000000    5000.000000   \n",
       "25%      1300.000000       1999.000000      75.000000  125000.000000   \n",
       "50%      3199.000000       2003.000000     109.000000  150000.000000   \n",
       "75%      6999.000000       2007.000000     147.000000  150000.000000   \n",
       "max     20000.000000       2018.000000   20000.000000  150000.000000   \n",
       "\n",
       "       RegistrationMonth  NumberOfPictures     PostalCode  \n",
       "count      284126.000000          284126.0  284126.000000  \n",
       "mean            6.071577               0.0   51094.901026  \n",
       "std             3.548155               0.0   25775.683653  \n",
       "min             0.000000               0.0    1067.000000  \n",
       "25%             3.000000               0.0   30851.000000  \n",
       "50%             6.000000               0.0   50170.000000  \n",
       "75%             9.000000               0.0   71706.000000  \n",
       "max            12.000000               0.0   99998.000000  "
      ]
     },
     "execution_count": 21,
     "metadata": {},
     "output_type": "execute_result"
    }
   ],
   "source": [
    "data.describe()"
   ]
  },
  {
   "cell_type": "markdown",
   "metadata": {},
   "source": [
    "Что сразу бросается в глаза:\n",
    "\n",
    "- столбец Price: min = 0. Кажется, что в данном случае не было речи о бесплатных авто\n",
    "- столбец RegistrationYear: min = 1910. В теории возможно, но нужно проверить\n",
    "- столбец Power: min = 0. Такого точно быть не может. Помимо нулевой мощности max = 20000, во что тоже верится с трудом.\n",
    "- столбец Kilometer: на первый взгляд все ок\n",
    "- столбец RegistrationMonth: min = 0. Не зарегистрированный авто? Ошибка?\n",
    "- столбец NumberOfPictures: все значения равны 0? Можно от него тогда избавиться, т.к. он неинформативен."
   ]
  },
  {
   "cell_type": "code",
   "execution_count": 22,
   "metadata": {},
   "outputs": [
    {
     "data": {
      "image/png": "[encoded data removed]",
      "text/plain": [
       "<Figure size 432x288 with 1 Axes>"
      ]
     },
     "metadata": {
      "needs_background": "light"
     },
     "output_type": "display_data"
    }
   ],
   "source": [
    "# построю графики для столбцов для наглядности\n",
    "plt.hist(data['Price'], bins=50)\n",
    "\n",
    "plt.title('Цена')\n",
    "plt.xlabel('Значения')\n",
    "plt.ylabel('Частота')\n",
    "plt.grid(True)\n",
    "\n",
    "\n",
    "plt.show()"
   ]
  },
  {
   "cell_type": "code",
   "execution_count": 23,
   "metadata": {},
   "outputs": [
    {
     "data": {
      "image/png": "[encoded data removed]",
      "text/plain": [
       "<Figure size 432x288 with 1 Axes>"
      ]
     },
     "metadata": {
      "needs_background": "light"
     },
     "output_type": "display_data"
    }
   ],
   "source": [
    "plt.hist(data['RegistrationYear'], bins=50)\n",
    "\n",
    "plt.title('Год регистрации авто')\n",
    "plt.xlabel('Значения')\n",
    "plt.ylabel('Частота')\n",
    "plt.grid(True)\n",
    "\n",
    "\n",
    "plt.show()"
   ]
  },
  {
   "cell_type": "code",
   "execution_count": 24,
   "metadata": {},
   "outputs": [
    {
     "data": {
      "image/png": "[encoded data removed]",
      "text/plain": [
       "<Figure size 432x288 with 1 Axes>"
      ]
     },
     "metadata": {
      "needs_background": "light"
     },
     "output_type": "display_data"
    }
   ],
   "source": [
    "plt.hist(data['Power'], bins=500)\n",
    "\n",
    "plt.title('Мощность в л.с.')\n",
    "plt.xlabel('Значения')\n",
    "plt.ylabel('Частота')\n",
    "plt.grid(True)\n",
    "plt.xlim(0,500)\n",
    "\n",
    "plt.show()"
   ]
  },
  {
   "cell_type": "code",
   "execution_count": 25,
   "metadata": {},
   "outputs": [
    {
     "data": {
      "image/png": "[encoded data removed]",
      "text/plain": [
       "<Figure size 432x288 with 1 Axes>"
      ]
     },
     "metadata": {
      "needs_background": "light"
     },
     "output_type": "display_data"
    }
   ],
   "source": [
    "plt.hist(data['RegistrationMonth'], bins=50)\n",
    "\n",
    "plt.title('Месяц регистрации авто')\n",
    "plt.xlabel('Значения')\n",
    "plt.ylabel('Частота')\n",
    "plt.grid(True)\n",
    "\n",
    "plt.show()"
   ]
  },
  {
   "cell_type": "code",
   "execution_count": 26,
   "metadata": {},
   "outputs": [
    {
     "data": {
      "text/plain": [
       "array([0])"
      ]
     },
     "execution_count": 26,
     "metadata": {},
     "output_type": "execute_result"
    }
   ],
   "source": [
    "data['NumberOfPictures'].unique() "
   ]
  },
  {
   "cell_type": "markdown",
   "metadata": {},
   "source": [
    "Начнем с количества фотографий авто. Столбец на самом деле содержит только 0 значения. Удалю его из дс."
   ]
  },
  {
   "cell_type": "code",
   "execution_count": 27,
   "metadata": {},
   "outputs": [
    {
     "data": {
      "text/html": [
       "<div>\n",
       "<style scoped>\n",
       "    .dataframe tbody tr th:only-of-type {\n",
       "        vertical-align: middle;\n",
       "    }\n",
       "\n",
       "    .dataframe tbody tr th {\n",
       "        vertical-align: top;\n",
       "    }\n",
       "\n",
       "    .dataframe thead th {\n",
       "        text-align: right;\n",
       "    }\n",
       "</style>\n",
       "<table border=\"1\" class=\"dataframe\">\n",
       "  <thead>\n",
       "    <tr style=\"text-align: right;\">\n",
       "      <th></th>\n",
       "      <th>Price</th>\n",
       "      <th>VehicleType</th>\n",
       "      <th>RegistrationYear</th>\n",
       "      <th>Gearbox</th>\n",
       "      <th>Power</th>\n",
       "      <th>Model</th>\n",
       "      <th>Kilometer</th>\n",
       "      <th>RegistrationMonth</th>\n",
       "      <th>FuelType</th>\n",
       "      <th>Brand</th>\n",
       "      <th>Repaired</th>\n",
       "      <th>PostalCode</th>\n",
       "    </tr>\n",
       "  </thead>\n",
       "  <tbody>\n",
       "    <tr>\n",
       "      <th>2</th>\n",
       "      <td>9800</td>\n",
       "      <td>suv</td>\n",
       "      <td>2004</td>\n",
       "      <td>auto</td>\n",
       "      <td>163</td>\n",
       "      <td>grand</td>\n",
       "      <td>125000</td>\n",
       "      <td>8</td>\n",
       "      <td>gasoline</td>\n",
       "      <td>jeep</td>\n",
       "      <td>yes</td>\n",
       "      <td>90480</td>\n",
       "    </tr>\n",
       "    <tr>\n",
       "      <th>3</th>\n",
       "      <td>1500</td>\n",
       "      <td>small</td>\n",
       "      <td>2001</td>\n",
       "      <td>manual</td>\n",
       "      <td>75</td>\n",
       "      <td>golf</td>\n",
       "      <td>150000</td>\n",
       "      <td>6</td>\n",
       "      <td>petrol</td>\n",
       "      <td>volkswagen</td>\n",
       "      <td>no</td>\n",
       "      <td>91074</td>\n",
       "    </tr>\n",
       "    <tr>\n",
       "      <th>4</th>\n",
       "      <td>3600</td>\n",
       "      <td>small</td>\n",
       "      <td>2008</td>\n",
       "      <td>manual</td>\n",
       "      <td>69</td>\n",
       "      <td>fabia</td>\n",
       "      <td>90000</td>\n",
       "      <td>7</td>\n",
       "      <td>gasoline</td>\n",
       "      <td>skoda</td>\n",
       "      <td>no</td>\n",
       "      <td>60437</td>\n",
       "    </tr>\n",
       "    <tr>\n",
       "      <th>5</th>\n",
       "      <td>650</td>\n",
       "      <td>sedan</td>\n",
       "      <td>1995</td>\n",
       "      <td>manual</td>\n",
       "      <td>102</td>\n",
       "      <td>3er</td>\n",
       "      <td>150000</td>\n",
       "      <td>10</td>\n",
       "      <td>petrol</td>\n",
       "      <td>bmw</td>\n",
       "      <td>yes</td>\n",
       "      <td>33775</td>\n",
       "    </tr>\n",
       "    <tr>\n",
       "      <th>6</th>\n",
       "      <td>2200</td>\n",
       "      <td>convertible</td>\n",
       "      <td>2004</td>\n",
       "      <td>manual</td>\n",
       "      <td>109</td>\n",
       "      <td>2_reihe</td>\n",
       "      <td>150000</td>\n",
       "      <td>8</td>\n",
       "      <td>petrol</td>\n",
       "      <td>peugeot</td>\n",
       "      <td>no</td>\n",
       "      <td>67112</td>\n",
       "    </tr>\n",
       "  </tbody>\n",
       "</table>\n",
       "</div>"
      ],
      "text/plain": [
       "   Price  VehicleType  RegistrationYear Gearbox  Power    Model  Kilometer  \\\n",
       "2   9800          suv              2004    auto    163    grand     125000   \n",
       "3   1500        small              2001  manual     75     golf     150000   \n",
       "4   3600        small              2008  manual     69    fabia      90000   \n",
       "5    650        sedan              1995  manual    102      3er     150000   \n",
       "6   2200  convertible              2004  manual    109  2_reihe     150000   \n",
       "\n",
       "   RegistrationMonth  FuelType       Brand Repaired  PostalCode  \n",
       "2                  8  gasoline        jeep      yes       90480  \n",
       "3                  6    petrol  volkswagen       no       91074  \n",
       "4                  7  gasoline       skoda       no       60437  \n",
       "5                 10    petrol         bmw      yes       33775  \n",
       "6                  8    petrol     peugeot       no       67112  "
      ]
     },
     "execution_count": 27,
     "metadata": {},
     "output_type": "execute_result"
    }
   ],
   "source": [
    "data = data.drop('NumberOfPictures', axis=1)\n",
    "data.head()"
   ]
  },
  {
   "cell_type": "code",
   "execution_count": 28,
   "metadata": {},
   "outputs": [
    {
     "data": {
      "text/html": [
       "<div>\n",
       "<style scoped>\n",
       "    .dataframe tbody tr th:only-of-type {\n",
       "        vertical-align: middle;\n",
       "    }\n",
       "\n",
       "    .dataframe tbody tr th {\n",
       "        vertical-align: top;\n",
       "    }\n",
       "\n",
       "    .dataframe thead th {\n",
       "        text-align: right;\n",
       "    }\n",
       "</style>\n",
       "<table border=\"1\" class=\"dataframe\">\n",
       "  <thead>\n",
       "    <tr style=\"text-align: right;\">\n",
       "      <th></th>\n",
       "      <th>Price</th>\n",
       "      <th>VehicleType</th>\n",
       "      <th>RegistrationYear</th>\n",
       "      <th>Gearbox</th>\n",
       "      <th>Power</th>\n",
       "      <th>Model</th>\n",
       "      <th>Kilometer</th>\n",
       "      <th>RegistrationMonth</th>\n",
       "      <th>FuelType</th>\n",
       "      <th>Brand</th>\n",
       "      <th>Repaired</th>\n",
       "      <th>PostalCode</th>\n",
       "    </tr>\n",
       "  </thead>\n",
       "  <tbody>\n",
       "    <tr>\n",
       "      <th>7</th>\n",
       "      <td>0</td>\n",
       "      <td>sedan</td>\n",
       "      <td>1980</td>\n",
       "      <td>manual</td>\n",
       "      <td>50</td>\n",
       "      <td>other</td>\n",
       "      <td>40000</td>\n",
       "      <td>7</td>\n",
       "      <td>petrol</td>\n",
       "      <td>volkswagen</td>\n",
       "      <td>no</td>\n",
       "      <td>19348</td>\n",
       "    </tr>\n",
       "    <tr>\n",
       "      <th>152</th>\n",
       "      <td>0</td>\n",
       "      <td>bus</td>\n",
       "      <td>2004</td>\n",
       "      <td>manual</td>\n",
       "      <td>101</td>\n",
       "      <td>meriva</td>\n",
       "      <td>150000</td>\n",
       "      <td>10</td>\n",
       "      <td>lpg</td>\n",
       "      <td>opel</td>\n",
       "      <td>yes</td>\n",
       "      <td>27432</td>\n",
       "    </tr>\n",
       "    <tr>\n",
       "      <th>579</th>\n",
       "      <td>0</td>\n",
       "      <td>sedan</td>\n",
       "      <td>1996</td>\n",
       "      <td>manual</td>\n",
       "      <td>170</td>\n",
       "      <td>5er</td>\n",
       "      <td>150000</td>\n",
       "      <td>0</td>\n",
       "      <td>petrol</td>\n",
       "      <td>bmw</td>\n",
       "      <td>no</td>\n",
       "      <td>48529</td>\n",
       "    </tr>\n",
       "    <tr>\n",
       "      <th>590</th>\n",
       "      <td>0</td>\n",
       "      <td>sedan</td>\n",
       "      <td>1997</td>\n",
       "      <td>manual</td>\n",
       "      <td>0</td>\n",
       "      <td>3er</td>\n",
       "      <td>150000</td>\n",
       "      <td>0</td>\n",
       "      <td>petrol</td>\n",
       "      <td>bmw</td>\n",
       "      <td>yes</td>\n",
       "      <td>10319</td>\n",
       "    </tr>\n",
       "    <tr>\n",
       "      <th>615</th>\n",
       "      <td>0</td>\n",
       "      <td>sedan</td>\n",
       "      <td>1998</td>\n",
       "      <td>manual</td>\n",
       "      <td>75</td>\n",
       "      <td>polo</td>\n",
       "      <td>150000</td>\n",
       "      <td>0</td>\n",
       "      <td>petrol</td>\n",
       "      <td>volkswagen</td>\n",
       "      <td>yes</td>\n",
       "      <td>68766</td>\n",
       "    </tr>\n",
       "    <tr>\n",
       "      <th>730</th>\n",
       "      <td>0</td>\n",
       "      <td>small</td>\n",
       "      <td>2005</td>\n",
       "      <td>manual</td>\n",
       "      <td>75</td>\n",
       "      <td>2_reihe</td>\n",
       "      <td>150000</td>\n",
       "      <td>0</td>\n",
       "      <td>petrol</td>\n",
       "      <td>peugeot</td>\n",
       "      <td>yes</td>\n",
       "      <td>50374</td>\n",
       "    </tr>\n",
       "    <tr>\n",
       "      <th>859</th>\n",
       "      <td>0</td>\n",
       "      <td>wagon</td>\n",
       "      <td>2009</td>\n",
       "      <td>manual</td>\n",
       "      <td>170</td>\n",
       "      <td>a6</td>\n",
       "      <td>150000</td>\n",
       "      <td>1</td>\n",
       "      <td>gasoline</td>\n",
       "      <td>audi</td>\n",
       "      <td>yes</td>\n",
       "      <td>79822</td>\n",
       "    </tr>\n",
       "    <tr>\n",
       "      <th>950</th>\n",
       "      <td>0</td>\n",
       "      <td>small</td>\n",
       "      <td>2000</td>\n",
       "      <td>manual</td>\n",
       "      <td>0</td>\n",
       "      <td>corsa</td>\n",
       "      <td>150000</td>\n",
       "      <td>5</td>\n",
       "      <td>petrol</td>\n",
       "      <td>opel</td>\n",
       "      <td>no</td>\n",
       "      <td>26215</td>\n",
       "    </tr>\n",
       "    <tr>\n",
       "      <th>1032</th>\n",
       "      <td>0</td>\n",
       "      <td>small</td>\n",
       "      <td>2003</td>\n",
       "      <td>auto</td>\n",
       "      <td>170</td>\n",
       "      <td>stilo</td>\n",
       "      <td>150000</td>\n",
       "      <td>3</td>\n",
       "      <td>petrol</td>\n",
       "      <td>fiat</td>\n",
       "      <td>no</td>\n",
       "      <td>80634</td>\n",
       "    </tr>\n",
       "    <tr>\n",
       "      <th>1034</th>\n",
       "      <td>0</td>\n",
       "      <td>sedan</td>\n",
       "      <td>1999</td>\n",
       "      <td>manual</td>\n",
       "      <td>0</td>\n",
       "      <td>espace</td>\n",
       "      <td>150000</td>\n",
       "      <td>3</td>\n",
       "      <td>petrol</td>\n",
       "      <td>renault</td>\n",
       "      <td>no</td>\n",
       "      <td>13589</td>\n",
       "    </tr>\n",
       "  </tbody>\n",
       "</table>\n",
       "</div>"
      ],
      "text/plain": [
       "      Price VehicleType  RegistrationYear Gearbox  Power    Model  Kilometer  \\\n",
       "7         0       sedan              1980  manual     50    other      40000   \n",
       "152       0         bus              2004  manual    101   meriva     150000   \n",
       "579       0       sedan              1996  manual    170      5er     150000   \n",
       "590       0       sedan              1997  manual      0      3er     150000   \n",
       "615       0       sedan              1998  manual     75     polo     150000   \n",
       "730       0       small              2005  manual     75  2_reihe     150000   \n",
       "859       0       wagon              2009  manual    170       a6     150000   \n",
       "950       0       small              2000  manual      0    corsa     150000   \n",
       "1032      0       small              2003    auto    170    stilo     150000   \n",
       "1034      0       sedan              1999  manual      0   espace     150000   \n",
       "\n",
       "      RegistrationMonth  FuelType       Brand Repaired  PostalCode  \n",
       "7                     7    petrol  volkswagen       no       19348  \n",
       "152                  10       lpg        opel      yes       27432  \n",
       "579                   0    petrol         bmw       no       48529  \n",
       "590                   0    petrol         bmw      yes       10319  \n",
       "615                   0    petrol  volkswagen      yes       68766  \n",
       "730                   0    petrol     peugeot      yes       50374  \n",
       "859                   1  gasoline        audi      yes       79822  \n",
       "950                   5    petrol        opel       no       26215  \n",
       "1032                  3    petrol        fiat       no       80634  \n",
       "1034                  3    petrol     renault       no       13589  "
      ]
     },
     "execution_count": 28,
     "metadata": {},
     "output_type": "execute_result"
    }
   ],
   "source": [
    "# посмотрю 0 значения в столбце Price\n",
    "data[data['Price'] == 0].head(10)"
   ]
  },
  {
   "cell_type": "code",
   "execution_count": 29,
   "metadata": {},
   "outputs": [
    {
     "data": {
      "text/plain": [
       "Price                5041\n",
       "VehicleType          5041\n",
       "RegistrationYear     5041\n",
       "Gearbox              5041\n",
       "Power                5041\n",
       "Model                5041\n",
       "Kilometer            5041\n",
       "RegistrationMonth    5041\n",
       "FuelType             5041\n",
       "Brand                5041\n",
       "Repaired             5041\n",
       "PostalCode           5041\n",
       "dtype: int64"
      ]
     },
     "execution_count": 29,
     "metadata": {},
     "output_type": "execute_result"
    }
   ],
   "source": [
    "data[data['Price'] == 0].count()"
   ]
  },
  {
   "cell_type": "markdown",
   "metadata": {},
   "source": [
    "В данном случае лучше удалить аномалии."
   ]
  },
  {
   "cell_type": "code",
   "execution_count": 30,
   "metadata": {},
   "outputs": [
    {
     "data": {
      "text/plain": [
       "(284126, 12)"
      ]
     },
     "execution_count": 30,
     "metadata": {},
     "output_type": "execute_result"
    }
   ],
   "source": [
    "data.shape"
   ]
  },
  {
   "cell_type": "code",
   "execution_count": 31,
   "metadata": {},
   "outputs": [
    {
     "data": {
      "text/plain": [
       "(279085, 12)"
      ]
     },
     "execution_count": 31,
     "metadata": {},
     "output_type": "execute_result"
    }
   ],
   "source": [
    "data = data[data['Price'] != 0]\n",
    "data.shape"
   ]
  },
  {
   "cell_type": "code",
   "execution_count": 32,
   "metadata": {},
   "outputs": [
    {
     "data": {
      "text/plain": [
       "Price                113\n",
       "VehicleType          113\n",
       "RegistrationYear     113\n",
       "Gearbox              113\n",
       "Power                113\n",
       "Model                113\n",
       "Kilometer            113\n",
       "RegistrationMonth    113\n",
       "FuelType             113\n",
       "Brand                113\n",
       "Repaired             113\n",
       "PostalCode           113\n",
       "dtype: int64"
      ]
     },
     "execution_count": 32,
     "metadata": {},
     "output_type": "execute_result"
    }
   ],
   "source": [
    "# перехожу к году регистрации\n",
    "data[data['RegistrationYear'] < 1960].count()"
   ]
  },
  {
   "cell_type": "markdown",
   "metadata": {},
   "source": [
    "Если смотреть график, то видно, что объем по количеству регистрируемых автомобилей в год начинает расти примерно с 1960. Все что до этого, это либо очень старые авто (что никак не проверить), либо опечатки при заполнении данных. Например, ниже можно увидеть автомобиль mitsubishi eclipse, зарегистрированный в 1910 году, но выпускаемый с 1962."
   ]
  },
  {
   "cell_type": "code",
   "execution_count": 33,
   "metadata": {
    "scrolled": true
   },
   "outputs": [
    {
     "data": {
      "text/html": [
       "<div>\n",
       "<style scoped>\n",
       "    .dataframe tbody tr th:only-of-type {\n",
       "        vertical-align: middle;\n",
       "    }\n",
       "\n",
       "    .dataframe tbody tr th {\n",
       "        vertical-align: top;\n",
       "    }\n",
       "\n",
       "    .dataframe thead th {\n",
       "        text-align: right;\n",
       "    }\n",
       "</style>\n",
       "<table border=\"1\" class=\"dataframe\">\n",
       "  <thead>\n",
       "    <tr style=\"text-align: right;\">\n",
       "      <th></th>\n",
       "      <th>Price</th>\n",
       "      <th>VehicleType</th>\n",
       "      <th>RegistrationYear</th>\n",
       "      <th>Gearbox</th>\n",
       "      <th>Power</th>\n",
       "      <th>Model</th>\n",
       "      <th>Kilometer</th>\n",
       "      <th>RegistrationMonth</th>\n",
       "      <th>FuelType</th>\n",
       "      <th>Brand</th>\n",
       "      <th>Repaired</th>\n",
       "      <th>PostalCode</th>\n",
       "    </tr>\n",
       "  </thead>\n",
       "  <tbody>\n",
       "    <tr>\n",
       "      <th>23750</th>\n",
       "      <td>3900</td>\n",
       "      <td>wagon</td>\n",
       "      <td>1910</td>\n",
       "      <td>manual</td>\n",
       "      <td>90</td>\n",
       "      <td>passat</td>\n",
       "      <td>150000</td>\n",
       "      <td>0</td>\n",
       "      <td>petrol</td>\n",
       "      <td>volkswagen</td>\n",
       "      <td>yes</td>\n",
       "      <td>88662</td>\n",
       "    </tr>\n",
       "    <tr>\n",
       "      <th>98056</th>\n",
       "      <td>1</td>\n",
       "      <td>sedan</td>\n",
       "      <td>1910</td>\n",
       "      <td>manual</td>\n",
       "      <td>10</td>\n",
       "      <td>other</td>\n",
       "      <td>5000</td>\n",
       "      <td>2</td>\n",
       "      <td>gasoline</td>\n",
       "      <td>mercedes_benz</td>\n",
       "      <td>no</td>\n",
       "      <td>70173</td>\n",
       "    </tr>\n",
       "    <tr>\n",
       "      <th>218273</th>\n",
       "      <td>1</td>\n",
       "      <td>convertible</td>\n",
       "      <td>1910</td>\n",
       "      <td>manual</td>\n",
       "      <td>0</td>\n",
       "      <td>other</td>\n",
       "      <td>5000</td>\n",
       "      <td>0</td>\n",
       "      <td>petrol</td>\n",
       "      <td>fiat</td>\n",
       "      <td>no</td>\n",
       "      <td>47169</td>\n",
       "    </tr>\n",
       "  </tbody>\n",
       "</table>\n",
       "</div>"
      ],
      "text/plain": [
       "        Price  VehicleType  RegistrationYear Gearbox  Power   Model  \\\n",
       "23750    3900        wagon              1910  manual     90  passat   \n",
       "98056       1        sedan              1910  manual     10   other   \n",
       "218273      1  convertible              1910  manual      0   other   \n",
       "\n",
       "        Kilometer  RegistrationMonth  FuelType          Brand Repaired  \\\n",
       "23750      150000                  0    petrol     volkswagen      yes   \n",
       "98056        5000                  2  gasoline  mercedes_benz       no   \n",
       "218273       5000                  0    petrol           fiat       no   \n",
       "\n",
       "        PostalCode  \n",
       "23750        88662  \n",
       "98056        70173  \n",
       "218273       47169  "
      ]
     },
     "execution_count": 33,
     "metadata": {},
     "output_type": "execute_result"
    }
   ],
   "source": [
    "data[data['RegistrationYear'] == 1910].head()"
   ]
  },
  {
   "cell_type": "code",
   "execution_count": 34,
   "metadata": {},
   "outputs": [
    {
     "data": {
      "text/plain": [
       "(278972, 12)"
      ]
     },
     "execution_count": 34,
     "metadata": {},
     "output_type": "execute_result"
    }
   ],
   "source": [
    "# исходя из вышеперечисленного, оставлю в датасете только записи о регистрации авто, начиная с 1960 года.\n",
    "data = data[data['RegistrationYear'] >= 1960]\n",
    "data.shape"
   ]
  },
  {
   "cell_type": "code",
   "execution_count": 35,
   "metadata": {},
   "outputs": [
    {
     "data": {
      "text/plain": [
       "(278957, 12)"
      ]
     },
     "execution_count": 35,
     "metadata": {},
     "output_type": "execute_result"
    }
   ],
   "source": [
    "# добавляю фильтр по верхней границе даты регистрации.\n",
    "data = data[data['RegistrationYear'] <= 2016]\n",
    "data.shape"
   ]
  },
  {
   "cell_type": "code",
   "execution_count": 36,
   "metadata": {},
   "outputs": [
    {
     "data": {
      "text/plain": [
       "Price                15201\n",
       "VehicleType          15201\n",
       "RegistrationYear     15201\n",
       "Gearbox              15201\n",
       "Power                15201\n",
       "Model                15201\n",
       "Kilometer            15201\n",
       "RegistrationMonth    15201\n",
       "FuelType             15201\n",
       "Brand                15201\n",
       "Repaired             15201\n",
       "PostalCode           15201\n",
       "dtype: int64"
      ]
     },
     "execution_count": 36,
     "metadata": {},
     "output_type": "execute_result"
    }
   ],
   "source": [
    "# теперь нужно посмотреть столбец Power и его нулевые значения\n",
    "data[data['Power'] == 0].count()"
   ]
  },
  {
   "cell_type": "code",
   "execution_count": 37,
   "metadata": {},
   "outputs": [
    {
     "data": {
      "text/html": [
       "<div>\n",
       "<style scoped>\n",
       "    .dataframe tbody tr th:only-of-type {\n",
       "        vertical-align: middle;\n",
       "    }\n",
       "\n",
       "    .dataframe tbody tr th {\n",
       "        vertical-align: top;\n",
       "    }\n",
       "\n",
       "    .dataframe thead th {\n",
       "        text-align: right;\n",
       "    }\n",
       "</style>\n",
       "<table border=\"1\" class=\"dataframe\">\n",
       "  <thead>\n",
       "    <tr style=\"text-align: right;\">\n",
       "      <th></th>\n",
       "      <th>Price</th>\n",
       "      <th>VehicleType</th>\n",
       "      <th>RegistrationYear</th>\n",
       "      <th>Gearbox</th>\n",
       "      <th>Power</th>\n",
       "      <th>Model</th>\n",
       "      <th>Kilometer</th>\n",
       "      <th>RegistrationMonth</th>\n",
       "      <th>FuelType</th>\n",
       "      <th>Brand</th>\n",
       "      <th>Repaired</th>\n",
       "      <th>PostalCode</th>\n",
       "    </tr>\n",
       "  </thead>\n",
       "  <tbody>\n",
       "    <tr>\n",
       "      <th>55</th>\n",
       "      <td>550</td>\n",
       "      <td>wagon</td>\n",
       "      <td>1999</td>\n",
       "      <td>manual</td>\n",
       "      <td>0</td>\n",
       "      <td>astra</td>\n",
       "      <td>150000</td>\n",
       "      <td>8</td>\n",
       "      <td>gasoline</td>\n",
       "      <td>opel</td>\n",
       "      <td>yes</td>\n",
       "      <td>56759</td>\n",
       "    </tr>\n",
       "    <tr>\n",
       "      <th>70</th>\n",
       "      <td>800</td>\n",
       "      <td>small</td>\n",
       "      <td>1993</td>\n",
       "      <td>manual</td>\n",
       "      <td>0</td>\n",
       "      <td>polo</td>\n",
       "      <td>150000</td>\n",
       "      <td>3</td>\n",
       "      <td>petrol</td>\n",
       "      <td>volkswagen</td>\n",
       "      <td>no</td>\n",
       "      <td>8258</td>\n",
       "    </tr>\n",
       "    <tr>\n",
       "      <th>90</th>\n",
       "      <td>2400</td>\n",
       "      <td>sedan</td>\n",
       "      <td>2003</td>\n",
       "      <td>manual</td>\n",
       "      <td>0</td>\n",
       "      <td>a4</td>\n",
       "      <td>150000</td>\n",
       "      <td>9</td>\n",
       "      <td>gasoline</td>\n",
       "      <td>audi</td>\n",
       "      <td>yes</td>\n",
       "      <td>40210</td>\n",
       "    </tr>\n",
       "    <tr>\n",
       "      <th>98</th>\n",
       "      <td>4290</td>\n",
       "      <td>bus</td>\n",
       "      <td>2008</td>\n",
       "      <td>manual</td>\n",
       "      <td>0</td>\n",
       "      <td>combo</td>\n",
       "      <td>150000</td>\n",
       "      <td>2</td>\n",
       "      <td>gasoline</td>\n",
       "      <td>opel</td>\n",
       "      <td>no</td>\n",
       "      <td>23568</td>\n",
       "    </tr>\n",
       "    <tr>\n",
       "      <th>158</th>\n",
       "      <td>800</td>\n",
       "      <td>sedan</td>\n",
       "      <td>1993</td>\n",
       "      <td>manual</td>\n",
       "      <td>0</td>\n",
       "      <td>golf</td>\n",
       "      <td>10000</td>\n",
       "      <td>9</td>\n",
       "      <td>petrol</td>\n",
       "      <td>volkswagen</td>\n",
       "      <td>yes</td>\n",
       "      <td>65929</td>\n",
       "    </tr>\n",
       "    <tr>\n",
       "      <th>162</th>\n",
       "      <td>300</td>\n",
       "      <td>small</td>\n",
       "      <td>1994</td>\n",
       "      <td>manual</td>\n",
       "      <td>0</td>\n",
       "      <td>other</td>\n",
       "      <td>150000</td>\n",
       "      <td>7</td>\n",
       "      <td>petrol</td>\n",
       "      <td>mitsubishi</td>\n",
       "      <td>yes</td>\n",
       "      <td>26340</td>\n",
       "    </tr>\n",
       "    <tr>\n",
       "      <th>166</th>\n",
       "      <td>300</td>\n",
       "      <td>wagon</td>\n",
       "      <td>1998</td>\n",
       "      <td>manual</td>\n",
       "      <td>0</td>\n",
       "      <td>v40</td>\n",
       "      <td>150000</td>\n",
       "      <td>6</td>\n",
       "      <td>petrol</td>\n",
       "      <td>volvo</td>\n",
       "      <td>no</td>\n",
       "      <td>47137</td>\n",
       "    </tr>\n",
       "    <tr>\n",
       "      <th>177</th>\n",
       "      <td>300</td>\n",
       "      <td>bus</td>\n",
       "      <td>1997</td>\n",
       "      <td>manual</td>\n",
       "      <td>0</td>\n",
       "      <td>other</td>\n",
       "      <td>150000</td>\n",
       "      <td>7</td>\n",
       "      <td>petrol</td>\n",
       "      <td>opel</td>\n",
       "      <td>yes</td>\n",
       "      <td>24147</td>\n",
       "    </tr>\n",
       "    <tr>\n",
       "      <th>180</th>\n",
       "      <td>2999</td>\n",
       "      <td>wagon</td>\n",
       "      <td>2001</td>\n",
       "      <td>manual</td>\n",
       "      <td>0</td>\n",
       "      <td>3er</td>\n",
       "      <td>150000</td>\n",
       "      <td>7</td>\n",
       "      <td>petrol</td>\n",
       "      <td>bmw</td>\n",
       "      <td>yes</td>\n",
       "      <td>45891</td>\n",
       "    </tr>\n",
       "    <tr>\n",
       "      <th>202</th>\n",
       "      <td>1600</td>\n",
       "      <td>sedan</td>\n",
       "      <td>1996</td>\n",
       "      <td>auto</td>\n",
       "      <td>0</td>\n",
       "      <td>7er</td>\n",
       "      <td>150000</td>\n",
       "      <td>5</td>\n",
       "      <td>petrol</td>\n",
       "      <td>bmw</td>\n",
       "      <td>no</td>\n",
       "      <td>12057</td>\n",
       "    </tr>\n",
       "  </tbody>\n",
       "</table>\n",
       "</div>"
      ],
      "text/plain": [
       "     Price VehicleType  RegistrationYear Gearbox  Power  Model  Kilometer  \\\n",
       "55     550       wagon              1999  manual      0  astra     150000   \n",
       "70     800       small              1993  manual      0   polo     150000   \n",
       "90    2400       sedan              2003  manual      0     a4     150000   \n",
       "98    4290         bus              2008  manual      0  combo     150000   \n",
       "158    800       sedan              1993  manual      0   golf      10000   \n",
       "162    300       small              1994  manual      0  other     150000   \n",
       "166    300       wagon              1998  manual      0    v40     150000   \n",
       "177    300         bus              1997  manual      0  other     150000   \n",
       "180   2999       wagon              2001  manual      0    3er     150000   \n",
       "202   1600       sedan              1996    auto      0    7er     150000   \n",
       "\n",
       "     RegistrationMonth  FuelType       Brand Repaired  PostalCode  \n",
       "55                   8  gasoline        opel      yes       56759  \n",
       "70                   3    petrol  volkswagen       no        8258  \n",
       "90                   9  gasoline        audi      yes       40210  \n",
       "98                   2  gasoline        opel       no       23568  \n",
       "158                  9    petrol  volkswagen      yes       65929  \n",
       "162                  7    petrol  mitsubishi      yes       26340  \n",
       "166                  6    petrol       volvo       no       47137  \n",
       "177                  7    petrol        opel      yes       24147  \n",
       "180                  7    petrol         bmw      yes       45891  \n",
       "202                  5    petrol         bmw       no       12057  "
      ]
     },
     "execution_count": 37,
     "metadata": {},
     "output_type": "execute_result"
    }
   ],
   "source": [
    "data[data['Power'] == 0].head(10)"
   ]
  },
  {
   "cell_type": "markdown",
   "metadata": {},
   "source": [
    "Думаю, тут можно заполнить можность средним значением."
   ]
  },
  {
   "cell_type": "code",
   "execution_count": 38,
   "metadata": {},
   "outputs": [],
   "source": [
    "average_power = data['Power'].mean()\n",
    "data['Power'] = data['Power'].replace(0, average_power)"
   ]
  },
  {
   "cell_type": "code",
   "execution_count": 39,
   "metadata": {},
   "outputs": [
    {
     "data": {
      "text/plain": [
       "[163.0,\n",
       " 75.0,\n",
       " 69.0,\n",
       " 102.0,\n",
       " 109.0,\n",
       " 125.0,\n",
       " 105.0,\n",
       " 140.0,\n",
       " 115.0,\n",
       " 190.0,\n",
       " 136.0,\n",
       " 160.0,\n",
       " 231.0,\n",
       " 50.0,\n",
       " 118.0,\n",
       " 193.0,\n",
       " 99.0,\n",
       " 60.0,\n",
       " 113.0,\n",
       " 218.0,\n",
       " 122.0,\n",
       " 129.0,\n",
       " 70.0,\n",
       " 95.0,\n",
       " 61.0,\n",
       " 177.0,\n",
       " 170.0,\n",
       " 143.0,\n",
       " 117.97208888825159,\n",
       " 101.0,\n",
       " 232.0,\n",
       " 156.0,\n",
       " 80.0,\n",
       " 82.0,\n",
       " 155.0,\n",
       " 150.0,\n",
       " 185.0,\n",
       " 87.0,\n",
       " 180.0,\n",
       " 86.0,\n",
       " 131.0,\n",
       " 224.0,\n",
       " 235.0,\n",
       " 200.0,\n",
       " 178.0,\n",
       " 265.0,\n",
       " 77.0,\n",
       " 110.0,\n",
       " 120.0,\n",
       " 54.0,\n",
       " 286.0,\n",
       " 116.0,\n",
       " 90.0,\n",
       " 184.0,\n",
       " 204.0,\n",
       " 88.0,\n",
       " 194.0,\n",
       " 64.0,\n",
       " 305.0,\n",
       " 197.0,\n",
       " 179.0,\n",
       " 250.0,\n",
       " 313.0,\n",
       " 45.0,\n",
       " 98.0,\n",
       " 41.0,\n",
       " 130.0,\n",
       " 114.0,\n",
       " 211.0,\n",
       " 56.0,\n",
       " 201.0,\n",
       " 213.0,\n",
       " 107.0,\n",
       " 174.0,\n",
       " 100.0,\n",
       " 220.0,\n",
       " 73.0,\n",
       " 192.0,\n",
       " 66.0,\n",
       " 74.0,\n",
       " 58.0,\n",
       " 52.0,\n",
       " 147.0,\n",
       " 71.0,\n",
       " 97.0,\n",
       " 65.0,\n",
       " 239.0,\n",
       " 68.0,\n",
       " 203.0,\n",
       " 144.0,\n",
       " 300.0,\n",
       " 103.0,\n",
       " 85.0,\n",
       " 258.0,\n",
       " 320.0,\n",
       " 63.0,\n",
       " 81.0,\n",
       " 148.0,\n",
       " 44.0,\n",
       " 83.0,\n",
       " 145.0,\n",
       " 280.0,\n",
       " 260.0,\n",
       " 104.0,\n",
       " 306.0,\n",
       " 188.0,\n",
       " 333.0,\n",
       " 117.0,\n",
       " 141.0,\n",
       " 55.0,\n",
       " 132.0,\n",
       " 165.0,\n",
       " 234.0,\n",
       " 158.0,\n",
       " 39.0,\n",
       " 92.0,\n",
       " 51.0,\n",
       " 135.0,\n",
       " 230.0,\n",
       " 53.0,\n",
       " 84.0,\n",
       " 209.0,\n",
       " 43.0,\n",
       " 146.0,\n",
       " 67.0,\n",
       " 106.0,\n",
       " 276.0,\n",
       " 344.0,\n",
       " 72.0,\n",
       " 237.0,\n",
       " 245.0,\n",
       " 111.0,\n",
       " 299.0,\n",
       " 326.0,\n",
       " 279.0,\n",
       " 23.0,\n",
       " 138.0,\n",
       " 310.0,\n",
       " 175.0,\n",
       " 96.0,\n",
       " 226.0,\n",
       " 126.0,\n",
       " 301.0,\n",
       " 166.0,\n",
       " 334.0,\n",
       " 128.0,\n",
       " 133.0,\n",
       " 124.0,\n",
       " 33.0,\n",
       " 219.0,\n",
       " 241.0,\n",
       " 167.0,\n",
       " 182.0,\n",
       " 196.0,\n",
       " 238.0,\n",
       " 1398.0,\n",
       " 228.0,\n",
       " 48.0,\n",
       " 272.0,\n",
       " 139.0,\n",
       " 79.0,\n",
       " 256.0,\n",
       " 243.0,\n",
       " 252.0,\n",
       " 340.0,\n",
       " 121.0,\n",
       " 289.0,\n",
       " 222.0,\n",
       " 198.0,\n",
       " 284.0,\n",
       " 450.0,\n",
       " 233.0,\n",
       " 387.0,\n",
       " 347.0,\n",
       " 172.0,\n",
       " 137.0,\n",
       " 94.0,\n",
       " 212.0,\n",
       " 476.0,\n",
       " 314.0,\n",
       " 173.0,\n",
       " 290.0,\n",
       " 207.0,\n",
       " 205.0,\n",
       " 171.0,\n",
       " 78.0,\n",
       " 91.0,\n",
       " 89.0,\n",
       " 349.0,\n",
       " 186.0,\n",
       " 108.0,\n",
       " 76.0,\n",
       " 953.0,\n",
       " 93.0,\n",
       " 142.0,\n",
       " 199.0,\n",
       " 112.0,\n",
       " 152.0,\n",
       " 57.0,\n",
       " 59.0,\n",
       " 367.0,\n",
       " 240.0,\n",
       " 208.0,\n",
       " 210.0,\n",
       " 46.0,\n",
       " 435.0,\n",
       " 1001.0,\n",
       " 225.0,\n",
       " 127.0,\n",
       " 26.0,\n",
       " 176.0,\n",
       " 161.0,\n",
       " 40.0,\n",
       " 603.0,\n",
       " 307.0,\n",
       " 354.0,\n",
       " 35.0,\n",
       " 206.0,\n",
       " 771.0,\n",
       " 355.0,\n",
       " 273.0,\n",
       " 223.0,\n",
       " 255.0,\n",
       " 151.0,\n",
       " 123.0,\n",
       " 154.0,\n",
       " 149.0,\n",
       " 7515.0,\n",
       " 268.0,\n",
       " 620.0,\n",
       " 400.0,\n",
       " 275.0,\n",
       " 34.0,\n",
       " 2.0,\n",
       " 242.0,\n",
       " 162.0,\n",
       " 1753.0,\n",
       " 329.0,\n",
       " 285.0,\n",
       " 420.0,\n",
       " 247.0,\n",
       " 164.0,\n",
       " 168.0,\n",
       " 47.0,\n",
       " 215.0,\n",
       " 360.0,\n",
       " 18.0,\n",
       " 330.0,\n",
       " 500.0,\n",
       " 62.0,\n",
       " 325.0,\n",
       " 183.0,\n",
       " 254.0,\n",
       " 134.0,\n",
       " 15.0,\n",
       " 321.0,\n",
       " 315.0,\n",
       " 952.0,\n",
       " 169.0,\n",
       " 328.0,\n",
       " 37.0,\n",
       " 119.0,\n",
       " 426.0,\n",
       " 379.0,\n",
       " 264.0,\n",
       " 22.0,\n",
       " 157.0,\n",
       " 42.0,\n",
       " 195.0,\n",
       " 343.0,\n",
       " 309.0,\n",
       " 507.0,\n",
       " 381.0,\n",
       " 271.0,\n",
       " 30.0,\n",
       " 440.0,\n",
       " 401.0,\n",
       " 189.0,\n",
       " 2729.0,\n",
       " 21.0,\n",
       " 181.0,\n",
       " 249.0,\n",
       " 1240.0,\n",
       " 521.0,\n",
       " 1.0,\n",
       " 1900.0,\n",
       " 292.0,\n",
       " 303.0,\n",
       " 29.0,\n",
       " 38.0,\n",
       " 1993.0,\n",
       " 14.0,\n",
       " 216.0,\n",
       " 504.0,\n",
       " 267.0,\n",
       " 331.0,\n",
       " 363.0,\n",
       " 261.0,\n",
       " 270.0,\n",
       " 253.0,\n",
       " 10520.0,\n",
       " 376.0,\n",
       " 227.0,\n",
       " 311.0,\n",
       " 27.0,\n",
       " 217.0,\n",
       " 350.0,\n",
       " 20.0,\n",
       " 1999.0,\n",
       " 11.0,\n",
       " 25.0,\n",
       " 394.0,\n",
       " 12.0,\n",
       " 298.0,\n",
       " 296.0,\n",
       " 49.0,\n",
       " 515.0,\n",
       " 1659.0,\n",
       " 4.0,\n",
       " 294.0,\n",
       " 187.0,\n",
       " 246.0,\n",
       " 5.0,\n",
       " 17.0,\n",
       " 1625.0,\n",
       " 221.0,\n",
       " 1367.0,\n",
       " 259.0,\n",
       " 24.0,\n",
       " 1597.0,\n",
       " 266.0,\n",
       " 374.0,\n",
       " 9.0,\n",
       " 405.0,\n",
       " 13.0,\n",
       " 8.0,\n",
       " 411.0,\n",
       " 900.0,\n",
       " 600.0,\n",
       " 7.0,\n",
       " 159.0,\n",
       " 10218.0,\n",
       " 7544.0,\n",
       " 287.0,\n",
       " 19.0,\n",
       " 214.0,\n",
       " 457.0,\n",
       " 236.0,\n",
       " 282.0,\n",
       " 385.0,\n",
       " 388.0,\n",
       " 335.0,\n",
       " 1360.0,\n",
       " 202.0,\n",
       " 3750.0,\n",
       " 1062.0,\n",
       " 10.0,\n",
       " 1024.0,\n",
       " 11530.0,\n",
       " 1796.0,\n",
       " 460.0,\n",
       " 1780.0,\n",
       " 12012.0,\n",
       " 17932.0,\n",
       " 316.0,\n",
       " 2005.0,\n",
       " 1800.0,\n",
       " 1399.0,\n",
       " 191.0,\n",
       " 278.0,\n",
       " 396.0,\n",
       " 380.0,\n",
       " 257.0,\n",
       " 449.0,\n",
       " 295.0,\n",
       " 153.0,\n",
       " 288.0,\n",
       " 1653.0,\n",
       " 520.0,\n",
       " 560.0,\n",
       " 281.0,\n",
       " 1500.0,\n",
       " 386.0,\n",
       " 32.0,\n",
       " 1202.0,\n",
       " 2016.0,\n",
       " 430.0,\n",
       " 1436.0,\n",
       " 1405.0,\n",
       " 671.0,\n",
       " 274.0,\n",
       " 1288.0,\n",
       " 1055.0,\n",
       " 6226.0,\n",
       " 1115.0,\n",
       " 277.0,\n",
       " 1105.0,\n",
       " 341.0,\n",
       " 1223.0,\n",
       " 392.0,\n",
       " 8404.0,\n",
       " 1968.0,\n",
       " 338.0,\n",
       " 445.0,\n",
       " 1920.0,\n",
       " 370.0,\n",
       " 517.0,\n",
       " 4400.0,\n",
       " 10522.0,\n",
       " 6.0,\n",
       " 431.0,\n",
       " 1164.0,\n",
       " 371.0,\n",
       " 1501.0,\n",
       " 269.0,\n",
       " 428.0,\n",
       " 11635.0,\n",
       " 304.0,\n",
       " 390.0,\n",
       " 348.0,\n",
       " 1703.0,\n",
       " 579.0,\n",
       " 580.0,\n",
       " 408.0,\n",
       " 31.0,\n",
       " 1403.0,\n",
       " 489.0,\n",
       " 5575.0,\n",
       " 262.0,\n",
       " 19211.0,\n",
       " 585.0,\n",
       " 353.0,\n",
       " 490.0,\n",
       " 283.0,\n",
       " 352.0,\n",
       " 1000.0,\n",
       " 550.0,\n",
       " 3199.0,\n",
       " 1312.0,\n",
       " 950.0,\n",
       " 4700.0,\n",
       " 1600.0,\n",
       " 3454.0,\n",
       " 251.0,\n",
       " 850.0,\n",
       " 700.0,\n",
       " 2331.0,\n",
       " 2789.0,\n",
       " 487.0,\n",
       " 36.0,\n",
       " 519.0,\n",
       " 2461.0,\n",
       " 6006.0,\n",
       " 5815.0,\n",
       " 6018.0,\n",
       " 1781.0,\n",
       " 1506.0,\n",
       " 5809.0,\n",
       " 15020.0,\n",
       " 5867.0,\n",
       " 1598.0,\n",
       " 17410.0,\n",
       " 1363.0,\n",
       " 584.0,\n",
       " 322.0,\n",
       " 1054.0,\n",
       " 382.0,\n",
       " 318.0,\n",
       " 510.0,\n",
       " 525.0,\n",
       " 28.0,\n",
       " 1151.0,\n",
       " 685.0,\n",
       " 317.0,\n",
       " 703.0,\n",
       " 1771.0,\n",
       " 15001.0,\n",
       " 514.0,\n",
       " 332.0,\n",
       " 324.0,\n",
       " 6045.0,\n",
       " 425.0,\n",
       " 308.0,\n",
       " 6010.0,\n",
       " 475.0,\n",
       " 903.0,\n",
       " 640.0,\n",
       " 2000.0,\n",
       " 362.0,\n",
       " 248.0,\n",
       " 651.0,\n",
       " 2799.0,\n",
       " 368.0,\n",
       " 17011.0,\n",
       " 505.0,\n",
       " 606.0,\n",
       " 1521.0,\n",
       " 601.0,\n",
       " 351.0,\n",
       " 398.0,\n",
       " 1998.0,\n",
       " 409.0,\n",
       " 1230.0,\n",
       " 17019.0,\n",
       " 8259.0,\n",
       " 1895.0,\n",
       " 871.0,\n",
       " 909.0,\n",
       " 1595.0,\n",
       " 776.0,\n",
       " 1400.0,\n",
       " 17700.0,\n",
       " 11011.0,\n",
       " 1199.0,\n",
       " 357.0,\n",
       " 1162.0,\n",
       " 15033.0,\n",
       " 1896.0,\n",
       " 339.0,\n",
       " 6512.0,\n",
       " 454.0,\n",
       " 1300.0,\n",
       " 604.0,\n",
       " 999.0,\n",
       " 16312.0,\n",
       " 336.0,\n",
       " 20000.0,\n",
       " 416.0,\n",
       " 678.0,\n",
       " 1021.0,\n",
       " 1870.0,\n",
       " 1401.0,\n",
       " 13636.0,\n",
       " 2009.0,\n",
       " 6062.0,\n",
       " 1275.0,\n",
       " 572.0,\n",
       " 244.0,\n",
       " 399.0,\n",
       " 1016.0,\n",
       " 1221.0,\n",
       " 345.0,\n",
       " 2402.0,\n",
       " 1362.0,\n",
       " 544.0,\n",
       " 645.0,\n",
       " 907.0,\n",
       " 702.0,\n",
       " 1995.0,\n",
       " 1003.0,\n",
       " 1432.0,\n",
       " 9013.0,\n",
       " 15017.0,\n",
       " 540.0,\n",
       " 2018.0,\n",
       " 11025.0,\n",
       " 1433.0,\n",
       " 1701.0,\n",
       " 2792.0,\n",
       " 1502.0,\n",
       " 1239.0,\n",
       " 1390.0,\n",
       " 1160.0,\n",
       " 1783.0,\n",
       " 229.0,\n",
       " 9007.0,\n",
       " 1149.0,\n",
       " 754.0,\n",
       " 2017.0,\n",
       " 5420.0,\n",
       " 365.0,\n",
       " 356.0,\n",
       " 364.0,\n",
       " 12512.0,\n",
       " 16.0,\n",
       " 7511.0,\n",
       " 1011.0,\n",
       " 1299.0,\n",
       " 1079.0,\n",
       " 998.0,\n",
       " 1100.0,\n",
       " 346.0,\n",
       " 1933.0,\n",
       " 508.0,\n",
       " 16311.0,\n",
       " 551.0,\n",
       " 7529.0,\n",
       " 1707.0,\n",
       " 1416.0,\n",
       " 1700.0,\n",
       " 8500.0,\n",
       " 1012.0,\n",
       " 293.0,\n",
       " 10110.0,\n",
       " 421.0,\n",
       " 1631.0,\n",
       " 7518.0,\n",
       " 1250.0,\n",
       " 377.0,\n",
       " 1004.0,\n",
       " 1799.0,\n",
       " 9012.0,\n",
       " 2007.0,\n",
       " 1548.0,\n",
       " 1241.0,\n",
       " 650.0,\n",
       " 3.0]"
      ]
     },
     "execution_count": 39,
     "metadata": {},
     "output_type": "execute_result"
    }
   ],
   "source": [
    "data['Power'].unique().tolist()"
   ]
  },
  {
   "cell_type": "code",
   "execution_count": 40,
   "metadata": {},
   "outputs": [
    {
     "data": {
      "text/plain": [
       "Price                338\n",
       "VehicleType          338\n",
       "RegistrationYear     338\n",
       "Gearbox              338\n",
       "Power                338\n",
       "Model                338\n",
       "Kilometer            338\n",
       "RegistrationMonth    338\n",
       "FuelType             338\n",
       "Brand                338\n",
       "Repaired             338\n",
       "PostalCode           338\n",
       "dtype: int64"
      ]
     },
     "execution_count": 40,
     "metadata": {},
     "output_type": "execute_result"
    }
   ],
   "source": [
    "# здесь меня также смущают значения выше 450 л.с. и меньше\n",
    "data[data['Power'] > 450].count()"
   ]
  },
  {
   "cell_type": "markdown",
   "metadata": {},
   "source": [
    "Здесь всего 354 значения. Посмотрю на них поближе, если логичного объяснения нет, то удалю."
   ]
  },
  {
   "cell_type": "code",
   "execution_count": 41,
   "metadata": {},
   "outputs": [
    {
     "data": {
      "text/html": [
       "<div>\n",
       "<style scoped>\n",
       "    .dataframe tbody tr th:only-of-type {\n",
       "        vertical-align: middle;\n",
       "    }\n",
       "\n",
       "    .dataframe tbody tr th {\n",
       "        vertical-align: top;\n",
       "    }\n",
       "\n",
       "    .dataframe thead th {\n",
       "        text-align: right;\n",
       "    }\n",
       "</style>\n",
       "<table border=\"1\" class=\"dataframe\">\n",
       "  <thead>\n",
       "    <tr style=\"text-align: right;\">\n",
       "      <th></th>\n",
       "      <th>Price</th>\n",
       "      <th>VehicleType</th>\n",
       "      <th>RegistrationYear</th>\n",
       "      <th>Gearbox</th>\n",
       "      <th>Power</th>\n",
       "      <th>Model</th>\n",
       "      <th>Kilometer</th>\n",
       "      <th>RegistrationMonth</th>\n",
       "      <th>FuelType</th>\n",
       "      <th>Brand</th>\n",
       "      <th>Repaired</th>\n",
       "      <th>PostalCode</th>\n",
       "    </tr>\n",
       "  </thead>\n",
       "  <tbody>\n",
       "    <tr>\n",
       "      <th>1816</th>\n",
       "      <td>3200</td>\n",
       "      <td>small</td>\n",
       "      <td>2004</td>\n",
       "      <td>manual</td>\n",
       "      <td>1398.0</td>\n",
       "      <td>corolla</td>\n",
       "      <td>5000</td>\n",
       "      <td>6</td>\n",
       "      <td>petrol</td>\n",
       "      <td>toyota</td>\n",
       "      <td>no</td>\n",
       "      <td>22043</td>\n",
       "    </tr>\n",
       "    <tr>\n",
       "      <th>3289</th>\n",
       "      <td>16899</td>\n",
       "      <td>wagon</td>\n",
       "      <td>2003</td>\n",
       "      <td>auto</td>\n",
       "      <td>476.0</td>\n",
       "      <td>e_klasse</td>\n",
       "      <td>150000</td>\n",
       "      <td>9</td>\n",
       "      <td>petrol</td>\n",
       "      <td>mercedes_benz</td>\n",
       "      <td>no</td>\n",
       "      <td>44319</td>\n",
       "    </tr>\n",
       "    <tr>\n",
       "      <th>4060</th>\n",
       "      <td>3100</td>\n",
       "      <td>sedan</td>\n",
       "      <td>2005</td>\n",
       "      <td>manual</td>\n",
       "      <td>953.0</td>\n",
       "      <td>colt</td>\n",
       "      <td>150000</td>\n",
       "      <td>4</td>\n",
       "      <td>gasoline</td>\n",
       "      <td>mitsubishi</td>\n",
       "      <td>no</td>\n",
       "      <td>60326</td>\n",
       "    </tr>\n",
       "    <tr>\n",
       "      <th>4681</th>\n",
       "      <td>13900</td>\n",
       "      <td>sedan</td>\n",
       "      <td>2006</td>\n",
       "      <td>auto</td>\n",
       "      <td>476.0</td>\n",
       "      <td>e_klasse</td>\n",
       "      <td>150000</td>\n",
       "      <td>5</td>\n",
       "      <td>petrol</td>\n",
       "      <td>mercedes_benz</td>\n",
       "      <td>no</td>\n",
       "      <td>52078</td>\n",
       "    </tr>\n",
       "    <tr>\n",
       "      <th>5328</th>\n",
       "      <td>500</td>\n",
       "      <td>wagon</td>\n",
       "      <td>1999</td>\n",
       "      <td>manual</td>\n",
       "      <td>1001.0</td>\n",
       "      <td>astra</td>\n",
       "      <td>150000</td>\n",
       "      <td>7</td>\n",
       "      <td>petrol</td>\n",
       "      <td>opel</td>\n",
       "      <td>yes</td>\n",
       "      <td>33154</td>\n",
       "    </tr>\n",
       "    <tr>\n",
       "      <th>6296</th>\n",
       "      <td>599</td>\n",
       "      <td>small</td>\n",
       "      <td>2002</td>\n",
       "      <td>manual</td>\n",
       "      <td>603.0</td>\n",
       "      <td>matiz</td>\n",
       "      <td>5000</td>\n",
       "      <td>11</td>\n",
       "      <td>petrol</td>\n",
       "      <td>chevrolet</td>\n",
       "      <td>yes</td>\n",
       "      <td>44379</td>\n",
       "    </tr>\n",
       "    <tr>\n",
       "      <th>6504</th>\n",
       "      <td>3000</td>\n",
       "      <td>small</td>\n",
       "      <td>2009</td>\n",
       "      <td>manual</td>\n",
       "      <td>771.0</td>\n",
       "      <td>punto</td>\n",
       "      <td>125000</td>\n",
       "      <td>0</td>\n",
       "      <td>petrol</td>\n",
       "      <td>fiat</td>\n",
       "      <td>yes</td>\n",
       "      <td>40721</td>\n",
       "    </tr>\n",
       "    <tr>\n",
       "      <th>6637</th>\n",
       "      <td>600</td>\n",
       "      <td>small</td>\n",
       "      <td>1996</td>\n",
       "      <td>manual</td>\n",
       "      <td>603.0</td>\n",
       "      <td>corsa</td>\n",
       "      <td>150000</td>\n",
       "      <td>8</td>\n",
       "      <td>petrol</td>\n",
       "      <td>opel</td>\n",
       "      <td>yes</td>\n",
       "      <td>70327</td>\n",
       "    </tr>\n",
       "    <tr>\n",
       "      <th>7661</th>\n",
       "      <td>1499</td>\n",
       "      <td>small</td>\n",
       "      <td>1999</td>\n",
       "      <td>manual</td>\n",
       "      <td>7515.0</td>\n",
       "      <td>lupo</td>\n",
       "      <td>150000</td>\n",
       "      <td>4</td>\n",
       "      <td>petrol</td>\n",
       "      <td>volkswagen</td>\n",
       "      <td>yes</td>\n",
       "      <td>65830</td>\n",
       "    </tr>\n",
       "    <tr>\n",
       "      <th>8057</th>\n",
       "      <td>500</td>\n",
       "      <td>small</td>\n",
       "      <td>2002</td>\n",
       "      <td>manual</td>\n",
       "      <td>620.0</td>\n",
       "      <td>ypsilon</td>\n",
       "      <td>150000</td>\n",
       "      <td>12</td>\n",
       "      <td>petrol</td>\n",
       "      <td>lancia</td>\n",
       "      <td>yes</td>\n",
       "      <td>55566</td>\n",
       "    </tr>\n",
       "    <tr>\n",
       "      <th>9875</th>\n",
       "      <td>550</td>\n",
       "      <td>wagon</td>\n",
       "      <td>2003</td>\n",
       "      <td>manual</td>\n",
       "      <td>1753.0</td>\n",
       "      <td>focus</td>\n",
       "      <td>150000</td>\n",
       "      <td>1</td>\n",
       "      <td>gasoline</td>\n",
       "      <td>ford</td>\n",
       "      <td>yes</td>\n",
       "      <td>21039</td>\n",
       "    </tr>\n",
       "    <tr>\n",
       "      <th>11613</th>\n",
       "      <td>17900</td>\n",
       "      <td>wagon</td>\n",
       "      <td>2000</td>\n",
       "      <td>manual</td>\n",
       "      <td>500.0</td>\n",
       "      <td>other</td>\n",
       "      <td>150000</td>\n",
       "      <td>9</td>\n",
       "      <td>petrol</td>\n",
       "      <td>audi</td>\n",
       "      <td>yes</td>\n",
       "      <td>14612</td>\n",
       "    </tr>\n",
       "    <tr>\n",
       "      <th>12740</th>\n",
       "      <td>3500</td>\n",
       "      <td>convertible</td>\n",
       "      <td>2003</td>\n",
       "      <td>manual</td>\n",
       "      <td>952.0</td>\n",
       "      <td>ka</td>\n",
       "      <td>70000</td>\n",
       "      <td>5</td>\n",
       "      <td>petrol</td>\n",
       "      <td>ford</td>\n",
       "      <td>no</td>\n",
       "      <td>26903</td>\n",
       "    </tr>\n",
       "    <tr>\n",
       "      <th>17054</th>\n",
       "      <td>6000</td>\n",
       "      <td>convertible</td>\n",
       "      <td>2005</td>\n",
       "      <td>auto</td>\n",
       "      <td>500.0</td>\n",
       "      <td>sl</td>\n",
       "      <td>50000</td>\n",
       "      <td>10</td>\n",
       "      <td>petrol</td>\n",
       "      <td>mercedes_benz</td>\n",
       "      <td>no</td>\n",
       "      <td>35641</td>\n",
       "    </tr>\n",
       "    <tr>\n",
       "      <th>17228</th>\n",
       "      <td>14900</td>\n",
       "      <td>coupe</td>\n",
       "      <td>2006</td>\n",
       "      <td>auto</td>\n",
       "      <td>500.0</td>\n",
       "      <td>cl</td>\n",
       "      <td>150000</td>\n",
       "      <td>3</td>\n",
       "      <td>petrol</td>\n",
       "      <td>mercedes_benz</td>\n",
       "      <td>yes</td>\n",
       "      <td>79183</td>\n",
       "    </tr>\n",
       "  </tbody>\n",
       "</table>\n",
       "</div>"
      ],
      "text/plain": [
       "       Price  VehicleType  RegistrationYear Gearbox   Power     Model  \\\n",
       "1816    3200        small              2004  manual  1398.0   corolla   \n",
       "3289   16899        wagon              2003    auto   476.0  e_klasse   \n",
       "4060    3100        sedan              2005  manual   953.0      colt   \n",
       "4681   13900        sedan              2006    auto   476.0  e_klasse   \n",
       "5328     500        wagon              1999  manual  1001.0     astra   \n",
       "6296     599        small              2002  manual   603.0     matiz   \n",
       "6504    3000        small              2009  manual   771.0     punto   \n",
       "6637     600        small              1996  manual   603.0     corsa   \n",
       "7661    1499        small              1999  manual  7515.0      lupo   \n",
       "8057     500        small              2002  manual   620.0   ypsilon   \n",
       "9875     550        wagon              2003  manual  1753.0     focus   \n",
       "11613  17900        wagon              2000  manual   500.0     other   \n",
       "12740   3500  convertible              2003  manual   952.0        ka   \n",
       "17054   6000  convertible              2005    auto   500.0        sl   \n",
       "17228  14900        coupe              2006    auto   500.0        cl   \n",
       "\n",
       "       Kilometer  RegistrationMonth  FuelType          Brand Repaired  \\\n",
       "1816        5000                  6    petrol         toyota       no   \n",
       "3289      150000                  9    petrol  mercedes_benz       no   \n",
       "4060      150000                  4  gasoline     mitsubishi       no   \n",
       "4681      150000                  5    petrol  mercedes_benz       no   \n",
       "5328      150000                  7    petrol           opel      yes   \n",
       "6296        5000                 11    petrol      chevrolet      yes   \n",
       "6504      125000                  0    petrol           fiat      yes   \n",
       "6637      150000                  8    petrol           opel      yes   \n",
       "7661      150000                  4    petrol     volkswagen      yes   \n",
       "8057      150000                 12    petrol         lancia      yes   \n",
       "9875      150000                  1  gasoline           ford      yes   \n",
       "11613     150000                  9    petrol           audi      yes   \n",
       "12740      70000                  5    petrol           ford       no   \n",
       "17054      50000                 10    petrol  mercedes_benz       no   \n",
       "17228     150000                  3    petrol  mercedes_benz      yes   \n",
       "\n",
       "       PostalCode  \n",
       "1816        22043  \n",
       "3289        44319  \n",
       "4060        60326  \n",
       "4681        52078  \n",
       "5328        33154  \n",
       "6296        44379  \n",
       "6504        40721  \n",
       "6637        70327  \n",
       "7661        65830  \n",
       "8057        55566  \n",
       "9875        21039  \n",
       "11613       14612  \n",
       "12740       26903  \n",
       "17054       35641  \n",
       "17228       79183  "
      ]
     },
     "execution_count": 41,
     "metadata": {},
     "output_type": "execute_result"
    }
   ],
   "source": [
    "data[data['Power'] > 450].head(15)"
   ]
  },
  {
   "cell_type": "markdown",
   "metadata": {},
   "source": [
    "fiat с мощьностью 10317 л.с. быть точно не может. скорее всего здесь ошибка при заполнении данных. проще всего удалить аномалии."
   ]
  },
  {
   "cell_type": "code",
   "execution_count": 42,
   "metadata": {},
   "outputs": [
    {
     "data": {
      "text/plain": [
       "(278619, 12)"
      ]
     },
     "execution_count": 42,
     "metadata": {},
     "output_type": "execute_result"
    }
   ],
   "source": [
    "data = data[data['Power'] <= 450]\n",
    "data.shape"
   ]
  },
  {
   "cell_type": "code",
   "execution_count": 43,
   "metadata": {},
   "outputs": [
    {
     "data": {
      "text/plain": [
       "Price                42\n",
       "VehicleType          42\n",
       "RegistrationYear     42\n",
       "Gearbox              42\n",
       "Power                42\n",
       "Model                42\n",
       "Kilometer            42\n",
       "RegistrationMonth    42\n",
       "FuelType             42\n",
       "Brand                42\n",
       "Repaired             42\n",
       "PostalCode           42\n",
       "dtype: int64"
      ]
     },
     "execution_count": 43,
     "metadata": {},
     "output_type": "execute_result"
    }
   ],
   "source": [
    "# также я заметил, что есть значения слишком низкие, но не 0\n",
    "data[data['Power'] < 10].count()"
   ]
  },
  {
   "cell_type": "code",
   "execution_count": 44,
   "metadata": {},
   "outputs": [
    {
     "data": {
      "text/html": [
       "<div>\n",
       "<style scoped>\n",
       "    .dataframe tbody tr th:only-of-type {\n",
       "        vertical-align: middle;\n",
       "    }\n",
       "\n",
       "    .dataframe tbody tr th {\n",
       "        vertical-align: top;\n",
       "    }\n",
       "\n",
       "    .dataframe thead th {\n",
       "        text-align: right;\n",
       "    }\n",
       "</style>\n",
       "<table border=\"1\" class=\"dataframe\">\n",
       "  <thead>\n",
       "    <tr style=\"text-align: right;\">\n",
       "      <th></th>\n",
       "      <th>Price</th>\n",
       "      <th>VehicleType</th>\n",
       "      <th>RegistrationYear</th>\n",
       "      <th>Gearbox</th>\n",
       "      <th>Power</th>\n",
       "      <th>Model</th>\n",
       "      <th>Kilometer</th>\n",
       "      <th>RegistrationMonth</th>\n",
       "      <th>FuelType</th>\n",
       "      <th>Brand</th>\n",
       "      <th>Repaired</th>\n",
       "      <th>PostalCode</th>\n",
       "    </tr>\n",
       "  </thead>\n",
       "  <tbody>\n",
       "    <tr>\n",
       "      <th>9561</th>\n",
       "      <td>9000</td>\n",
       "      <td>sedan</td>\n",
       "      <td>2009</td>\n",
       "      <td>manual</td>\n",
       "      <td>2.0</td>\n",
       "      <td>a4</td>\n",
       "      <td>5000</td>\n",
       "      <td>12</td>\n",
       "      <td>gasoline</td>\n",
       "      <td>audi</td>\n",
       "      <td>no</td>\n",
       "      <td>12045</td>\n",
       "    </tr>\n",
       "    <tr>\n",
       "      <th>20229</th>\n",
       "      <td>4999</td>\n",
       "      <td>sedan</td>\n",
       "      <td>2003</td>\n",
       "      <td>manual</td>\n",
       "      <td>1.0</td>\n",
       "      <td>e_klasse</td>\n",
       "      <td>150000</td>\n",
       "      <td>12</td>\n",
       "      <td>gasoline</td>\n",
       "      <td>mercedes_benz</td>\n",
       "      <td>yes</td>\n",
       "      <td>66571</td>\n",
       "    </tr>\n",
       "    <tr>\n",
       "      <th>33068</th>\n",
       "      <td>5950</td>\n",
       "      <td>small</td>\n",
       "      <td>2004</td>\n",
       "      <td>manual</td>\n",
       "      <td>4.0</td>\n",
       "      <td>golf</td>\n",
       "      <td>80000</td>\n",
       "      <td>7</td>\n",
       "      <td>petrol</td>\n",
       "      <td>volkswagen</td>\n",
       "      <td>no</td>\n",
       "      <td>64285</td>\n",
       "    </tr>\n",
       "    <tr>\n",
       "      <th>33223</th>\n",
       "      <td>3900</td>\n",
       "      <td>convertible</td>\n",
       "      <td>2004</td>\n",
       "      <td>auto</td>\n",
       "      <td>1.0</td>\n",
       "      <td>forfour</td>\n",
       "      <td>90000</td>\n",
       "      <td>5</td>\n",
       "      <td>petrol</td>\n",
       "      <td>smart</td>\n",
       "      <td>no</td>\n",
       "      <td>85386</td>\n",
       "    </tr>\n",
       "    <tr>\n",
       "      <th>33995</th>\n",
       "      <td>4999</td>\n",
       "      <td>small</td>\n",
       "      <td>2012</td>\n",
       "      <td>auto</td>\n",
       "      <td>5.0</td>\n",
       "      <td>other</td>\n",
       "      <td>5000</td>\n",
       "      <td>10</td>\n",
       "      <td>electric</td>\n",
       "      <td>renault</td>\n",
       "      <td>no</td>\n",
       "      <td>38315</td>\n",
       "    </tr>\n",
       "    <tr>\n",
       "      <th>37733</th>\n",
       "      <td>1300</td>\n",
       "      <td>wagon</td>\n",
       "      <td>1999</td>\n",
       "      <td>auto</td>\n",
       "      <td>9.0</td>\n",
       "      <td>other</td>\n",
       "      <td>30000</td>\n",
       "      <td>3</td>\n",
       "      <td>petrol</td>\n",
       "      <td>citroen</td>\n",
       "      <td>no</td>\n",
       "      <td>79102</td>\n",
       "    </tr>\n",
       "    <tr>\n",
       "      <th>42961</th>\n",
       "      <td>4200</td>\n",
       "      <td>other</td>\n",
       "      <td>2012</td>\n",
       "      <td>auto</td>\n",
       "      <td>8.0</td>\n",
       "      <td>other</td>\n",
       "      <td>40000</td>\n",
       "      <td>12</td>\n",
       "      <td>electric</td>\n",
       "      <td>renault</td>\n",
       "      <td>no</td>\n",
       "      <td>75053</td>\n",
       "    </tr>\n",
       "    <tr>\n",
       "      <th>44179</th>\n",
       "      <td>500</td>\n",
       "      <td>small</td>\n",
       "      <td>1998</td>\n",
       "      <td>auto</td>\n",
       "      <td>7.0</td>\n",
       "      <td>1_reihe</td>\n",
       "      <td>100000</td>\n",
       "      <td>11</td>\n",
       "      <td>petrol</td>\n",
       "      <td>peugeot</td>\n",
       "      <td>no</td>\n",
       "      <td>66271</td>\n",
       "    </tr>\n",
       "    <tr>\n",
       "      <th>52952</th>\n",
       "      <td>990</td>\n",
       "      <td>coupe</td>\n",
       "      <td>1974</td>\n",
       "      <td>manual</td>\n",
       "      <td>1.0</td>\n",
       "      <td>kadett</td>\n",
       "      <td>5000</td>\n",
       "      <td>3</td>\n",
       "      <td>petrol</td>\n",
       "      <td>opel</td>\n",
       "      <td>yes</td>\n",
       "      <td>94036</td>\n",
       "    </tr>\n",
       "    <tr>\n",
       "      <th>59478</th>\n",
       "      <td>999</td>\n",
       "      <td>convertible</td>\n",
       "      <td>1995</td>\n",
       "      <td>manual</td>\n",
       "      <td>5.0</td>\n",
       "      <td>punto</td>\n",
       "      <td>125000</td>\n",
       "      <td>0</td>\n",
       "      <td>petrol</td>\n",
       "      <td>fiat</td>\n",
       "      <td>no</td>\n",
       "      <td>40670</td>\n",
       "    </tr>\n",
       "    <tr>\n",
       "      <th>72010</th>\n",
       "      <td>8000</td>\n",
       "      <td>small</td>\n",
       "      <td>2004</td>\n",
       "      <td>manual</td>\n",
       "      <td>8.0</td>\n",
       "      <td>viano</td>\n",
       "      <td>150000</td>\n",
       "      <td>11</td>\n",
       "      <td>gasoline</td>\n",
       "      <td>mercedes_benz</td>\n",
       "      <td>yes</td>\n",
       "      <td>60439</td>\n",
       "    </tr>\n",
       "    <tr>\n",
       "      <th>78193</th>\n",
       "      <td>999</td>\n",
       "      <td>small</td>\n",
       "      <td>2000</td>\n",
       "      <td>manual</td>\n",
       "      <td>5.0</td>\n",
       "      <td>twingo</td>\n",
       "      <td>150000</td>\n",
       "      <td>8</td>\n",
       "      <td>petrol</td>\n",
       "      <td>renault</td>\n",
       "      <td>yes</td>\n",
       "      <td>78567</td>\n",
       "    </tr>\n",
       "    <tr>\n",
       "      <th>88466</th>\n",
       "      <td>3100</td>\n",
       "      <td>sedan</td>\n",
       "      <td>2005</td>\n",
       "      <td>manual</td>\n",
       "      <td>4.0</td>\n",
       "      <td>c4</td>\n",
       "      <td>150000</td>\n",
       "      <td>4</td>\n",
       "      <td>gasoline</td>\n",
       "      <td>citroen</td>\n",
       "      <td>yes</td>\n",
       "      <td>40231</td>\n",
       "    </tr>\n",
       "    <tr>\n",
       "      <th>93497</th>\n",
       "      <td>1300</td>\n",
       "      <td>coupe</td>\n",
       "      <td>2000</td>\n",
       "      <td>manual</td>\n",
       "      <td>7.0</td>\n",
       "      <td>civic</td>\n",
       "      <td>125000</td>\n",
       "      <td>12</td>\n",
       "      <td>petrol</td>\n",
       "      <td>honda</td>\n",
       "      <td>no</td>\n",
       "      <td>72108</td>\n",
       "    </tr>\n",
       "    <tr>\n",
       "      <th>94319</th>\n",
       "      <td>300</td>\n",
       "      <td>convertible</td>\n",
       "      <td>1997</td>\n",
       "      <td>manual</td>\n",
       "      <td>1.0</td>\n",
       "      <td>golf</td>\n",
       "      <td>5000</td>\n",
       "      <td>4</td>\n",
       "      <td>gasoline</td>\n",
       "      <td>volkswagen</td>\n",
       "      <td>yes</td>\n",
       "      <td>83395</td>\n",
       "    </tr>\n",
       "  </tbody>\n",
       "</table>\n",
       "</div>"
      ],
      "text/plain": [
       "       Price  VehicleType  RegistrationYear Gearbox  Power     Model  \\\n",
       "9561    9000        sedan              2009  manual    2.0        a4   \n",
       "20229   4999        sedan              2003  manual    1.0  e_klasse   \n",
       "33068   5950        small              2004  manual    4.0      golf   \n",
       "33223   3900  convertible              2004    auto    1.0   forfour   \n",
       "33995   4999        small              2012    auto    5.0     other   \n",
       "37733   1300        wagon              1999    auto    9.0     other   \n",
       "42961   4200        other              2012    auto    8.0     other   \n",
       "44179    500        small              1998    auto    7.0   1_reihe   \n",
       "52952    990        coupe              1974  manual    1.0    kadett   \n",
       "59478    999  convertible              1995  manual    5.0     punto   \n",
       "72010   8000        small              2004  manual    8.0     viano   \n",
       "78193    999        small              2000  manual    5.0    twingo   \n",
       "88466   3100        sedan              2005  manual    4.0        c4   \n",
       "93497   1300        coupe              2000  manual    7.0     civic   \n",
       "94319    300  convertible              1997  manual    1.0      golf   \n",
       "\n",
       "       Kilometer  RegistrationMonth  FuelType          Brand Repaired  \\\n",
       "9561        5000                 12  gasoline           audi       no   \n",
       "20229     150000                 12  gasoline  mercedes_benz      yes   \n",
       "33068      80000                  7    petrol     volkswagen       no   \n",
       "33223      90000                  5    petrol          smart       no   \n",
       "33995       5000                 10  electric        renault       no   \n",
       "37733      30000                  3    petrol        citroen       no   \n",
       "42961      40000                 12  electric        renault       no   \n",
       "44179     100000                 11    petrol        peugeot       no   \n",
       "52952       5000                  3    petrol           opel      yes   \n",
       "59478     125000                  0    petrol           fiat       no   \n",
       "72010     150000                 11  gasoline  mercedes_benz      yes   \n",
       "78193     150000                  8    petrol        renault      yes   \n",
       "88466     150000                  4  gasoline        citroen      yes   \n",
       "93497     125000                 12    petrol          honda       no   \n",
       "94319       5000                  4  gasoline     volkswagen      yes   \n",
       "\n",
       "       PostalCode  \n",
       "9561        12045  \n",
       "20229       66571  \n",
       "33068       64285  \n",
       "33223       85386  \n",
       "33995       38315  \n",
       "37733       79102  \n",
       "42961       75053  \n",
       "44179       66271  \n",
       "52952       94036  \n",
       "59478       40670  \n",
       "72010       60439  \n",
       "78193       78567  \n",
       "88466       40231  \n",
       "93497       72108  \n",
       "94319       83395  "
      ]
     },
     "execution_count": 44,
     "metadata": {},
     "output_type": "execute_result"
    }
   ],
   "source": [
    "data[data['Power'] < 10].head(15)"
   ]
  },
  {
   "cell_type": "markdown",
   "metadata": {},
   "source": [
    "Судя по всему, здесь при заполнении вписали объем двигателя вместо количества лошединых сил. Благо таких записей очень мало, их я просто удалю. "
   ]
  },
  {
   "cell_type": "code",
   "execution_count": 45,
   "metadata": {},
   "outputs": [
    {
     "data": {
      "text/plain": [
       "(278573, 12)"
      ]
     },
     "execution_count": 45,
     "metadata": {},
     "output_type": "execute_result"
    }
   ],
   "source": [
    "data = data[data['Power'] > 10]\n",
    "data.shape"
   ]
  },
  {
   "cell_type": "code",
   "execution_count": 46,
   "metadata": {},
   "outputs": [
    {
     "data": {
      "text/plain": [
       "Price                12818\n",
       "VehicleType          12818\n",
       "RegistrationYear     12818\n",
       "Gearbox              12818\n",
       "Power                12818\n",
       "Model                12818\n",
       "Kilometer            12818\n",
       "RegistrationMonth    12818\n",
       "FuelType             12818\n",
       "Brand                12818\n",
       "Repaired             12818\n",
       "PostalCode           12818\n",
       "dtype: int64"
      ]
     },
     "execution_count": 46,
     "metadata": {},
     "output_type": "execute_result"
    }
   ],
   "source": [
    "# теперь столбец \n",
    "data[data['RegistrationMonth'] == 0].count()"
   ]
  },
  {
   "cell_type": "code",
   "execution_count": 47,
   "metadata": {},
   "outputs": [
    {
     "data": {
      "text/plain": [
       "array([ 8,  6,  7, 10, 12, 11,  3,  2,  1,  4,  5,  9,  0])"
      ]
     },
     "execution_count": 47,
     "metadata": {},
     "output_type": "execute_result"
    }
   ],
   "source": [
    "data['RegistrationMonth'].unique()"
   ]
  },
  {
   "cell_type": "code",
   "execution_count": 48,
   "metadata": {},
   "outputs": [
    {
     "data": {
      "text/html": [
       "<div>\n",
       "<style scoped>\n",
       "    .dataframe tbody tr th:only-of-type {\n",
       "        vertical-align: middle;\n",
       "    }\n",
       "\n",
       "    .dataframe tbody tr th {\n",
       "        vertical-align: top;\n",
       "    }\n",
       "\n",
       "    .dataframe thead th {\n",
       "        text-align: right;\n",
       "    }\n",
       "</style>\n",
       "<table border=\"1\" class=\"dataframe\">\n",
       "  <thead>\n",
       "    <tr style=\"text-align: right;\">\n",
       "      <th></th>\n",
       "      <th>Price</th>\n",
       "      <th>VehicleType</th>\n",
       "      <th>RegistrationYear</th>\n",
       "      <th>Gearbox</th>\n",
       "      <th>Power</th>\n",
       "      <th>Model</th>\n",
       "      <th>Kilometer</th>\n",
       "      <th>RegistrationMonth</th>\n",
       "      <th>FuelType</th>\n",
       "      <th>Brand</th>\n",
       "      <th>Repaired</th>\n",
       "      <th>PostalCode</th>\n",
       "    </tr>\n",
       "  </thead>\n",
       "  <tbody>\n",
       "    <tr>\n",
       "      <th>80</th>\n",
       "      <td>250</td>\n",
       "      <td>wagon</td>\n",
       "      <td>2000</td>\n",
       "      <td>manual</td>\n",
       "      <td>155.0</td>\n",
       "      <td>156</td>\n",
       "      <td>150000</td>\n",
       "      <td>0</td>\n",
       "      <td>petrol</td>\n",
       "      <td>alfa_romeo</td>\n",
       "      <td>yes</td>\n",
       "      <td>8396</td>\n",
       "    </tr>\n",
       "    <tr>\n",
       "      <th>129</th>\n",
       "      <td>300</td>\n",
       "      <td>small</td>\n",
       "      <td>2000</td>\n",
       "      <td>manual</td>\n",
       "      <td>54.0</td>\n",
       "      <td>corsa</td>\n",
       "      <td>150000</td>\n",
       "      <td>0</td>\n",
       "      <td>petrol</td>\n",
       "      <td>opel</td>\n",
       "      <td>yes</td>\n",
       "      <td>59379</td>\n",
       "    </tr>\n",
       "    <tr>\n",
       "      <th>168</th>\n",
       "      <td>950</td>\n",
       "      <td>sedan</td>\n",
       "      <td>1995</td>\n",
       "      <td>manual</td>\n",
       "      <td>115.0</td>\n",
       "      <td>5er</td>\n",
       "      <td>150000</td>\n",
       "      <td>0</td>\n",
       "      <td>petrol</td>\n",
       "      <td>bmw</td>\n",
       "      <td>yes</td>\n",
       "      <td>27751</td>\n",
       "    </tr>\n",
       "    <tr>\n",
       "      <th>300</th>\n",
       "      <td>3400</td>\n",
       "      <td>bus</td>\n",
       "      <td>2003</td>\n",
       "      <td>manual</td>\n",
       "      <td>100.0</td>\n",
       "      <td>touran</td>\n",
       "      <td>150000</td>\n",
       "      <td>0</td>\n",
       "      <td>gasoline</td>\n",
       "      <td>volkswagen</td>\n",
       "      <td>yes</td>\n",
       "      <td>41061</td>\n",
       "    </tr>\n",
       "    <tr>\n",
       "      <th>303</th>\n",
       "      <td>800</td>\n",
       "      <td>coupe</td>\n",
       "      <td>1997</td>\n",
       "      <td>manual</td>\n",
       "      <td>125.0</td>\n",
       "      <td>a3</td>\n",
       "      <td>150000</td>\n",
       "      <td>0</td>\n",
       "      <td>petrol</td>\n",
       "      <td>audi</td>\n",
       "      <td>yes</td>\n",
       "      <td>64739</td>\n",
       "    </tr>\n",
       "  </tbody>\n",
       "</table>\n",
       "</div>"
      ],
      "text/plain": [
       "     Price VehicleType  RegistrationYear Gearbox  Power   Model  Kilometer  \\\n",
       "80     250       wagon              2000  manual  155.0     156     150000   \n",
       "129    300       small              2000  manual   54.0   corsa     150000   \n",
       "168    950       sedan              1995  manual  115.0     5er     150000   \n",
       "300   3400         bus              2003  manual  100.0  touran     150000   \n",
       "303    800       coupe              1997  manual  125.0      a3     150000   \n",
       "\n",
       "     RegistrationMonth  FuelType       Brand Repaired  PostalCode  \n",
       "80                   0    petrol  alfa_romeo      yes        8396  \n",
       "129                  0    petrol        opel      yes       59379  \n",
       "168                  0    petrol         bmw      yes       27751  \n",
       "300                  0  gasoline  volkswagen      yes       41061  \n",
       "303                  0    petrol        audi      yes       64739  "
      ]
     },
     "execution_count": 48,
     "metadata": {},
     "output_type": "execute_result"
    }
   ],
   "source": [
    "data[data['RegistrationMonth'] == 0].head()"
   ]
  },
  {
   "cell_type": "markdown",
   "metadata": {},
   "source": [
    "Сначала я подумал, что можно удалить все строки со значением 0 в столбце, но, кажется, что сам столбец не несет какой-то важной информации и не повлияет на определение цены. Кажется, что лучше избавиться от столбца целиком, чем удалять 14 тысяч строк с важной информацией."
   ]
  },
  {
   "cell_type": "code",
   "execution_count": 49,
   "metadata": {},
   "outputs": [
    {
     "data": {
      "text/html": [
       "<div>\n",
       "<style scoped>\n",
       "    .dataframe tbody tr th:only-of-type {\n",
       "        vertical-align: middle;\n",
       "    }\n",
       "\n",
       "    .dataframe tbody tr th {\n",
       "        vertical-align: top;\n",
       "    }\n",
       "\n",
       "    .dataframe thead th {\n",
       "        text-align: right;\n",
       "    }\n",
       "</style>\n",
       "<table border=\"1\" class=\"dataframe\">\n",
       "  <thead>\n",
       "    <tr style=\"text-align: right;\">\n",
       "      <th></th>\n",
       "      <th>Price</th>\n",
       "      <th>RegistrationYear</th>\n",
       "      <th>Power</th>\n",
       "      <th>Kilometer</th>\n",
       "      <th>PostalCode</th>\n",
       "    </tr>\n",
       "  </thead>\n",
       "  <tbody>\n",
       "    <tr>\n",
       "      <th>count</th>\n",
       "      <td>278573.000000</td>\n",
       "      <td>278573.000000</td>\n",
       "      <td>278573.000000</td>\n",
       "      <td>278573.000000</td>\n",
       "      <td>278573.000000</td>\n",
       "    </tr>\n",
       "    <tr>\n",
       "      <th>mean</th>\n",
       "      <td>4930.920025</td>\n",
       "      <td>2002.659493</td>\n",
       "      <td>121.551779</td>\n",
       "      <td>128203.146034</td>\n",
       "      <td>51211.392935</td>\n",
       "    </tr>\n",
       "    <tr>\n",
       "      <th>std</th>\n",
       "      <td>4627.784331</td>\n",
       "      <td>6.104078</td>\n",
       "      <td>51.508627</td>\n",
       "      <td>36675.350662</td>\n",
       "      <td>25758.178383</td>\n",
       "    </tr>\n",
       "    <tr>\n",
       "      <th>min</th>\n",
       "      <td>1.000000</td>\n",
       "      <td>1960.000000</td>\n",
       "      <td>11.000000</td>\n",
       "      <td>5000.000000</td>\n",
       "      <td>1067.000000</td>\n",
       "    </tr>\n",
       "    <tr>\n",
       "      <th>25%</th>\n",
       "      <td>1400.000000</td>\n",
       "      <td>1999.000000</td>\n",
       "      <td>82.000000</td>\n",
       "      <td>125000.000000</td>\n",
       "      <td>30900.000000</td>\n",
       "    </tr>\n",
       "    <tr>\n",
       "      <th>50%</th>\n",
       "      <td>3250.000000</td>\n",
       "      <td>2003.000000</td>\n",
       "      <td>116.000000</td>\n",
       "      <td>150000.000000</td>\n",
       "      <td>50259.000000</td>\n",
       "    </tr>\n",
       "    <tr>\n",
       "      <th>75%</th>\n",
       "      <td>7000.000000</td>\n",
       "      <td>2007.000000</td>\n",
       "      <td>147.000000</td>\n",
       "      <td>150000.000000</td>\n",
       "      <td>72076.000000</td>\n",
       "    </tr>\n",
       "    <tr>\n",
       "      <th>max</th>\n",
       "      <td>20000.000000</td>\n",
       "      <td>2016.000000</td>\n",
       "      <td>450.000000</td>\n",
       "      <td>150000.000000</td>\n",
       "      <td>99998.000000</td>\n",
       "    </tr>\n",
       "  </tbody>\n",
       "</table>\n",
       "</div>"
      ],
      "text/plain": [
       "               Price  RegistrationYear          Power      Kilometer  \\\n",
       "count  278573.000000     278573.000000  278573.000000  278573.000000   \n",
       "mean     4930.920025       2002.659493     121.551779  128203.146034   \n",
       "std      4627.784331          6.104078      51.508627   36675.350662   \n",
       "min         1.000000       1960.000000      11.000000    5000.000000   \n",
       "25%      1400.000000       1999.000000      82.000000  125000.000000   \n",
       "50%      3250.000000       2003.000000     116.000000  150000.000000   \n",
       "75%      7000.000000       2007.000000     147.000000  150000.000000   \n",
       "max     20000.000000       2016.000000     450.000000  150000.000000   \n",
       "\n",
       "          PostalCode  \n",
       "count  278573.000000  \n",
       "mean    51211.392935  \n",
       "std     25758.178383  \n",
       "min      1067.000000  \n",
       "25%     30900.000000  \n",
       "50%     50259.000000  \n",
       "75%     72076.000000  \n",
       "max     99998.000000  "
      ]
     },
     "execution_count": 49,
     "metadata": {},
     "output_type": "execute_result"
    }
   ],
   "source": [
    "data = data.drop('RegistrationMonth', axis=1)\n",
    "data.describe()"
   ]
  },
  {
   "cell_type": "code",
   "execution_count": 50,
   "metadata": {},
   "outputs": [
    {
     "data": {
      "text/html": [
       "<div>\n",
       "<style scoped>\n",
       "    .dataframe tbody tr th:only-of-type {\n",
       "        vertical-align: middle;\n",
       "    }\n",
       "\n",
       "    .dataframe tbody tr th {\n",
       "        vertical-align: top;\n",
       "    }\n",
       "\n",
       "    .dataframe thead th {\n",
       "        text-align: right;\n",
       "    }\n",
       "</style>\n",
       "<table border=\"1\" class=\"dataframe\">\n",
       "  <thead>\n",
       "    <tr style=\"text-align: right;\">\n",
       "      <th></th>\n",
       "      <th>Price</th>\n",
       "      <th>VehicleType</th>\n",
       "      <th>RegistrationYear</th>\n",
       "      <th>Gearbox</th>\n",
       "      <th>Power</th>\n",
       "      <th>Model</th>\n",
       "      <th>Kilometer</th>\n",
       "      <th>FuelType</th>\n",
       "      <th>Brand</th>\n",
       "      <th>Repaired</th>\n",
       "      <th>PostalCode</th>\n",
       "    </tr>\n",
       "  </thead>\n",
       "  <tbody>\n",
       "    <tr>\n",
       "      <th>89</th>\n",
       "      <td>1</td>\n",
       "      <td>sedan</td>\n",
       "      <td>1995</td>\n",
       "      <td>manual</td>\n",
       "      <td>113.0</td>\n",
       "      <td>e_klasse</td>\n",
       "      <td>150000</td>\n",
       "      <td>gasoline</td>\n",
       "      <td>mercedes_benz</td>\n",
       "      <td>no</td>\n",
       "      <td>40589</td>\n",
       "    </tr>\n",
       "    <tr>\n",
       "      <th>268</th>\n",
       "      <td>1</td>\n",
       "      <td>sedan</td>\n",
       "      <td>1990</td>\n",
       "      <td>manual</td>\n",
       "      <td>90.0</td>\n",
       "      <td>80</td>\n",
       "      <td>70000</td>\n",
       "      <td>petrol</td>\n",
       "      <td>audi</td>\n",
       "      <td>no</td>\n",
       "      <td>55122</td>\n",
       "    </tr>\n",
       "    <tr>\n",
       "      <th>967</th>\n",
       "      <td>1</td>\n",
       "      <td>wagon</td>\n",
       "      <td>1998</td>\n",
       "      <td>manual</td>\n",
       "      <td>136.0</td>\n",
       "      <td>omega</td>\n",
       "      <td>150000</td>\n",
       "      <td>petrol</td>\n",
       "      <td>opel</td>\n",
       "      <td>no</td>\n",
       "      <td>57614</td>\n",
       "    </tr>\n",
       "    <tr>\n",
       "      <th>1634</th>\n",
       "      <td>2</td>\n",
       "      <td>bus</td>\n",
       "      <td>2004</td>\n",
       "      <td>manual</td>\n",
       "      <td>135.0</td>\n",
       "      <td>scenic</td>\n",
       "      <td>150000</td>\n",
       "      <td>petrol</td>\n",
       "      <td>renault</td>\n",
       "      <td>yes</td>\n",
       "      <td>30926</td>\n",
       "    </tr>\n",
       "    <tr>\n",
       "      <th>1907</th>\n",
       "      <td>1</td>\n",
       "      <td>sedan</td>\n",
       "      <td>2013</td>\n",
       "      <td>auto</td>\n",
       "      <td>241.0</td>\n",
       "      <td>x_type</td>\n",
       "      <td>30000</td>\n",
       "      <td>gasoline</td>\n",
       "      <td>jaguar</td>\n",
       "      <td>no</td>\n",
       "      <td>92660</td>\n",
       "    </tr>\n",
       "  </tbody>\n",
       "</table>\n",
       "</div>"
      ],
      "text/plain": [
       "      Price VehicleType  RegistrationYear Gearbox  Power     Model  Kilometer  \\\n",
       "89        1       sedan              1995  manual  113.0  e_klasse     150000   \n",
       "268       1       sedan              1990  manual   90.0        80      70000   \n",
       "967       1       wagon              1998  manual  136.0     omega     150000   \n",
       "1634      2         bus              2004  manual  135.0    scenic     150000   \n",
       "1907      1       sedan              2013    auto  241.0    x_type      30000   \n",
       "\n",
       "      FuelType          Brand Repaired  PostalCode  \n",
       "89    gasoline  mercedes_benz       no       40589  \n",
       "268     petrol           audi       no       55122  \n",
       "967     petrol           opel       no       57614  \n",
       "1634    petrol        renault      yes       30926  \n",
       "1907  gasoline         jaguar       no       92660  "
      ]
     },
     "execution_count": 50,
     "metadata": {},
     "output_type": "execute_result"
    }
   ],
   "source": [
    "# снова цена. вернусь к ней еще раз\n",
    "data[data['Price'] < 10].head()"
   ]
  },
  {
   "cell_type": "markdown",
   "metadata": {},
   "source": [
    "Здесь видимо тоже вместо цены вписали объем двигателя. Уберу все, что ниже порога в 100 евро, чтобы исключить все опечатки."
   ]
  },
  {
   "cell_type": "code",
   "execution_count": 51,
   "metadata": {
    "scrolled": true
   },
   "outputs": [
    {
     "data": {
      "text/plain": [
       "(277167, 11)"
      ]
     },
     "execution_count": 51,
     "metadata": {},
     "output_type": "execute_result"
    }
   ],
   "source": [
    "data = data[data['Price'] > 100]\n",
    "data.shape"
   ]
  },
  {
   "cell_type": "code",
   "execution_count": 52,
   "metadata": {},
   "outputs": [
    {
     "data": {
      "text/html": [
       "<div>\n",
       "<style scoped>\n",
       "    .dataframe tbody tr th:only-of-type {\n",
       "        vertical-align: middle;\n",
       "    }\n",
       "\n",
       "    .dataframe tbody tr th {\n",
       "        vertical-align: top;\n",
       "    }\n",
       "\n",
       "    .dataframe thead th {\n",
       "        text-align: right;\n",
       "    }\n",
       "</style>\n",
       "<table border=\"1\" class=\"dataframe\">\n",
       "  <thead>\n",
       "    <tr style=\"text-align: right;\">\n",
       "      <th></th>\n",
       "      <th>Price</th>\n",
       "      <th>RegistrationYear</th>\n",
       "      <th>Power</th>\n",
       "      <th>Kilometer</th>\n",
       "      <th>PostalCode</th>\n",
       "    </tr>\n",
       "  </thead>\n",
       "  <tbody>\n",
       "    <tr>\n",
       "      <th>count</th>\n",
       "      <td>277167.000000</td>\n",
       "      <td>277167.000000</td>\n",
       "      <td>277167.000000</td>\n",
       "      <td>277167.000000</td>\n",
       "      <td>277167.000000</td>\n",
       "    </tr>\n",
       "    <tr>\n",
       "      <th>mean</th>\n",
       "      <td>4955.664538</td>\n",
       "      <td>2002.686269</td>\n",
       "      <td>121.662300</td>\n",
       "      <td>128182.738205</td>\n",
       "      <td>51220.886397</td>\n",
       "    </tr>\n",
       "    <tr>\n",
       "      <th>std</th>\n",
       "      <td>4626.413722</td>\n",
       "      <td>6.096680</td>\n",
       "      <td>51.502843</td>\n",
       "      <td>36655.123125</td>\n",
       "      <td>25743.876113</td>\n",
       "    </tr>\n",
       "    <tr>\n",
       "      <th>min</th>\n",
       "      <td>101.000000</td>\n",
       "      <td>1960.000000</td>\n",
       "      <td>11.000000</td>\n",
       "      <td>5000.000000</td>\n",
       "      <td>1067.000000</td>\n",
       "    </tr>\n",
       "    <tr>\n",
       "      <th>25%</th>\n",
       "      <td>1400.000000</td>\n",
       "      <td>1999.000000</td>\n",
       "      <td>83.000000</td>\n",
       "      <td>125000.000000</td>\n",
       "      <td>30900.000000</td>\n",
       "    </tr>\n",
       "    <tr>\n",
       "      <th>50%</th>\n",
       "      <td>3300.000000</td>\n",
       "      <td>2003.000000</td>\n",
       "      <td>116.000000</td>\n",
       "      <td>150000.000000</td>\n",
       "      <td>50259.000000</td>\n",
       "    </tr>\n",
       "    <tr>\n",
       "      <th>75%</th>\n",
       "      <td>7100.000000</td>\n",
       "      <td>2007.000000</td>\n",
       "      <td>149.000000</td>\n",
       "      <td>150000.000000</td>\n",
       "      <td>72072.000000</td>\n",
       "    </tr>\n",
       "    <tr>\n",
       "      <th>max</th>\n",
       "      <td>20000.000000</td>\n",
       "      <td>2016.000000</td>\n",
       "      <td>450.000000</td>\n",
       "      <td>150000.000000</td>\n",
       "      <td>99998.000000</td>\n",
       "    </tr>\n",
       "  </tbody>\n",
       "</table>\n",
       "</div>"
      ],
      "text/plain": [
       "               Price  RegistrationYear          Power      Kilometer  \\\n",
       "count  277167.000000     277167.000000  277167.000000  277167.000000   \n",
       "mean     4955.664538       2002.686269     121.662300  128182.738205   \n",
       "std      4626.413722          6.096680      51.502843   36655.123125   \n",
       "min       101.000000       1960.000000      11.000000    5000.000000   \n",
       "25%      1400.000000       1999.000000      83.000000  125000.000000   \n",
       "50%      3300.000000       2003.000000     116.000000  150000.000000   \n",
       "75%      7100.000000       2007.000000     149.000000  150000.000000   \n",
       "max     20000.000000       2016.000000     450.000000  150000.000000   \n",
       "\n",
       "          PostalCode  \n",
       "count  277167.000000  \n",
       "mean    51220.886397  \n",
       "std     25743.876113  \n",
       "min      1067.000000  \n",
       "25%     30900.000000  \n",
       "50%     50259.000000  \n",
       "75%     72072.000000  \n",
       "max     99998.000000  "
      ]
     },
     "execution_count": 52,
     "metadata": {},
     "output_type": "execute_result"
    }
   ],
   "source": [
    "data.describe()"
   ]
  },
  {
   "cell_type": "code",
   "execution_count": 53,
   "metadata": {},
   "outputs": [],
   "source": [
    "# теперь кажется, что и столбец с индексом тоже мало что даст в таком виде. уберу его.\n",
    "data = data.drop('PostalCode', axis=1)"
   ]
  },
  {
   "cell_type": "code",
   "execution_count": 54,
   "metadata": {},
   "outputs": [
    {
     "name": "stdout",
     "output_type": "stream",
     "text": [
      "False    236520\n",
      "True      40647\n",
      "dtype: int64\n"
     ]
    }
   ],
   "source": [
    "duplicates = data.duplicated()\n",
    "print(duplicates.value_counts())"
   ]
  },
  {
   "cell_type": "code",
   "execution_count": 55,
   "metadata": {},
   "outputs": [
    {
     "name": "stdout",
     "output_type": "stream",
     "text": [
      "размер дс до удаления явных дублей: (277167, 10)\n",
      "Размер дс после: (236520, 10)\n"
     ]
    }
   ],
   "source": [
    "print('размер дс до удаления явных дублей:', data.shape)\n",
    "data = data.drop_duplicates()\n",
    "print('Размер дс после:', data.shape)"
   ]
  },
  {
   "cell_type": "markdown",
   "metadata": {},
   "source": [
    "Итого:\n",
    "\n",
    "- Устранены аномалии в столбцах. Где-то просто удалены, где-то заменены на среднее значение по столбцу.\n",
    "- Удален столбце с месяцем регистрации авто, т.к. это неинформативная информации\n",
    "- Также удален столбец с количеством фотографий, так как все значения в столбце были равны 0. "
   ]
  },
  {
   "cell_type": "markdown",
   "metadata": {},
   "source": [
    "## Обучение моделей"
   ]
  },
  {
   "cell_type": "code",
   "execution_count": 56,
   "metadata": {},
   "outputs": [],
   "source": [
    "# выделяю признаки\n",
    "features = data.drop('Price', axis=1)\n",
    "target = data['Price']\n",
    "\n",
    "# разделение выборки на обучающую и валидационную\n",
    "features_train, features_test, target_train, target_test = train_test_split(features, target, test_size=0.25, random_state=42)"
   ]
  },
  {
   "cell_type": "code",
   "execution_count": 57,
   "metadata": {},
   "outputs": [],
   "source": [
    "# начну с модели случайного леса\n",
    "preprocessor = ColumnTransformer(\n",
    "    transformers=[\n",
    "        ('num', StandardScaler(), ['Power']), \n",
    "        ('cat', OneHotEncoder(drop='first', handle_unknown='ignore', sparse=False), ['Kilometer', 'RegistrationYear','VehicleType', 'Gearbox', 'Model', 'FuelType', 'Brand', 'Repaired'])\n",
    "    ]\n",
    ")"
   ]
  },
  {
   "cell_type": "code",
   "execution_count": 58,
   "metadata": {},
   "outputs": [
    {
     "name": "stderr",
     "output_type": "stream",
     "text": [
      "/opt/conda/lib/python3.9/site-packages/sklearn/preprocessing/_encoders.py:975: FutureWarning: `sparse` was renamed to `sparse_output` in version 1.2 and will be removed in 1.4. `sparse_output` is ignored unless you leave `sparse` to its default value.\n",
      "  warnings.warn(\n"
     ]
    }
   ],
   "source": [
    "# Обработка признаков\n",
    "features_train_processed = preprocessor.fit_transform(features_train)\n",
    "features_test_processed = preprocessor.transform(features_test)"
   ]
  },
  {
   "cell_type": "code",
   "execution_count": 59,
   "metadata": {},
   "outputs": [],
   "source": [
    "pipeline = Pipeline([\n",
    "    ('regressor', RandomForestRegressor(random_state=42)) \n",
    "])\n",
    "\n",
    "# Задаем сетку параметров для GridSearchCV\n",
    "parameters = {\n",
    "    'regressor__n_estimators': [5, 10, 15],\n",
    "    'regressor__max_depth': [2, 5, 7]\n",
    "}"
   ]
  },
  {
   "cell_type": "code",
   "execution_count": 60,
   "metadata": {},
   "outputs": [],
   "source": [
    "# Создание объекта-оценщика с параметром greater_is_better=False\n",
    "scorer = make_scorer(mean_squared_error, squared=False, greater_is_better=False)"
   ]
  },
  {
   "cell_type": "code",
   "execution_count": 61,
   "metadata": {},
   "outputs": [],
   "source": [
    "# Создание объекта GridSearchCV\n",
    "gridsearch = GridSearchCV(pipeline, parameters, cv=5, scoring=scorer)"
   ]
  },
  {
   "cell_type": "code",
   "execution_count": 62,
   "metadata": {},
   "outputs": [
    {
     "data": {
      "text/html": [
       "<style>#sk-container-id-1 {color: black;}#sk-container-id-1 pre{padding: 0;}#sk-container-id-1 div.sk-toggleable {background-color: white;}#sk-container-id-1 label.sk-toggleable__label {cursor: pointer;display: block;width: 100%;margin-bottom: 0;padding: 0.3em;box-sizing: border-box;text-align: center;}#sk-container-id-1 label.sk-toggleable__label-arrow:before {content: \"▸\";float: left;margin-right: 0.25em;color: #696969;}#sk-container-id-1 label.sk-toggleable__label-arrow:hover:before {color: black;}#sk-container-id-1 div.sk-estimator:hover label.sk-toggleable__label-arrow:before {color: black;}#sk-container-id-1 div.sk-toggleable__content {max-height: 0;max-width: 0;overflow: hidden;text-align: left;background-color: #f0f8ff;}#sk-container-id-1 div.sk-toggleable__content pre {margin: 0.2em;color: black;border-radius: 0.25em;background-color: #f0f8ff;}#sk-container-id-1 input.sk-toggleable__control:checked~div.sk-toggleable__content {max-height: 200px;max-width: 100%;overflow: auto;}#sk-container-id-1 input.sk-toggleable__control:checked~label.sk-toggleable__label-arrow:before {content: \"▾\";}#sk-container-id-1 div.sk-estimator input.sk-toggleable__control:checked~label.sk-toggleable__label {background-color: #d4ebff;}#sk-container-id-1 div.sk-label input.sk-toggleable__control:checked~label.sk-toggleable__label {background-color: #d4ebff;}#sk-container-id-1 input.sk-hidden--visually {border: 0;clip: rect(1px 1px 1px 1px);clip: rect(1px, 1px, 1px, 1px);height: 1px;margin: -1px;overflow: hidden;padding: 0;position: absolute;width: 1px;}#sk-container-id-1 div.sk-estimator {font-family: monospace;background-color: #f0f8ff;border: 1px dotted black;border-radius: 0.25em;box-sizing: border-box;margin-bottom: 0.5em;}#sk-container-id-1 div.sk-estimator:hover {background-color: #d4ebff;}#sk-container-id-1 div.sk-parallel-item::after {content: \"\";width: 100%;border-bottom: 1px solid gray;flex-grow: 1;}#sk-container-id-1 div.sk-label:hover label.sk-toggleable__label {background-color: #d4ebff;}#sk-container-id-1 div.sk-serial::before {content: \"\";position: absolute;border-left: 1px solid gray;box-sizing: border-box;top: 0;bottom: 0;left: 50%;z-index: 0;}#sk-container-id-1 div.sk-serial {display: flex;flex-direction: column;align-items: center;background-color: white;padding-right: 0.2em;padding-left: 0.2em;position: relative;}#sk-container-id-1 div.sk-item {position: relative;z-index: 1;}#sk-container-id-1 div.sk-parallel {display: flex;align-items: stretch;justify-content: center;background-color: white;position: relative;}#sk-container-id-1 div.sk-item::before, #sk-container-id-1 div.sk-parallel-item::before {content: \"\";position: absolute;border-left: 1px solid gray;box-sizing: border-box;top: 0;bottom: 0;left: 50%;z-index: -1;}#sk-container-id-1 div.sk-parallel-item {display: flex;flex-direction: column;z-index: 1;position: relative;background-color: white;}#sk-container-id-1 div.sk-parallel-item:first-child::after {align-self: flex-end;width: 50%;}#sk-container-id-1 div.sk-parallel-item:last-child::after {align-self: flex-start;width: 50%;}#sk-container-id-1 div.sk-parallel-item:only-child::after {width: 0;}#sk-container-id-1 div.sk-dashed-wrapped {border: 1px dashed gray;margin: 0 0.4em 0.5em 0.4em;box-sizing: border-box;padding-bottom: 0.4em;background-color: white;}#sk-container-id-1 div.sk-label label {font-family: monospace;font-weight: bold;display: inline-block;line-height: 1.2em;}#sk-container-id-1 div.sk-label-container {text-align: center;}#sk-container-id-1 div.sk-container {/* jupyter's `normalize.less` sets `[hidden] { display: none; }` but bootstrap.min.css set `[hidden] { display: none !important; }` so we also need the `!important` here to be able to override the default hidden behavior on the sphinx rendered scikit-learn.org. See: https://github.com/scikit-learn/scikit-learn/issues/21755 */display: inline-block !important;position: relative;}#sk-container-id-1 div.sk-text-repr-fallback {display: none;}</style><div id=\"sk-container-id-1\" class=\"sk-top-container\"><div class=\"sk-text-repr-fallback\"><pre>GridSearchCV(cv=5,\n",
       "             estimator=Pipeline(steps=[(&#x27;regressor&#x27;,\n",
       "                                        RandomForestRegressor(random_state=42))]),\n",
       "             param_grid={&#x27;regressor__max_depth&#x27;: [2, 5, 7],\n",
       "                         &#x27;regressor__n_estimators&#x27;: [5, 10, 15]},\n",
       "             scoring=make_scorer(mean_squared_error, greater_is_better=False, squared=False))</pre><b>In a Jupyter environment, please rerun this cell to show the HTML representation or trust the notebook. <br />On GitHub, the HTML representation is unable to render, please try loading this page with nbviewer.org.</b></div><div class=\"sk-container\" hidden><div class=\"sk-item sk-dashed-wrapped\"><div class=\"sk-label-container\"><div class=\"sk-label sk-toggleable\"><input class=\"sk-toggleable__control sk-hidden--visually\" id=\"sk-estimator-id-1\" type=\"checkbox\" ><label for=\"sk-estimator-id-1\" class=\"sk-toggleable__label sk-toggleable__label-arrow\">GridSearchCV</label><div class=\"sk-toggleable__content\"><pre>GridSearchCV(cv=5,\n",
       "             estimator=Pipeline(steps=[(&#x27;regressor&#x27;,\n",
       "                                        RandomForestRegressor(random_state=42))]),\n",
       "             param_grid={&#x27;regressor__max_depth&#x27;: [2, 5, 7],\n",
       "                         &#x27;regressor__n_estimators&#x27;: [5, 10, 15]},\n",
       "             scoring=make_scorer(mean_squared_error, greater_is_better=False, squared=False))</pre></div></div></div><div class=\"sk-parallel\"><div class=\"sk-parallel-item\"><div class=\"sk-item\"><div class=\"sk-label-container\"><div class=\"sk-label sk-toggleable\"><input class=\"sk-toggleable__control sk-hidden--visually\" id=\"sk-estimator-id-2\" type=\"checkbox\" ><label for=\"sk-estimator-id-2\" class=\"sk-toggleable__label sk-toggleable__label-arrow\">estimator: Pipeline</label><div class=\"sk-toggleable__content\"><pre>Pipeline(steps=[(&#x27;regressor&#x27;, RandomForestRegressor(random_state=42))])</pre></div></div></div><div class=\"sk-serial\"><div class=\"sk-item\"><div class=\"sk-serial\"><div class=\"sk-item\"><div class=\"sk-estimator sk-toggleable\"><input class=\"sk-toggleable__control sk-hidden--visually\" id=\"sk-estimator-id-3\" type=\"checkbox\" ><label for=\"sk-estimator-id-3\" class=\"sk-toggleable__label sk-toggleable__label-arrow\">RandomForestRegressor</label><div class=\"sk-toggleable__content\"><pre>RandomForestRegressor(random_state=42)</pre></div></div></div></div></div></div></div></div></div></div></div></div>"
      ],
      "text/plain": [
       "GridSearchCV(cv=5,\n",
       "             estimator=Pipeline(steps=[('regressor',\n",
       "                                        RandomForestRegressor(random_state=42))]),\n",
       "             param_grid={'regressor__max_depth': [2, 5, 7],\n",
       "                         'regressor__n_estimators': [5, 10, 15]},\n",
       "             scoring=make_scorer(mean_squared_error, greater_is_better=False, squared=False))"
      ]
     },
     "execution_count": 62,
     "metadata": {},
     "output_type": "execute_result"
    }
   ],
   "source": [
    "# Обучение модели\n",
    "gridsearch.fit(features_train_processed, target_train)"
   ]
  },
  {
   "cell_type": "code",
   "execution_count": 63,
   "metadata": {},
   "outputs": [
    {
     "name": "stdout",
     "output_type": "stream",
     "text": [
      "2791.462293177687\n"
     ]
    }
   ],
   "source": [
    "# Замеряем RMSE на кросс-валидации\n",
    "rmse_rf = gridsearch.best_score_\n",
    "print(-rmse_rf)"
   ]
  },
  {
   "cell_type": "code",
   "execution_count": 64,
   "metadata": {},
   "outputs": [],
   "source": [
    "# Получаем лучшую модель из best_estimator\n",
    "model = gridsearch.best_estimator_ "
   ]
  },
  {
   "cell_type": "code",
   "execution_count": 65,
   "metadata": {},
   "outputs": [],
   "source": [
    "# Замеряем время обучения\n",
    "start = time()\n",
    "\n",
    "model.fit(features_train_processed, target_train) \n",
    "\n",
    "end = time()\n",
    "\n",
    "model_time = (end-start)/60 #перевожу в минуты, так как по умолчанию секунды"
   ]
  },
  {
   "cell_type": "code",
   "execution_count": 66,
   "metadata": {},
   "outputs": [
    {
     "name": "stdout",
     "output_type": "stream",
     "text": [
      "Время обучения модели случайного леса: 0.5494125207265218 минут\n"
     ]
    }
   ],
   "source": [
    "print('Время обучения модели случайного леса:', model_time,'минут')"
   ]
  },
  {
   "cell_type": "code",
   "execution_count": 67,
   "metadata": {},
   "outputs": [],
   "source": [
    "# Замеряем время предсказания\n",
    "start = time()\n",
    "\n",
    "model.predict(features_train_processed) \n",
    "\n",
    "end = time()\n",
    "\n",
    "predict_time = (end-start)/60"
   ]
  },
  {
   "cell_type": "code",
   "execution_count": 68,
   "metadata": {},
   "outputs": [
    {
     "name": "stdout",
     "output_type": "stream",
     "text": [
      "Время получения предсказаний модели случайного леса: 0.006758586565653483 минут\n"
     ]
    }
   ],
   "source": [
    "print('Время получения предсказаний модели случайного леса:', predict_time,'минут')"
   ]
  },
  {
   "cell_type": "code",
   "execution_count": 69,
   "metadata": {},
   "outputs": [],
   "source": [
    "# теперь модель LightGBM\n",
    "pipeline_gbm = Pipeline([\n",
    "    ('boost', LGBMRegressor(random_state=42))\n",
    "])\n",
    "# Задаем сетку параметров для GridSearchCV\n",
    "parameters_gbm = {\n",
    "    'boost__n_estimators': [50, 75, 100],\n",
    "    'boost__max_depth': [2, 5, 7]\n",
    "}"
   ]
  },
  {
   "cell_type": "code",
   "execution_count": 70,
   "metadata": {},
   "outputs": [],
   "source": [
    "# Создание объекта GridSearchCV\n",
    "gridsearch_gbm = GridSearchCV(pipeline_gbm, parameters_gbm, cv=5, scoring=scorer)"
   ]
  },
  {
   "cell_type": "code",
   "execution_count": 71,
   "metadata": {},
   "outputs": [
    {
     "data": {
      "text/html": [
       "<style>#sk-container-id-2 {color: black;}#sk-container-id-2 pre{padding: 0;}#sk-container-id-2 div.sk-toggleable {background-color: white;}#sk-container-id-2 label.sk-toggleable__label {cursor: pointer;display: block;width: 100%;margin-bottom: 0;padding: 0.3em;box-sizing: border-box;text-align: center;}#sk-container-id-2 label.sk-toggleable__label-arrow:before {content: \"▸\";float: left;margin-right: 0.25em;color: #696969;}#sk-container-id-2 label.sk-toggleable__label-arrow:hover:before {color: black;}#sk-container-id-2 div.sk-estimator:hover label.sk-toggleable__label-arrow:before {color: black;}#sk-container-id-2 div.sk-toggleable__content {max-height: 0;max-width: 0;overflow: hidden;text-align: left;background-color: #f0f8ff;}#sk-container-id-2 div.sk-toggleable__content pre {margin: 0.2em;color: black;border-radius: 0.25em;background-color: #f0f8ff;}#sk-container-id-2 input.sk-toggleable__control:checked~div.sk-toggleable__content {max-height: 200px;max-width: 100%;overflow: auto;}#sk-container-id-2 input.sk-toggleable__control:checked~label.sk-toggleable__label-arrow:before {content: \"▾\";}#sk-container-id-2 div.sk-estimator input.sk-toggleable__control:checked~label.sk-toggleable__label {background-color: #d4ebff;}#sk-container-id-2 div.sk-label input.sk-toggleable__control:checked~label.sk-toggleable__label {background-color: #d4ebff;}#sk-container-id-2 input.sk-hidden--visually {border: 0;clip: rect(1px 1px 1px 1px);clip: rect(1px, 1px, 1px, 1px);height: 1px;margin: -1px;overflow: hidden;padding: 0;position: absolute;width: 1px;}#sk-container-id-2 div.sk-estimator {font-family: monospace;background-color: #f0f8ff;border: 1px dotted black;border-radius: 0.25em;box-sizing: border-box;margin-bottom: 0.5em;}#sk-container-id-2 div.sk-estimator:hover {background-color: #d4ebff;}#sk-container-id-2 div.sk-parallel-item::after {content: \"\";width: 100%;border-bottom: 1px solid gray;flex-grow: 1;}#sk-container-id-2 div.sk-label:hover label.sk-toggleable__label {background-color: #d4ebff;}#sk-container-id-2 div.sk-serial::before {content: \"\";position: absolute;border-left: 1px solid gray;box-sizing: border-box;top: 0;bottom: 0;left: 50%;z-index: 0;}#sk-container-id-2 div.sk-serial {display: flex;flex-direction: column;align-items: center;background-color: white;padding-right: 0.2em;padding-left: 0.2em;position: relative;}#sk-container-id-2 div.sk-item {position: relative;z-index: 1;}#sk-container-id-2 div.sk-parallel {display: flex;align-items: stretch;justify-content: center;background-color: white;position: relative;}#sk-container-id-2 div.sk-item::before, #sk-container-id-2 div.sk-parallel-item::before {content: \"\";position: absolute;border-left: 1px solid gray;box-sizing: border-box;top: 0;bottom: 0;left: 50%;z-index: -1;}#sk-container-id-2 div.sk-parallel-item {display: flex;flex-direction: column;z-index: 1;position: relative;background-color: white;}#sk-container-id-2 div.sk-parallel-item:first-child::after {align-self: flex-end;width: 50%;}#sk-container-id-2 div.sk-parallel-item:last-child::after {align-self: flex-start;width: 50%;}#sk-container-id-2 div.sk-parallel-item:only-child::after {width: 0;}#sk-container-id-2 div.sk-dashed-wrapped {border: 1px dashed gray;margin: 0 0.4em 0.5em 0.4em;box-sizing: border-box;padding-bottom: 0.4em;background-color: white;}#sk-container-id-2 div.sk-label label {font-family: monospace;font-weight: bold;display: inline-block;line-height: 1.2em;}#sk-container-id-2 div.sk-label-container {text-align: center;}#sk-container-id-2 div.sk-container {/* jupyter's `normalize.less` sets `[hidden] { display: none; }` but bootstrap.min.css set `[hidden] { display: none !important; }` so we also need the `!important` here to be able to override the default hidden behavior on the sphinx rendered scikit-learn.org. See: https://github.com/scikit-learn/scikit-learn/issues/21755 */display: inline-block !important;position: relative;}#sk-container-id-2 div.sk-text-repr-fallback {display: none;}</style><div id=\"sk-container-id-2\" class=\"sk-top-container\"><div class=\"sk-text-repr-fallback\"><pre>GridSearchCV(cv=5,\n",
       "             estimator=Pipeline(steps=[(&#x27;boost&#x27;,\n",
       "                                        LGBMRegressor(random_state=42))]),\n",
       "             param_grid={&#x27;boost__max_depth&#x27;: [2, 5, 7],\n",
       "                         &#x27;boost__n_estimators&#x27;: [50, 75, 100]},\n",
       "             scoring=make_scorer(mean_squared_error, greater_is_better=False, squared=False))</pre><b>In a Jupyter environment, please rerun this cell to show the HTML representation or trust the notebook. <br />On GitHub, the HTML representation is unable to render, please try loading this page with nbviewer.org.</b></div><div class=\"sk-container\" hidden><div class=\"sk-item sk-dashed-wrapped\"><div class=\"sk-label-container\"><div class=\"sk-label sk-toggleable\"><input class=\"sk-toggleable__control sk-hidden--visually\" id=\"sk-estimator-id-4\" type=\"checkbox\" ><label for=\"sk-estimator-id-4\" class=\"sk-toggleable__label sk-toggleable__label-arrow\">GridSearchCV</label><div class=\"sk-toggleable__content\"><pre>GridSearchCV(cv=5,\n",
       "             estimator=Pipeline(steps=[(&#x27;boost&#x27;,\n",
       "                                        LGBMRegressor(random_state=42))]),\n",
       "             param_grid={&#x27;boost__max_depth&#x27;: [2, 5, 7],\n",
       "                         &#x27;boost__n_estimators&#x27;: [50, 75, 100]},\n",
       "             scoring=make_scorer(mean_squared_error, greater_is_better=False, squared=False))</pre></div></div></div><div class=\"sk-parallel\"><div class=\"sk-parallel-item\"><div class=\"sk-item\"><div class=\"sk-label-container\"><div class=\"sk-label sk-toggleable\"><input class=\"sk-toggleable__control sk-hidden--visually\" id=\"sk-estimator-id-5\" type=\"checkbox\" ><label for=\"sk-estimator-id-5\" class=\"sk-toggleable__label sk-toggleable__label-arrow\">estimator: Pipeline</label><div class=\"sk-toggleable__content\"><pre>Pipeline(steps=[(&#x27;boost&#x27;, LGBMRegressor(random_state=42))])</pre></div></div></div><div class=\"sk-serial\"><div class=\"sk-item\"><div class=\"sk-serial\"><div class=\"sk-item\"><div class=\"sk-estimator sk-toggleable\"><input class=\"sk-toggleable__control sk-hidden--visually\" id=\"sk-estimator-id-6\" type=\"checkbox\" ><label for=\"sk-estimator-id-6\" class=\"sk-toggleable__label sk-toggleable__label-arrow\">LGBMRegressor</label><div class=\"sk-toggleable__content\"><pre>LGBMRegressor(random_state=42)</pre></div></div></div></div></div></div></div></div></div></div></div></div>"
      ],
      "text/plain": [
       "GridSearchCV(cv=5,\n",
       "             estimator=Pipeline(steps=[('boost',\n",
       "                                        LGBMRegressor(random_state=42))]),\n",
       "             param_grid={'boost__max_depth': [2, 5, 7],\n",
       "                         'boost__n_estimators': [50, 75, 100]},\n",
       "             scoring=make_scorer(mean_squared_error, greater_is_better=False, squared=False))"
      ]
     },
     "execution_count": 71,
     "metadata": {},
     "output_type": "execute_result"
    }
   ],
   "source": [
    "# Обучение модели градиентного бустинга\n",
    "gridsearch_gbm.fit(features_train_processed, target_train)"
   ]
  },
  {
   "cell_type": "code",
   "execution_count": 72,
   "metadata": {},
   "outputs": [
    {
     "name": "stdout",
     "output_type": "stream",
     "text": [
      "1861.3369461407772\n"
     ]
    }
   ],
   "source": [
    "# Замеряем RMSE на кросс-валидации\n",
    "rmse_gbm = gridsearch_gbm.best_score_\n",
    "print(-rmse_gbm)"
   ]
  },
  {
   "cell_type": "code",
   "execution_count": 73,
   "metadata": {},
   "outputs": [],
   "source": [
    "# Получаем лучшую модель из best_estimator\n",
    "model_gbm = gridsearch_gbm.best_estimator_ "
   ]
  },
  {
   "cell_type": "code",
   "execution_count": 74,
   "metadata": {},
   "outputs": [],
   "source": [
    "# Замеряем время обучения\n",
    "start = time()\n",
    "\n",
    "model_gbm.fit(features_train_processed, target_train) \n",
    "\n",
    "end = time()\n",
    "\n",
    "model_gbm_time = (end-start)/60 #перевожу в минуты, так как по умолчанию секунды"
   ]
  },
  {
   "cell_type": "code",
   "execution_count": 75,
   "metadata": {},
   "outputs": [
    {
     "name": "stdout",
     "output_type": "stream",
     "text": [
      "Время обучения модели градиентного бустинга: 0.1045251727104187 минут\n"
     ]
    }
   ],
   "source": [
    "print('Время обучения модели градиентного бустинга:', model_gbm_time,'минут')"
   ]
  },
  {
   "cell_type": "code",
   "execution_count": 76,
   "metadata": {},
   "outputs": [],
   "source": [
    "# Замеряем время предсказания\n",
    "start = time()\n",
    "\n",
    "model_gbm.predict(features_train_processed) \n",
    "\n",
    "end = time()\n",
    "\n",
    "predict_gbm_time = (end-start)/60"
   ]
  },
  {
   "cell_type": "code",
   "execution_count": 77,
   "metadata": {},
   "outputs": [
    {
     "name": "stdout",
     "output_type": "stream",
     "text": [
      "Время получения предсказаний модели градиентного бустинга: 0.019708847999572753 минут\n"
     ]
    }
   ],
   "source": [
    "print('Время получения предсказаний модели градиентного бустинга:', predict_gbm_time,'минут')"
   ]
  },
  {
   "cell_type": "markdown",
   "metadata": {},
   "source": [
    "## Анализ моделей"
   ]
  },
  {
   "cell_type": "code",
   "execution_count": 81,
   "metadata": {},
   "outputs": [
    {
     "data": {
      "text/html": [
       "<div>\n",
       "<style scoped>\n",
       "    .dataframe tbody tr th:only-of-type {\n",
       "        vertical-align: middle;\n",
       "    }\n",
       "\n",
       "    .dataframe tbody tr th {\n",
       "        vertical-align: top;\n",
       "    }\n",
       "\n",
       "    .dataframe thead th {\n",
       "        text-align: right;\n",
       "    }\n",
       "</style>\n",
       "<table border=\"1\" class=\"dataframe\">\n",
       "  <thead>\n",
       "    <tr style=\"text-align: right;\">\n",
       "      <th></th>\n",
       "      <th>Время обучения</th>\n",
       "      <th>RMSE</th>\n",
       "      <th>Время предсказаний</th>\n",
       "    </tr>\n",
       "  </thead>\n",
       "  <tbody>\n",
       "    <tr>\n",
       "      <th>Случайный лес</th>\n",
       "      <td>0.549413</td>\n",
       "      <td>2791.462293</td>\n",
       "      <td>0.006759</td>\n",
       "    </tr>\n",
       "    <tr>\n",
       "      <th>LightGBM</th>\n",
       "      <td>0.104525</td>\n",
       "      <td>1861.336946</td>\n",
       "      <td>0.019709</td>\n",
       "    </tr>\n",
       "  </tbody>\n",
       "</table>\n",
       "</div>"
      ],
      "text/plain": [
       "               Время обучения         RMSE  Время предсказаний\n",
       "Случайный лес        0.549413  2791.462293            0.006759\n",
       "LightGBM             0.104525  1861.336946            0.019709"
      ]
     },
     "metadata": {},
     "output_type": "display_data"
    }
   ],
   "source": [
    "index = ['Случайный лес', 'LightGBM']\n",
    "columns = ['Время обучения', 'Время предсказаний', 'RMSE']\n",
    "\n",
    "summery = pd.DataFrame({'Время обучения': [model_time, model_gbm_time],\n",
    "                        'RMSE': [-rmse_rf, -rmse_gbm],\n",
    "                        'Время предсказаний': [predict_time, predict_gbm_time]}, index=index)\n",
    "\n",
    "display(summery)"
   ]
  },
  {
   "cell_type": "markdown",
   "metadata": {},
   "source": [
    "Время обучения обеих модели случайного леса в 2 раза больше, чем у модели градиентного бустинга, а время получения предсказаний наоборот - у градиентного бустинга выше, чем у модели случайного леса.\n",
    "\n",
    "У модели градиентного бустинга лучше метрика RMSE - 1861. \n",
    "\n",
    "Для сравнения у модели случайного леса метрика RMSE - 2791. \n",
    "\n",
    "Исходя из этого остановлюсь на модели LightGBM и протестирую ее на тестовой выборке."
   ]
  },
  {
   "cell_type": "code",
   "execution_count": 79,
   "metadata": {},
   "outputs": [
    {
     "name": "stdout",
     "output_type": "stream",
     "text": [
      "RMSE модели градиентного бустинга: 1879.0\n"
     ]
    }
   ],
   "source": [
    "# Проверка модели на тестовой выборке\n",
    "predictions = model_gbm.predict(features_test_processed) \n",
    "rmse = np.sqrt(mean_squared_error(target_test, predictions))\n",
    "print('RMSE модели градиентного бустинга:', rmse.round())"
   ]
  },
  {
   "cell_type": "markdown",
   "metadata": {},
   "source": [
    "При проверке модели LightGBM на тестовой выборке метрика RMSE составила 1879, что укладывается в таргет < 2500. "
   ]
  },
  {
   "cell_type": "code",
   "execution_count": 80,
   "metadata": {},
   "outputs": [
    {
     "name": "stdout",
     "output_type": "stream",
     "text": [
      "RMSE константной модели: 6901.0\n"
     ]
    }
   ],
   "source": [
    "# Сравнение качества модели с качеством константной модели\n",
    "dummy_model = DummyRegressor(strategy='constant', constant=1)\n",
    "dummy_model.fit(features_train_processed, target_train)\n",
    "dummy_pred = dummy_model.predict(features_test_processed)\n",
    "dummy_rmse = np.sqrt(mean_squared_error(target_test, dummy_pred))\n",
    "print('RMSE константной модели:', dummy_rmse.round())"
   ]
  },
  {
   "cell_type": "markdown",
   "metadata": {},
   "source": [
    "RMSE константной модели равно 6901, а модели LightGBM - 1879, что говорит о вменяемости последней."
   ]
  },
  {
   "cell_type": "markdown",
   "metadata": {},
   "source": [
    "## Общий вывод\n",
    "\n",
    "Предобработка данных:\n",
    "\n",
    "- Данные загружены и проверены на пропуски\n",
    "- В некоторых столбца были обнаружены множественные пропуски. Там, где это было возможно пропуски были заменены на средние знаечения. Там где такой возможности не было, пропуски были удалены. \n",
    "- Исследованы аномалии в данных, вызванные в основном ошибками в заполнении данных. \n",
    "- Аномалии были устранены. \n",
    "- Помимо пропусков и аномалий также были удалены некоторые столбцы, которые не содержали в себе никакой информативной информации.\n",
    "\n",
    "Обучение моделей:\n",
    "\n",
    "- В данном случае решалась задача регрессии и было выбрано 2 модели для обучения: модель случайного леса и модель градиентного бустинга.\n",
    "- Модель случайного леса показала метрику RMSE равную 2791 и скорость обучения 0.5 минуты.\n",
    "- Модель градиентного бустинга показала метрику RMSE равную 1861 и скорость обучения 0.1 минуты.\n",
    "- В качестве лучшей модели выбран LightGBM.\n",
    "- При тестировании лучшей модели на тестовой выборке, получил RMSE равную 1879."
   ]
  }
 ],
 "metadata": {
  "ExecuteTimeLog": [
   {
    "duration": 87,
    "start_time": "2024-01-09T09:23:14.915Z"
   },
   {
    "duration": 1106,
    "start_time": "2024-01-09T09:23:47.526Z"
   },
   {
    "duration": 4,
    "start_time": "2024-01-09T09:24:00.039Z"
   },
   {
    "duration": 3,
    "start_time": "2024-01-09T09:28:32.660Z"
   },
   {
    "duration": 44,
    "start_time": "2024-01-09T09:29:20.826Z"
   },
   {
    "duration": 1130,
    "start_time": "2024-01-09T09:30:04.070Z"
   },
   {
    "duration": 142,
    "start_time": "2024-01-09T09:30:22.399Z"
   },
   {
    "duration": 118,
    "start_time": "2024-01-09T09:49:34.728Z"
   },
   {
    "duration": 41,
    "start_time": "2024-01-09T09:55:40.111Z"
   },
   {
    "duration": 3,
    "start_time": "2024-01-09T11:16:34.210Z"
   },
   {
    "duration": 916,
    "start_time": "2024-01-09T11:16:34.216Z"
   },
   {
    "duration": 148,
    "start_time": "2024-01-09T11:16:35.134Z"
   },
   {
    "duration": 115,
    "start_time": "2024-01-09T11:16:35.284Z"
   },
   {
    "duration": 38,
    "start_time": "2024-01-09T11:16:35.401Z"
   },
   {
    "duration": 38,
    "start_time": "2024-01-09T11:17:00.425Z"
   },
   {
    "duration": 87,
    "start_time": "2024-01-09T11:18:10.244Z"
   },
   {
    "duration": 35,
    "start_time": "2024-01-09T11:18:14.829Z"
   },
   {
    "duration": 183,
    "start_time": "2024-01-09T11:18:22.007Z"
   },
   {
    "duration": 34,
    "start_time": "2024-01-09T11:18:27.257Z"
   },
   {
    "duration": 48,
    "start_time": "2024-01-09T11:19:15.641Z"
   },
   {
    "duration": 35,
    "start_time": "2024-01-09T11:19:54.992Z"
   },
   {
    "duration": 24,
    "start_time": "2024-01-09T11:21:32.772Z"
   },
   {
    "duration": 137,
    "start_time": "2024-01-09T11:26:58.107Z"
   },
   {
    "duration": 4,
    "start_time": "2024-01-09T11:28:43.793Z"
   },
   {
    "duration": 811,
    "start_time": "2024-01-09T11:28:43.798Z"
   },
   {
    "duration": 143,
    "start_time": "2024-01-09T11:28:44.611Z"
   },
   {
    "duration": 142,
    "start_time": "2024-01-09T11:28:44.755Z"
   },
   {
    "duration": 36,
    "start_time": "2024-01-09T11:28:44.900Z"
   },
   {
    "duration": 30,
    "start_time": "2024-01-09T11:28:44.937Z"
   },
   {
    "duration": 9,
    "start_time": "2024-01-09T11:28:44.968Z"
   },
   {
    "duration": 62,
    "start_time": "2024-01-09T11:28:44.978Z"
   },
   {
    "duration": 96,
    "start_time": "2024-01-09T11:29:51.014Z"
   },
   {
    "duration": 113,
    "start_time": "2024-01-09T11:35:39.423Z"
   },
   {
    "duration": 32,
    "start_time": "2024-01-09T11:35:48.936Z"
   },
   {
    "duration": 19,
    "start_time": "2024-01-09T11:36:29.727Z"
   },
   {
    "duration": 46,
    "start_time": "2024-01-09T11:38:12.828Z"
   },
   {
    "duration": 90,
    "start_time": "2024-01-09T11:38:49.785Z"
   },
   {
    "duration": 1377,
    "start_time": "2024-01-09T11:39:26.583Z"
   },
   {
    "duration": 37,
    "start_time": "2024-01-09T11:39:35.499Z"
   },
   {
    "duration": 55,
    "start_time": "2024-01-09T11:41:11.498Z"
   },
   {
    "duration": 99,
    "start_time": "2024-01-09T11:41:54.292Z"
   },
   {
    "duration": 49,
    "start_time": "2024-01-09T11:44:52.744Z"
   },
   {
    "duration": 41,
    "start_time": "2024-01-09T11:45:28.652Z"
   },
   {
    "duration": 4,
    "start_time": "2024-01-09T12:00:48.894Z"
   },
   {
    "duration": 8,
    "start_time": "2024-01-09T12:03:03.403Z"
   },
   {
    "duration": 273327,
    "start_time": "2024-01-09T12:03:12.747Z"
   },
   {
    "duration": 3,
    "start_time": "2024-01-09T12:09:20.691Z"
   },
   {
    "duration": 11,
    "start_time": "2024-01-09T12:09:34.496Z"
   },
   {
    "duration": 3,
    "start_time": "2024-01-09T12:10:01.705Z"
   },
   {
    "duration": 13,
    "start_time": "2024-01-09T12:10:02.359Z"
   },
   {
    "duration": 1777,
    "start_time": "2024-01-09T13:01:26.899Z"
   },
   {
    "duration": 76078,
    "start_time": "2024-01-09T13:01:56.373Z"
   },
   {
    "duration": 19,
    "start_time": "2024-01-09T13:03:28.299Z"
   },
   {
    "duration": 76,
    "start_time": "2024-01-09T13:03:42.418Z"
   },
   {
    "duration": 11,
    "start_time": "2024-01-09T13:06:39.647Z"
   },
   {
    "duration": 3,
    "start_time": "2024-01-09T13:06:52.539Z"
   },
   {
    "duration": 30,
    "start_time": "2024-01-09T13:06:55.115Z"
   },
   {
    "duration": 87,
    "start_time": "2024-01-09T13:12:27.574Z"
   },
   {
    "duration": 325,
    "start_time": "2024-01-09T13:20:37.723Z"
   },
   {
    "duration": 249,
    "start_time": "2024-01-09T13:21:26.218Z"
   },
   {
    "duration": 184,
    "start_time": "2024-01-09T13:22:04.440Z"
   },
   {
    "duration": 196,
    "start_time": "2024-01-09T13:23:23.911Z"
   },
   {
    "duration": 273,
    "start_time": "2024-01-09T13:26:01.800Z"
   },
   {
    "duration": 168,
    "start_time": "2024-01-09T13:26:20.820Z"
   },
   {
    "duration": 118,
    "start_time": "2024-01-09T13:26:34.347Z"
   },
   {
    "duration": 248,
    "start_time": "2024-01-09T13:26:40.538Z"
   },
   {
    "duration": 339,
    "start_time": "2024-01-09T13:26:54.326Z"
   },
   {
    "duration": 540,
    "start_time": "2024-01-09T13:27:40.725Z"
   },
   {
    "duration": 655,
    "start_time": "2024-01-09T13:27:48.377Z"
   },
   {
    "duration": 173,
    "start_time": "2024-01-09T13:28:55.219Z"
   },
   {
    "duration": 16,
    "start_time": "2024-01-09T13:30:07.407Z"
   },
   {
    "duration": 5,
    "start_time": "2024-01-09T13:30:13.748Z"
   },
   {
    "duration": 24,
    "start_time": "2024-01-09T13:31:54.374Z"
   },
   {
    "duration": 14,
    "start_time": "2024-01-09T13:33:41.642Z"
   },
   {
    "duration": 11,
    "start_time": "2024-01-09T13:41:26.897Z"
   },
   {
    "duration": 69,
    "start_time": "2024-01-09T13:44:28.416Z"
   },
   {
    "duration": 234,
    "start_time": "2024-01-09T13:45:19.955Z"
   },
   {
    "duration": 171,
    "start_time": "2024-01-09T13:45:28.305Z"
   },
   {
    "duration": 7,
    "start_time": "2024-01-09T13:46:13.255Z"
   },
   {
    "duration": 5,
    "start_time": "2024-01-09T13:46:28.416Z"
   },
   {
    "duration": 13,
    "start_time": "2024-01-09T13:46:53.538Z"
   },
   {
    "duration": 7,
    "start_time": "2024-01-09T13:47:18.702Z"
   },
   {
    "duration": 8,
    "start_time": "2024-01-09T13:47:51.616Z"
   },
   {
    "duration": 7,
    "start_time": "2024-01-09T13:47:59.546Z"
   },
   {
    "duration": 7,
    "start_time": "2024-01-09T13:48:05.480Z"
   },
   {
    "duration": 17,
    "start_time": "2024-01-09T13:48:13.373Z"
   },
   {
    "duration": 7,
    "start_time": "2024-01-09T13:50:08.800Z"
   },
   {
    "duration": 12,
    "start_time": "2024-01-09T13:56:03.064Z"
   },
   {
    "duration": 31,
    "start_time": "2024-01-09T13:58:30.005Z"
   },
   {
    "duration": 29,
    "start_time": "2024-01-09T13:58:32.299Z"
   },
   {
    "duration": 15,
    "start_time": "2024-01-09T14:02:09.503Z"
   },
   {
    "duration": 16,
    "start_time": "2024-01-09T14:02:30.135Z"
   },
   {
    "duration": 57,
    "start_time": "2024-01-09T14:04:15.027Z"
   },
   {
    "duration": 10,
    "start_time": "2024-01-09T14:04:30.520Z"
   },
   {
    "duration": 13,
    "start_time": "2024-01-09T14:06:18.363Z"
   },
   {
    "duration": 81,
    "start_time": "2024-01-09T14:09:06.432Z"
   },
   {
    "duration": 15,
    "start_time": "2024-01-09T14:09:11.476Z"
   },
   {
    "duration": 7,
    "start_time": "2024-01-09T14:12:06.413Z"
   },
   {
    "duration": 5,
    "start_time": "2024-01-09T14:12:25.792Z"
   },
   {
    "duration": 3,
    "start_time": "2024-01-09T14:12:30.060Z"
   },
   {
    "duration": 931,
    "start_time": "2024-01-09T14:12:30.065Z"
   },
   {
    "duration": 147,
    "start_time": "2024-01-09T14:12:30.998Z"
   },
   {
    "duration": 179,
    "start_time": "2024-01-09T14:12:31.148Z"
   },
   {
    "duration": 44,
    "start_time": "2024-01-09T14:12:31.329Z"
   },
   {
    "duration": 24,
    "start_time": "2024-01-09T14:12:31.375Z"
   },
   {
    "duration": 56,
    "start_time": "2024-01-09T14:12:31.400Z"
   },
   {
    "duration": 69,
    "start_time": "2024-01-09T14:12:31.458Z"
   },
   {
    "duration": 82,
    "start_time": "2024-01-09T14:12:31.530Z"
   },
   {
    "duration": 31,
    "start_time": "2024-01-09T14:12:31.614Z"
   },
   {
    "duration": 34,
    "start_time": "2024-01-09T14:12:31.646Z"
   },
   {
    "duration": 48,
    "start_time": "2024-01-09T14:12:31.681Z"
   },
   {
    "duration": 36,
    "start_time": "2024-01-09T14:12:31.730Z"
   },
   {
    "duration": 35,
    "start_time": "2024-01-09T14:12:31.768Z"
   },
   {
    "duration": 31,
    "start_time": "2024-01-09T14:12:31.805Z"
   },
   {
    "duration": 49,
    "start_time": "2024-01-09T14:12:31.838Z"
   },
   {
    "duration": 32,
    "start_time": "2024-01-09T14:12:31.888Z"
   },
   {
    "duration": 109729,
    "start_time": "2024-01-09T14:12:31.922Z"
   },
   {
    "duration": 78,
    "start_time": "2024-01-09T14:14:21.653Z"
   },
   {
    "duration": 71,
    "start_time": "2024-01-09T14:14:21.732Z"
   },
   {
    "duration": 2,
    "start_time": "2024-01-09T14:14:21.805Z"
   },
   {
    "duration": 180,
    "start_time": "2024-01-09T14:14:21.808Z"
   },
   {
    "duration": 188,
    "start_time": "2024-01-09T14:14:21.989Z"
   },
   {
    "duration": 662,
    "start_time": "2024-01-09T14:14:22.181Z"
   },
   {
    "duration": 186,
    "start_time": "2024-01-09T14:14:22.844Z"
   },
   {
    "duration": 4,
    "start_time": "2024-01-09T14:14:23.032Z"
   },
   {
    "duration": 41,
    "start_time": "2024-01-09T14:14:23.038Z"
   },
   {
    "duration": 14,
    "start_time": "2024-01-09T14:14:23.081Z"
   },
   {
    "duration": 10,
    "start_time": "2024-01-09T14:14:23.096Z"
   },
   {
    "duration": 86,
    "start_time": "2024-01-09T14:14:23.107Z"
   },
   {
    "duration": 8,
    "start_time": "2024-01-09T14:14:23.194Z"
   },
   {
    "duration": 12,
    "start_time": "2024-01-09T14:14:23.203Z"
   },
   {
    "duration": 28,
    "start_time": "2024-01-09T14:14:23.216Z"
   },
   {
    "duration": 30,
    "start_time": "2024-01-09T14:14:23.246Z"
   },
   {
    "duration": 16,
    "start_time": "2024-01-09T14:14:23.277Z"
   },
   {
    "duration": 71,
    "start_time": "2024-01-09T14:14:23.294Z"
   },
   {
    "duration": 9,
    "start_time": "2024-01-09T14:14:23.367Z"
   },
   {
    "duration": 8,
    "start_time": "2024-01-09T14:14:23.377Z"
   },
   {
    "duration": 14,
    "start_time": "2024-01-09T14:14:23.387Z"
   },
   {
    "duration": 21,
    "start_time": "2024-01-09T14:14:23.402Z"
   },
   {
    "duration": 8,
    "start_time": "2024-01-09T14:15:32.860Z"
   },
   {
    "duration": 9,
    "start_time": "2024-01-09T14:15:39.040Z"
   },
   {
    "duration": 9,
    "start_time": "2024-01-09T14:15:46.205Z"
   },
   {
    "duration": 9,
    "start_time": "2024-01-09T14:15:51.444Z"
   },
   {
    "duration": 8,
    "start_time": "2024-01-09T14:15:54.808Z"
   },
   {
    "duration": 8,
    "start_time": "2024-01-09T14:15:58.519Z"
   },
   {
    "duration": 8,
    "start_time": "2024-01-09T14:16:51.128Z"
   },
   {
    "duration": 16,
    "start_time": "2024-01-09T14:17:10.142Z"
   },
   {
    "duration": 17,
    "start_time": "2024-01-09T14:17:48.191Z"
   },
   {
    "duration": 16,
    "start_time": "2024-01-09T14:17:52.511Z"
   },
   {
    "duration": 20,
    "start_time": "2024-01-09T14:19:17.632Z"
   },
   {
    "duration": 15,
    "start_time": "2024-01-09T14:20:47.573Z"
   },
   {
    "duration": 5,
    "start_time": "2024-01-09T14:22:13.175Z"
   },
   {
    "duration": 15,
    "start_time": "2024-01-09T14:22:37.185Z"
   },
   {
    "duration": 80,
    "start_time": "2024-01-09T14:25:12.623Z"
   },
   {
    "duration": 23,
    "start_time": "2024-01-09T14:26:44.677Z"
   },
   {
    "duration": 8,
    "start_time": "2024-01-09T14:26:49.395Z"
   },
   {
    "duration": 8,
    "start_time": "2024-01-09T14:28:08.500Z"
   },
   {
    "duration": 13,
    "start_time": "2024-01-09T14:28:15.493Z"
   },
   {
    "duration": 13,
    "start_time": "2024-01-09T14:29:46.661Z"
   },
   {
    "duration": 20,
    "start_time": "2024-01-09T14:31:17.115Z"
   },
   {
    "duration": 59,
    "start_time": "2024-01-09T14:31:28.146Z"
   },
   {
    "duration": 12,
    "start_time": "2024-01-09T14:42:03.544Z"
   },
   {
    "duration": 59,
    "start_time": "2024-01-09T14:42:35.596Z"
   },
   {
    "duration": 5,
    "start_time": "2024-01-09T14:46:48.525Z"
   },
   {
    "duration": 22,
    "start_time": "2024-01-09T14:49:44.503Z"
   },
   {
    "duration": 3,
    "start_time": "2024-01-09T14:49:59.680Z"
   },
   {
    "duration": 793,
    "start_time": "2024-01-09T14:49:59.685Z"
   },
   {
    "duration": 138,
    "start_time": "2024-01-09T14:50:00.480Z"
   },
   {
    "duration": 139,
    "start_time": "2024-01-09T14:50:00.620Z"
   },
   {
    "duration": 35,
    "start_time": "2024-01-09T14:50:00.761Z"
   },
   {
    "duration": 38,
    "start_time": "2024-01-09T14:50:00.798Z"
   },
   {
    "duration": 59,
    "start_time": "2024-01-09T14:50:00.837Z"
   },
   {
    "duration": 84,
    "start_time": "2024-01-09T14:50:00.897Z"
   },
   {
    "duration": 96,
    "start_time": "2024-01-09T14:50:00.982Z"
   },
   {
    "duration": 44,
    "start_time": "2024-01-09T14:50:01.079Z"
   },
   {
    "duration": 42,
    "start_time": "2024-01-09T14:50:01.125Z"
   },
   {
    "duration": 70,
    "start_time": "2024-01-09T14:50:01.169Z"
   },
   {
    "duration": 30,
    "start_time": "2024-01-09T14:50:01.242Z"
   },
   {
    "duration": 64,
    "start_time": "2024-01-09T14:50:01.273Z"
   },
   {
    "duration": 39,
    "start_time": "2024-01-09T14:50:01.339Z"
   },
   {
    "duration": 65,
    "start_time": "2024-01-09T14:50:01.379Z"
   },
   {
    "duration": 54,
    "start_time": "2024-01-09T14:50:01.445Z"
   },
   {
    "duration": 109519,
    "start_time": "2024-01-09T14:50:01.501Z"
   },
   {
    "duration": 78,
    "start_time": "2024-01-09T14:51:51.021Z"
   },
   {
    "duration": 81,
    "start_time": "2024-01-09T14:51:51.101Z"
   },
   {
    "duration": 284,
    "start_time": "2024-01-09T14:51:51.183Z"
   },
   {
    "duration": 169,
    "start_time": "2024-01-09T14:51:51.468Z"
   },
   {
    "duration": 648,
    "start_time": "2024-01-09T14:51:51.638Z"
   },
   {
    "duration": 181,
    "start_time": "2024-01-09T14:51:52.287Z"
   },
   {
    "duration": 5,
    "start_time": "2024-01-09T14:51:52.469Z"
   },
   {
    "duration": 38,
    "start_time": "2024-01-09T14:51:52.475Z"
   },
   {
    "duration": 15,
    "start_time": "2024-01-09T14:51:52.514Z"
   },
   {
    "duration": 28,
    "start_time": "2024-01-09T14:51:52.530Z"
   },
   {
    "duration": 95,
    "start_time": "2024-01-09T14:51:52.560Z"
   },
   {
    "duration": 7,
    "start_time": "2024-01-09T14:51:52.657Z"
   },
   {
    "duration": 38,
    "start_time": "2024-01-09T14:51:52.666Z"
   },
   {
    "duration": 38,
    "start_time": "2024-01-09T14:51:52.705Z"
   },
   {
    "duration": 26,
    "start_time": "2024-01-09T14:51:52.745Z"
   },
   {
    "duration": 26,
    "start_time": "2024-01-09T14:51:52.773Z"
   },
   {
    "duration": 78,
    "start_time": "2024-01-09T14:51:52.800Z"
   },
   {
    "duration": 9,
    "start_time": "2024-01-09T14:51:52.880Z"
   },
   {
    "duration": 27,
    "start_time": "2024-01-09T14:51:52.893Z"
   },
   {
    "duration": 47,
    "start_time": "2024-01-09T14:51:52.921Z"
   },
   {
    "duration": 25,
    "start_time": "2024-01-09T14:51:52.969Z"
   },
   {
    "duration": 30,
    "start_time": "2024-01-09T14:51:52.996Z"
   },
   {
    "duration": 32,
    "start_time": "2024-01-09T14:51:53.027Z"
   },
   {
    "duration": 18,
    "start_time": "2024-01-09T14:51:53.061Z"
   },
   {
    "duration": 14,
    "start_time": "2024-01-09T14:51:53.081Z"
   },
   {
    "duration": 19,
    "start_time": "2024-01-09T14:51:53.097Z"
   },
   {
    "duration": 43,
    "start_time": "2024-01-09T14:51:53.118Z"
   },
   {
    "duration": 88,
    "start_time": "2024-01-09T14:51:53.162Z"
   },
   {
    "duration": 13,
    "start_time": "2024-01-09T14:51:53.252Z"
   },
   {
    "duration": 45,
    "start_time": "2024-01-09T14:51:53.266Z"
   },
   {
    "duration": 57,
    "start_time": "2024-01-09T14:51:53.313Z"
   },
   {
    "duration": 14,
    "start_time": "2024-01-09T14:51:53.371Z"
   },
   {
    "duration": 18,
    "start_time": "2024-01-09T14:51:53.386Z"
   },
   {
    "duration": 87,
    "start_time": "2024-01-09T14:51:53.406Z"
   },
   {
    "duration": 83,
    "start_time": "2024-01-09T14:52:18.096Z"
   },
   {
    "duration": 9,
    "start_time": "2024-01-09T14:54:16.326Z"
   },
   {
    "duration": 4,
    "start_time": "2024-01-09T14:54:36.890Z"
   },
   {
    "duration": 10,
    "start_time": "2024-01-09T14:54:41.479Z"
   },
   {
    "duration": 3,
    "start_time": "2024-01-09T14:54:55.206Z"
   },
   {
    "duration": 4824,
    "start_time": "2024-01-09T14:56:52.751Z"
   },
   {
    "duration": 3,
    "start_time": "2024-01-09T14:59:12.051Z"
   },
   {
    "duration": 466,
    "start_time": "2024-01-09T14:59:13.844Z"
   },
   {
    "duration": 10,
    "start_time": "2024-01-09T15:00:40.575Z"
   },
   {
    "duration": 8757,
    "start_time": "2024-01-09T15:01:41.502Z"
   },
   {
    "duration": 1246,
    "start_time": "2024-01-09T15:02:07.754Z"
   },
   {
    "duration": 3,
    "start_time": "2024-01-09T15:02:17.089Z"
   },
   {
    "duration": 865,
    "start_time": "2024-01-09T15:02:17.100Z"
   },
   {
    "duration": 138,
    "start_time": "2024-01-09T15:02:17.967Z"
   },
   {
    "duration": 129,
    "start_time": "2024-01-09T15:02:18.106Z"
   },
   {
    "duration": 49,
    "start_time": "2024-01-09T15:02:18.237Z"
   },
   {
    "duration": 22,
    "start_time": "2024-01-09T15:02:18.288Z"
   },
   {
    "duration": 15,
    "start_time": "2024-01-09T15:02:18.311Z"
   },
   {
    "duration": 76,
    "start_time": "2024-01-09T15:02:18.327Z"
   },
   {
    "duration": 91,
    "start_time": "2024-01-09T15:02:18.404Z"
   },
   {
    "duration": 34,
    "start_time": "2024-01-09T15:02:18.497Z"
   },
   {
    "duration": 19,
    "start_time": "2024-01-09T15:02:18.532Z"
   },
   {
    "duration": 57,
    "start_time": "2024-01-09T15:02:18.552Z"
   },
   {
    "duration": 40,
    "start_time": "2024-01-09T15:02:18.610Z"
   },
   {
    "duration": 48,
    "start_time": "2024-01-09T15:02:18.666Z"
   },
   {
    "duration": 50,
    "start_time": "2024-01-09T15:02:18.717Z"
   },
   {
    "duration": 41,
    "start_time": "2024-01-09T15:02:18.768Z"
   },
   {
    "duration": 33,
    "start_time": "2024-01-09T15:02:18.810Z"
   },
   {
    "duration": 112632,
    "start_time": "2024-01-09T15:02:18.845Z"
   },
   {
    "duration": 79,
    "start_time": "2024-01-09T15:04:11.478Z"
   },
   {
    "duration": 74,
    "start_time": "2024-01-09T15:04:11.565Z"
   },
   {
    "duration": 217,
    "start_time": "2024-01-09T15:04:11.640Z"
   },
   {
    "duration": 191,
    "start_time": "2024-01-09T15:04:11.859Z"
   },
   {
    "duration": 762,
    "start_time": "2024-01-09T15:04:12.051Z"
   },
   {
    "duration": 188,
    "start_time": "2024-01-09T15:04:12.815Z"
   },
   {
    "duration": 5,
    "start_time": "2024-01-09T15:04:13.004Z"
   },
   {
    "duration": 42,
    "start_time": "2024-01-09T15:04:13.011Z"
   },
   {
    "duration": 14,
    "start_time": "2024-01-09T15:04:13.055Z"
   },
   {
    "duration": 23,
    "start_time": "2024-01-09T15:04:13.071Z"
   },
   {
    "duration": 83,
    "start_time": "2024-01-09T15:04:13.095Z"
   },
   {
    "duration": 7,
    "start_time": "2024-01-09T15:04:13.180Z"
   },
   {
    "duration": 34,
    "start_time": "2024-01-09T15:04:13.188Z"
   },
   {
    "duration": 35,
    "start_time": "2024-01-09T15:04:13.224Z"
   },
   {
    "duration": 15,
    "start_time": "2024-01-09T15:04:13.261Z"
   },
   {
    "duration": 38,
    "start_time": "2024-01-09T15:04:13.277Z"
   },
   {
    "duration": 68,
    "start_time": "2024-01-09T15:04:13.316Z"
   },
   {
    "duration": 9,
    "start_time": "2024-01-09T15:04:13.386Z"
   },
   {
    "duration": 30,
    "start_time": "2024-01-09T15:04:13.396Z"
   },
   {
    "duration": 35,
    "start_time": "2024-01-09T15:04:13.427Z"
   },
   {
    "duration": 34,
    "start_time": "2024-01-09T15:04:13.464Z"
   },
   {
    "duration": 7,
    "start_time": "2024-01-09T15:04:13.500Z"
   },
   {
    "duration": 29,
    "start_time": "2024-01-09T15:04:13.508Z"
   },
   {
    "duration": 36,
    "start_time": "2024-01-09T15:04:13.541Z"
   },
   {
    "duration": 24,
    "start_time": "2024-01-09T15:04:13.579Z"
   },
   {
    "duration": 16,
    "start_time": "2024-01-09T15:04:13.605Z"
   },
   {
    "duration": 35,
    "start_time": "2024-01-09T15:04:13.622Z"
   },
   {
    "duration": 89,
    "start_time": "2024-01-09T15:04:13.658Z"
   },
   {
    "duration": 12,
    "start_time": "2024-01-09T15:04:13.749Z"
   },
   {
    "duration": 40,
    "start_time": "2024-01-09T15:04:13.763Z"
   },
   {
    "duration": 69,
    "start_time": "2024-01-09T15:04:13.805Z"
   },
   {
    "duration": 14,
    "start_time": "2024-01-09T15:04:13.876Z"
   },
   {
    "duration": 27,
    "start_time": "2024-01-09T15:04:13.892Z"
   },
   {
    "duration": 82,
    "start_time": "2024-01-09T15:04:13.920Z"
   },
   {
    "duration": 81,
    "start_time": "2024-01-09T15:04:14.004Z"
   },
   {
    "duration": 12,
    "start_time": "2024-01-09T15:04:14.087Z"
   },
   {
    "duration": 517,
    "start_time": "2024-01-09T15:04:14.100Z"
   },
   {
    "duration": 128,
    "start_time": "2024-01-09T15:05:22.984Z"
   },
   {
    "duration": 4,
    "start_time": "2024-01-09T15:09:15.407Z"
   },
   {
    "duration": 3,
    "start_time": "2024-01-09T15:11:26.653Z"
   },
   {
    "duration": 3,
    "start_time": "2024-01-09T15:11:58.078Z"
   },
   {
    "duration": 1089,
    "start_time": "2024-01-09T15:15:37.382Z"
   },
   {
    "duration": 9,
    "start_time": "2024-01-09T15:17:35.348Z"
   },
   {
    "duration": 4,
    "start_time": "2024-01-09T15:17:45.087Z"
   },
   {
    "duration": 3,
    "start_time": "2024-01-09T15:17:57.068Z"
   },
   {
    "duration": 3,
    "start_time": "2024-01-09T15:18:00.752Z"
   },
   {
    "duration": 908392,
    "start_time": "2024-01-09T15:18:03.006Z"
   },
   {
    "duration": 3,
    "start_time": "2024-01-09T15:33:30.461Z"
   },
   {
    "duration": 3,
    "start_time": "2024-01-09T15:33:33.330Z"
   },
   {
    "duration": 136882,
    "start_time": "2024-01-09T15:33:37.038Z"
   },
   {
    "duration": 63,
    "start_time": "2024-01-09T15:48:01.821Z"
   },
   {
    "duration": 4,
    "start_time": "2024-01-09T15:49:32.573Z"
   },
   {
    "duration": 5,
    "start_time": "2024-01-09T15:50:46.638Z"
   },
   {
    "duration": 5,
    "start_time": "2024-01-09T15:50:54.807Z"
   },
   {
    "duration": 4,
    "start_time": "2024-01-09T15:54:35.294Z"
   },
   {
    "duration": 4,
    "start_time": "2024-01-09T16:02:14.391Z"
   },
   {
    "duration": 3,
    "start_time": "2024-01-09T16:02:57.564Z"
   },
   {
    "duration": 3,
    "start_time": "2024-01-09T16:02:59.660Z"
   },
   {
    "duration": 71354,
    "start_time": "2024-01-09T16:03:33.874Z"
   },
   {
    "duration": 3,
    "start_time": "2024-01-09T16:05:21.443Z"
   },
   {
    "duration": 3,
    "start_time": "2024-01-09T16:05:22.768Z"
   },
   {
    "duration": 144284,
    "start_time": "2024-01-09T16:05:23.918Z"
   },
   {
    "duration": 24859,
    "start_time": "2024-01-09T16:09:51.420Z"
   },
   {
    "duration": 14,
    "start_time": "2024-01-09T16:10:41.606Z"
   },
   {
    "duration": 6,
    "start_time": "2024-01-09T16:11:26.985Z"
   },
   {
    "duration": 4,
    "start_time": "2024-01-09T16:13:05.447Z"
   },
   {
    "duration": 3,
    "start_time": "2024-01-09T16:13:06.669Z"
   },
   {
    "duration": 157449,
    "start_time": "2024-01-09T16:13:10.326Z"
   },
   {
    "duration": 17,
    "start_time": "2024-01-09T16:16:03.154Z"
   },
   {
    "duration": 6,
    "start_time": "2024-01-09T16:16:05.872Z"
   },
   {
    "duration": 8,
    "start_time": "2024-01-09T16:16:18.876Z"
   },
   {
    "duration": 3,
    "start_time": "2024-01-09T16:18:53.232Z"
   },
   {
    "duration": 3,
    "start_time": "2024-01-09T16:18:57.725Z"
   },
   {
    "duration": 173777,
    "start_time": "2024-01-09T16:19:00.320Z"
   },
   {
    "duration": 99,
    "start_time": "2024-01-09T16:22:00.667Z"
   },
   {
    "duration": 6,
    "start_time": "2024-01-09T16:22:02.724Z"
   },
   {
    "duration": 3,
    "start_time": "2024-01-09T16:27:11.655Z"
   },
   {
    "duration": 3,
    "start_time": "2024-01-09T16:27:30.354Z"
   },
   {
    "duration": 105,
    "start_time": "2024-01-09T16:27:32.925Z"
   },
   {
    "duration": 3,
    "start_time": "2024-01-09T16:27:55.917Z"
   },
   {
    "duration": 4,
    "start_time": "2024-01-09T16:27:56.392Z"
   },
   {
    "duration": 806454,
    "start_time": "2024-01-09T16:27:57.013Z"
   },
   {
    "duration": 426,
    "start_time": "2024-01-09T16:50:07.448Z"
   },
   {
    "duration": 5,
    "start_time": "2024-01-09T16:50:11.589Z"
   },
   {
    "duration": 1516,
    "start_time": "2024-01-10T11:46:07.408Z"
   },
   {
    "duration": 1063,
    "start_time": "2024-01-10T11:46:08.926Z"
   },
   {
    "duration": 154,
    "start_time": "2024-01-10T11:46:09.990Z"
   },
   {
    "duration": 136,
    "start_time": "2024-01-10T11:46:10.146Z"
   },
   {
    "duration": 39,
    "start_time": "2024-01-10T11:46:10.283Z"
   },
   {
    "duration": 22,
    "start_time": "2024-01-10T11:46:10.324Z"
   },
   {
    "duration": 4,
    "start_time": "2024-01-10T11:46:10.347Z"
   },
   {
    "duration": 80,
    "start_time": "2024-01-10T11:46:10.353Z"
   },
   {
    "duration": 105,
    "start_time": "2024-01-10T11:46:10.435Z"
   },
   {
    "duration": 43,
    "start_time": "2024-01-10T11:46:10.542Z"
   },
   {
    "duration": 20,
    "start_time": "2024-01-10T11:46:10.586Z"
   },
   {
    "duration": 65,
    "start_time": "2024-01-10T11:46:10.607Z"
   },
   {
    "duration": 38,
    "start_time": "2024-01-10T11:46:10.673Z"
   },
   {
    "duration": 71,
    "start_time": "2024-01-10T11:46:10.712Z"
   },
   {
    "duration": 30,
    "start_time": "2024-01-10T11:46:10.785Z"
   },
   {
    "duration": 36,
    "start_time": "2024-01-10T11:46:10.817Z"
   },
   {
    "duration": 56,
    "start_time": "2024-01-10T11:46:10.854Z"
   },
   {
    "duration": 120375,
    "start_time": "2024-01-10T11:46:10.911Z"
   },
   {
    "duration": 94,
    "start_time": "2024-01-10T11:48:11.288Z"
   },
   {
    "duration": 77,
    "start_time": "2024-01-10T11:48:11.383Z"
   },
   {
    "duration": 241,
    "start_time": "2024-01-10T11:48:11.461Z"
   },
   {
    "duration": 206,
    "start_time": "2024-01-10T11:48:11.704Z"
   },
   {
    "duration": 847,
    "start_time": "2024-01-10T11:48:11.911Z"
   },
   {
    "duration": 208,
    "start_time": "2024-01-10T11:48:12.760Z"
   },
   {
    "duration": 6,
    "start_time": "2024-01-10T11:48:12.969Z"
   },
   {
    "duration": 26,
    "start_time": "2024-01-10T11:48:12.982Z"
   },
   {
    "duration": 15,
    "start_time": "2024-01-10T11:48:13.010Z"
   },
   {
    "duration": 11,
    "start_time": "2024-01-10T11:48:13.030Z"
   },
   {
    "duration": 139,
    "start_time": "2024-01-10T11:48:13.042Z"
   },
   {
    "duration": 9,
    "start_time": "2024-01-10T11:48:13.184Z"
   },
   {
    "duration": 11,
    "start_time": "2024-01-10T11:48:13.195Z"
   },
   {
    "duration": 28,
    "start_time": "2024-01-10T11:48:13.208Z"
   },
   {
    "duration": 16,
    "start_time": "2024-01-10T11:48:13.238Z"
   },
   {
    "duration": 19,
    "start_time": "2024-01-10T11:48:13.282Z"
   },
   {
    "duration": 80,
    "start_time": "2024-01-10T11:48:13.302Z"
   },
   {
    "duration": 10,
    "start_time": "2024-01-10T11:48:13.384Z"
   },
   {
    "duration": 10,
    "start_time": "2024-01-10T11:48:13.395Z"
   },
   {
    "duration": 21,
    "start_time": "2024-01-10T11:48:13.407Z"
   },
   {
    "duration": 26,
    "start_time": "2024-01-10T11:48:13.430Z"
   },
   {
    "duration": 31,
    "start_time": "2024-01-10T11:48:13.457Z"
   },
   {
    "duration": 18,
    "start_time": "2024-01-10T11:48:13.489Z"
   },
   {
    "duration": 22,
    "start_time": "2024-01-10T11:48:13.508Z"
   },
   {
    "duration": 16,
    "start_time": "2024-01-10T11:48:13.532Z"
   },
   {
    "duration": 34,
    "start_time": "2024-01-10T11:48:13.550Z"
   },
   {
    "duration": 19,
    "start_time": "2024-01-10T11:48:13.586Z"
   },
   {
    "duration": 95,
    "start_time": "2024-01-10T11:48:13.606Z"
   },
   {
    "duration": 14,
    "start_time": "2024-01-10T11:48:13.702Z"
   },
   {
    "duration": 21,
    "start_time": "2024-01-10T11:48:13.717Z"
   },
   {
    "duration": 90,
    "start_time": "2024-01-10T11:48:13.739Z"
   },
   {
    "duration": 20,
    "start_time": "2024-01-10T11:48:13.831Z"
   },
   {
    "duration": 32,
    "start_time": "2024-01-10T11:48:13.853Z"
   },
   {
    "duration": 61,
    "start_time": "2024-01-10T11:48:13.887Z"
   },
   {
    "duration": 68,
    "start_time": "2024-01-10T11:48:13.950Z"
   },
   {
    "duration": 89,
    "start_time": "2024-01-10T11:48:14.020Z"
   },
   {
    "duration": 3,
    "start_time": "2024-01-10T11:48:14.110Z"
   },
   {
    "duration": 445,
    "start_time": "2024-01-10T11:48:14.115Z"
   },
   {
    "duration": 3,
    "start_time": "2024-01-10T11:48:14.561Z"
   },
   {
    "duration": 13,
    "start_time": "2024-01-10T11:48:14.566Z"
   },
   {
    "duration": 121770,
    "start_time": "2024-01-10T11:48:14.582Z"
   },
   {
    "duration": 52,
    "start_time": "2024-01-10T11:50:16.353Z"
   },
   {
    "duration": 5,
    "start_time": "2024-01-10T11:50:16.406Z"
   },
   {
    "duration": 3,
    "start_time": "2024-01-10T11:50:16.412Z"
   },
   {
    "duration": 4,
    "start_time": "2024-01-10T11:50:16.417Z"
   },
   {
    "duration": 124367,
    "start_time": "2024-01-10T11:50:16.423Z"
   },
   {
    "duration": 408,
    "start_time": "2024-01-10T11:52:20.791Z"
   },
   {
    "duration": 4,
    "start_time": "2024-01-10T11:52:21.283Z"
   },
   {
    "duration": 104,
    "start_time": "2024-01-10T12:47:56.508Z"
   },
   {
    "duration": 111,
    "start_time": "2024-01-10T12:48:57.258Z"
   },
   {
    "duration": 4,
    "start_time": "2024-01-10T13:00:32.947Z"
   },
   {
    "duration": 821,
    "start_time": "2024-01-10T13:00:32.953Z"
   },
   {
    "duration": 160,
    "start_time": "2024-01-10T13:00:33.775Z"
   },
   {
    "duration": 120,
    "start_time": "2024-01-10T13:00:33.937Z"
   },
   {
    "duration": 40,
    "start_time": "2024-01-10T13:00:34.059Z"
   },
   {
    "duration": 34,
    "start_time": "2024-01-10T13:00:34.100Z"
   },
   {
    "duration": 5,
    "start_time": "2024-01-10T13:00:34.136Z"
   },
   {
    "duration": 85,
    "start_time": "2024-01-10T13:00:34.143Z"
   },
   {
    "duration": 93,
    "start_time": "2024-01-10T13:00:34.232Z"
   },
   {
    "duration": 37,
    "start_time": "2024-01-10T13:00:34.326Z"
   },
   {
    "duration": 34,
    "start_time": "2024-01-10T13:00:34.365Z"
   },
   {
    "duration": 42,
    "start_time": "2024-01-10T13:00:34.401Z"
   },
   {
    "duration": 50,
    "start_time": "2024-01-10T13:00:34.444Z"
   },
   {
    "duration": 37,
    "start_time": "2024-01-10T13:00:34.497Z"
   },
   {
    "duration": 49,
    "start_time": "2024-01-10T13:00:34.536Z"
   },
   {
    "duration": 35,
    "start_time": "2024-01-10T13:00:34.586Z"
   },
   {
    "duration": 34,
    "start_time": "2024-01-10T13:00:34.623Z"
   },
   {
    "duration": 115749,
    "start_time": "2024-01-10T13:00:34.658Z"
   },
   {
    "duration": 81,
    "start_time": "2024-01-10T13:02:30.409Z"
   },
   {
    "duration": 98,
    "start_time": "2024-01-10T13:02:30.492Z"
   },
   {
    "duration": 216,
    "start_time": "2024-01-10T13:02:30.592Z"
   },
   {
    "duration": 182,
    "start_time": "2024-01-10T13:02:30.809Z"
   },
   {
    "duration": 766,
    "start_time": "2024-01-10T13:02:30.992Z"
   },
   {
    "duration": 216,
    "start_time": "2024-01-10T13:02:31.760Z"
   },
   {
    "duration": 7,
    "start_time": "2024-01-10T13:02:31.977Z"
   },
   {
    "duration": 45,
    "start_time": "2024-01-10T13:02:31.985Z"
   },
   {
    "duration": 12,
    "start_time": "2024-01-10T13:02:32.032Z"
   },
   {
    "duration": 8,
    "start_time": "2024-01-10T13:02:32.046Z"
   },
   {
    "duration": 67,
    "start_time": "2024-01-10T13:02:32.056Z"
   },
   {
    "duration": 8,
    "start_time": "2024-01-10T13:02:32.124Z"
   },
   {
    "duration": 17,
    "start_time": "2024-01-10T13:02:32.134Z"
   },
   {
    "duration": 32,
    "start_time": "2024-01-10T13:02:32.152Z"
   },
   {
    "duration": 14,
    "start_time": "2024-01-10T13:02:32.185Z"
   },
   {
    "duration": 17,
    "start_time": "2024-01-10T13:02:32.200Z"
   },
   {
    "duration": 71,
    "start_time": "2024-01-10T13:02:32.218Z"
   },
   {
    "duration": 9,
    "start_time": "2024-01-10T13:02:32.291Z"
   },
   {
    "duration": 9,
    "start_time": "2024-01-10T13:02:32.301Z"
   },
   {
    "duration": 15,
    "start_time": "2024-01-10T13:02:32.311Z"
   },
   {
    "duration": 21,
    "start_time": "2024-01-10T13:02:32.327Z"
   },
   {
    "duration": 33,
    "start_time": "2024-01-10T13:02:32.349Z"
   },
   {
    "duration": 15,
    "start_time": "2024-01-10T13:02:32.386Z"
   },
   {
    "duration": 29,
    "start_time": "2024-01-10T13:02:32.402Z"
   },
   {
    "duration": 16,
    "start_time": "2024-01-10T13:02:32.433Z"
   },
   {
    "duration": 6,
    "start_time": "2024-01-10T13:02:32.450Z"
   },
   {
    "duration": 37,
    "start_time": "2024-01-10T13:02:32.458Z"
   },
   {
    "duration": 74,
    "start_time": "2024-01-10T13:02:32.497Z"
   },
   {
    "duration": 14,
    "start_time": "2024-01-10T13:02:32.582Z"
   },
   {
    "duration": 20,
    "start_time": "2024-01-10T13:02:32.597Z"
   },
   {
    "duration": 80,
    "start_time": "2024-01-10T13:02:32.619Z"
   },
   {
    "duration": 14,
    "start_time": "2024-01-10T13:02:32.700Z"
   },
   {
    "duration": 99,
    "start_time": "2024-01-10T13:02:32.716Z"
   },
   {
    "duration": 15,
    "start_time": "2024-01-10T13:02:32.817Z"
   },
   {
    "duration": 7,
    "start_time": "2024-01-10T13:02:32.834Z"
   },
   {
    "duration": 19,
    "start_time": "2024-01-10T13:02:32.842Z"
   },
   {
    "duration": 8,
    "start_time": "2024-01-10T13:02:32.862Z"
   },
   {
    "duration": 4,
    "start_time": "2024-01-10T13:02:32.872Z"
   },
   {
    "duration": 481,
    "start_time": "2024-01-10T13:02:32.878Z"
   },
   {
    "duration": 0,
    "start_time": "2024-01-10T13:02:33.361Z"
   },
   {
    "duration": 0,
    "start_time": "2024-01-10T13:02:33.362Z"
   },
   {
    "duration": 0,
    "start_time": "2024-01-10T13:02:33.363Z"
   },
   {
    "duration": 0,
    "start_time": "2024-01-10T13:02:33.363Z"
   },
   {
    "duration": 0,
    "start_time": "2024-01-10T13:02:33.364Z"
   },
   {
    "duration": 0,
    "start_time": "2024-01-10T13:02:33.365Z"
   },
   {
    "duration": 0,
    "start_time": "2024-01-10T13:02:33.366Z"
   },
   {
    "duration": 0,
    "start_time": "2024-01-10T13:02:33.367Z"
   },
   {
    "duration": 0,
    "start_time": "2024-01-10T13:02:33.382Z"
   },
   {
    "duration": 0,
    "start_time": "2024-01-10T13:02:33.383Z"
   },
   {
    "duration": 0,
    "start_time": "2024-01-10T13:02:33.384Z"
   },
   {
    "duration": 492,
    "start_time": "2024-01-10T13:04:21.955Z"
   },
   {
    "duration": 3,
    "start_time": "2024-01-10T13:04:27.237Z"
   },
   {
    "duration": 3,
    "start_time": "2024-01-10T13:04:29.181Z"
   },
   {
    "duration": 123803,
    "start_time": "2024-01-10T13:04:31.191Z"
   },
   {
    "duration": 111,
    "start_time": "2024-01-10T13:14:36.728Z"
   },
   {
    "duration": 475,
    "start_time": "2024-01-10T13:15:07.200Z"
   },
   {
    "duration": 45,
    "start_time": "2024-01-10T13:15:10.229Z"
   },
   {
    "duration": 4,
    "start_time": "2024-01-10T13:15:14.118Z"
   },
   {
    "duration": 3,
    "start_time": "2024-01-10T13:15:19.232Z"
   },
   {
    "duration": 3,
    "start_time": "2024-01-10T13:15:21.048Z"
   },
   {
    "duration": 95825,
    "start_time": "2024-01-10T13:15:21.966Z"
   },
   {
    "duration": 400,
    "start_time": "2024-01-10T13:17:58.197Z"
   },
   {
    "duration": 4,
    "start_time": "2024-01-10T13:18:01.196Z"
   },
   {
    "duration": 12,
    "start_time": "2024-01-10T13:18:08.760Z"
   },
   {
    "duration": 11,
    "start_time": "2024-01-10T13:18:33.011Z"
   },
   {
    "duration": 13,
    "start_time": "2024-01-10T13:18:49.761Z"
   },
   {
    "duration": 451,
    "start_time": "2024-01-10T13:29:12.346Z"
   },
   {
    "duration": 23,
    "start_time": "2024-01-10T13:33:15.360Z"
   },
   {
    "duration": 7,
    "start_time": "2024-01-10T13:34:13.886Z"
   },
   {
    "duration": 8,
    "start_time": "2024-01-10T13:34:32.265Z"
   },
   {
    "duration": 9,
    "start_time": "2024-01-10T13:34:40.117Z"
   },
   {
    "duration": 23,
    "start_time": "2024-01-10T13:34:48.928Z"
   },
   {
    "duration": 2,
    "start_time": "2024-01-10T13:37:27.122Z"
   },
   {
    "duration": 1345,
    "start_time": "2024-01-10T13:37:30.047Z"
   },
   {
    "duration": 3,
    "start_time": "2024-01-10T13:38:00.281Z"
   },
   {
    "duration": 35,
    "start_time": "2024-01-10T13:38:01.670Z"
   },
   {
    "duration": 4,
    "start_time": "2024-01-10T13:38:24.857Z"
   },
   {
    "duration": 46,
    "start_time": "2024-01-10T13:38:25.462Z"
   },
   {
    "duration": 3,
    "start_time": "2024-01-10T13:38:47.488Z"
   },
   {
    "duration": 1370,
    "start_time": "2024-01-10T13:38:48.466Z"
   },
   {
    "duration": 4,
    "start_time": "2024-01-10T13:40:30.324Z"
   },
   {
    "duration": 1377,
    "start_time": "2024-01-10T13:40:31.173Z"
   },
   {
    "duration": 3,
    "start_time": "2024-01-10T13:40:56.387Z"
   },
   {
    "duration": 34,
    "start_time": "2024-01-10T13:40:59.929Z"
   },
   {
    "duration": 69,
    "start_time": "2024-01-10T13:46:27.426Z"
   },
   {
    "duration": 8,
    "start_time": "2024-01-10T13:47:06.247Z"
   },
   {
    "duration": 3,
    "start_time": "2024-01-10T13:49:40.497Z"
   },
   {
    "duration": 37,
    "start_time": "2024-01-10T13:49:41.394Z"
   },
   {
    "duration": 1338,
    "start_time": "2024-01-10T13:52:56.407Z"
   },
   {
    "duration": 829,
    "start_time": "2024-01-10T13:52:57.746Z"
   },
   {
    "duration": 151,
    "start_time": "2024-01-10T13:52:58.577Z"
   },
   {
    "duration": 129,
    "start_time": "2024-01-10T13:52:58.729Z"
   },
   {
    "duration": 44,
    "start_time": "2024-01-10T13:52:58.860Z"
   },
   {
    "duration": 22,
    "start_time": "2024-01-10T13:52:58.906Z"
   },
   {
    "duration": 4,
    "start_time": "2024-01-10T13:52:58.929Z"
   },
   {
    "duration": 80,
    "start_time": "2024-01-10T13:52:58.935Z"
   },
   {
    "duration": 98,
    "start_time": "2024-01-10T13:52:59.016Z"
   },
   {
    "duration": 34,
    "start_time": "2024-01-10T13:52:59.116Z"
   },
   {
    "duration": 33,
    "start_time": "2024-01-10T13:52:59.152Z"
   },
   {
    "duration": 56,
    "start_time": "2024-01-10T13:52:59.187Z"
   },
   {
    "duration": 52,
    "start_time": "2024-01-10T13:52:59.245Z"
   },
   {
    "duration": 49,
    "start_time": "2024-01-10T13:52:59.301Z"
   },
   {
    "duration": 48,
    "start_time": "2024-01-10T13:52:59.352Z"
   },
   {
    "duration": 44,
    "start_time": "2024-01-10T13:52:59.402Z"
   },
   {
    "duration": 51,
    "start_time": "2024-01-10T13:52:59.448Z"
   },
   {
    "duration": 114848,
    "start_time": "2024-01-10T13:52:59.500Z"
   },
   {
    "duration": 79,
    "start_time": "2024-01-10T13:54:54.349Z"
   },
   {
    "duration": 80,
    "start_time": "2024-01-10T13:54:54.429Z"
   },
   {
    "duration": 212,
    "start_time": "2024-01-10T13:54:54.510Z"
   },
   {
    "duration": 189,
    "start_time": "2024-01-10T13:54:54.724Z"
   },
   {
    "duration": 749,
    "start_time": "2024-01-10T13:54:54.914Z"
   },
   {
    "duration": 197,
    "start_time": "2024-01-10T13:54:55.664Z"
   },
   {
    "duration": 5,
    "start_time": "2024-01-10T13:54:55.863Z"
   },
   {
    "duration": 35,
    "start_time": "2024-01-10T13:54:55.869Z"
   },
   {
    "duration": 14,
    "start_time": "2024-01-10T13:54:55.905Z"
   },
   {
    "duration": 17,
    "start_time": "2024-01-10T13:54:55.921Z"
   },
   {
    "duration": 110,
    "start_time": "2024-01-10T13:54:55.940Z"
   },
   {
    "duration": 7,
    "start_time": "2024-01-10T13:54:56.051Z"
   },
   {
    "duration": 23,
    "start_time": "2024-01-10T13:54:56.059Z"
   },
   {
    "duration": 33,
    "start_time": "2024-01-10T13:54:56.083Z"
   },
   {
    "duration": 15,
    "start_time": "2024-01-10T13:54:56.117Z"
   },
   {
    "duration": 19,
    "start_time": "2024-01-10T13:54:56.133Z"
   },
   {
    "duration": 68,
    "start_time": "2024-01-10T13:54:56.153Z"
   },
   {
    "duration": 9,
    "start_time": "2024-01-10T13:54:56.222Z"
   },
   {
    "duration": 17,
    "start_time": "2024-01-10T13:54:56.233Z"
   },
   {
    "duration": 14,
    "start_time": "2024-01-10T13:54:56.252Z"
   },
   {
    "duration": 25,
    "start_time": "2024-01-10T13:54:56.281Z"
   },
   {
    "duration": 7,
    "start_time": "2024-01-10T13:54:56.308Z"
   },
   {
    "duration": 15,
    "start_time": "2024-01-10T13:54:56.318Z"
   },
   {
    "duration": 26,
    "start_time": "2024-01-10T13:54:56.335Z"
   },
   {
    "duration": 14,
    "start_time": "2024-01-10T13:54:56.382Z"
   },
   {
    "duration": 9,
    "start_time": "2024-01-10T13:54:56.397Z"
   },
   {
    "duration": 20,
    "start_time": "2024-01-10T13:54:56.407Z"
   },
   {
    "duration": 92,
    "start_time": "2024-01-10T13:54:56.428Z"
   },
   {
    "duration": 13,
    "start_time": "2024-01-10T13:54:56.521Z"
   },
   {
    "duration": 27,
    "start_time": "2024-01-10T13:54:56.535Z"
   },
   {
    "duration": 70,
    "start_time": "2024-01-10T13:54:56.564Z"
   },
   {
    "duration": 15,
    "start_time": "2024-01-10T13:54:56.636Z"
   },
   {
    "duration": 77,
    "start_time": "2024-01-10T13:55:39.635Z"
   },
   {
    "duration": 95,
    "start_time": "2024-01-10T14:00:47.854Z"
   },
   {
    "duration": 4,
    "start_time": "2024-01-10T14:06:46.902Z"
   },
   {
    "duration": 851,
    "start_time": "2024-01-10T14:06:46.908Z"
   },
   {
    "duration": 155,
    "start_time": "2024-01-10T14:06:47.760Z"
   },
   {
    "duration": 146,
    "start_time": "2024-01-10T14:06:47.917Z"
   },
   {
    "duration": 38,
    "start_time": "2024-01-10T14:06:48.065Z"
   },
   {
    "duration": 22,
    "start_time": "2024-01-10T14:06:48.104Z"
   },
   {
    "duration": 4,
    "start_time": "2024-01-10T14:06:48.128Z"
   },
   {
    "duration": 67,
    "start_time": "2024-01-10T14:06:48.133Z"
   },
   {
    "duration": 97,
    "start_time": "2024-01-10T14:06:48.202Z"
   },
   {
    "duration": 33,
    "start_time": "2024-01-10T14:06:48.302Z"
   },
   {
    "duration": 19,
    "start_time": "2024-01-10T14:06:48.337Z"
   },
   {
    "duration": 64,
    "start_time": "2024-01-10T14:06:48.358Z"
   },
   {
    "duration": 33,
    "start_time": "2024-01-10T14:06:48.424Z"
   },
   {
    "duration": 55,
    "start_time": "2024-01-10T14:06:48.458Z"
   },
   {
    "duration": 31,
    "start_time": "2024-01-10T14:06:48.514Z"
   },
   {
    "duration": 60,
    "start_time": "2024-01-10T14:06:48.547Z"
   },
   {
    "duration": 33,
    "start_time": "2024-01-10T14:06:48.609Z"
   },
   {
    "duration": 115556,
    "start_time": "2024-01-10T14:06:48.643Z"
   },
   {
    "duration": 88,
    "start_time": "2024-01-10T14:08:44.201Z"
   },
   {
    "duration": 74,
    "start_time": "2024-01-10T14:08:44.291Z"
   },
   {
    "duration": 226,
    "start_time": "2024-01-10T14:08:44.367Z"
   },
   {
    "duration": 199,
    "start_time": "2024-01-10T14:08:44.595Z"
   },
   {
    "duration": 852,
    "start_time": "2024-01-10T14:08:44.796Z"
   },
   {
    "duration": 209,
    "start_time": "2024-01-10T14:08:45.649Z"
   },
   {
    "duration": 6,
    "start_time": "2024-01-10T14:08:45.860Z"
   },
   {
    "duration": 39,
    "start_time": "2024-01-10T14:08:45.868Z"
   },
   {
    "duration": 14,
    "start_time": "2024-01-10T14:08:45.909Z"
   },
   {
    "duration": 10,
    "start_time": "2024-01-10T14:08:45.928Z"
   },
   {
    "duration": 101,
    "start_time": "2024-01-10T14:08:45.940Z"
   },
   {
    "duration": 8,
    "start_time": "2024-01-10T14:08:46.043Z"
   },
   {
    "duration": 29,
    "start_time": "2024-01-10T14:08:46.053Z"
   },
   {
    "duration": 23,
    "start_time": "2024-01-10T14:08:46.083Z"
   },
   {
    "duration": 15,
    "start_time": "2024-01-10T14:08:46.108Z"
   },
   {
    "duration": 43,
    "start_time": "2024-01-10T14:08:46.125Z"
   },
   {
    "duration": 64,
    "start_time": "2024-01-10T14:08:46.170Z"
   },
   {
    "duration": 9,
    "start_time": "2024-01-10T14:08:46.235Z"
   },
   {
    "duration": 23,
    "start_time": "2024-01-10T14:08:46.246Z"
   },
   {
    "duration": 23,
    "start_time": "2024-01-10T14:08:46.271Z"
   },
   {
    "duration": 21,
    "start_time": "2024-01-10T14:08:46.295Z"
   },
   {
    "duration": 8,
    "start_time": "2024-01-10T14:08:46.317Z"
   },
   {
    "duration": 17,
    "start_time": "2024-01-10T14:08:46.326Z"
   },
   {
    "duration": 47,
    "start_time": "2024-01-10T14:08:46.344Z"
   },
   {
    "duration": 24,
    "start_time": "2024-01-10T14:08:46.393Z"
   },
   {
    "duration": 8,
    "start_time": "2024-01-10T14:08:46.418Z"
   },
   {
    "duration": 54,
    "start_time": "2024-01-10T14:08:46.428Z"
   },
   {
    "duration": 88,
    "start_time": "2024-01-10T14:08:46.485Z"
   },
   {
    "duration": 13,
    "start_time": "2024-01-10T14:08:46.582Z"
   },
   {
    "duration": 20,
    "start_time": "2024-01-10T14:08:46.596Z"
   },
   {
    "duration": 85,
    "start_time": "2024-01-10T14:08:46.618Z"
   },
   {
    "duration": 15,
    "start_time": "2024-01-10T14:08:46.705Z"
   },
   {
    "duration": 95,
    "start_time": "2024-01-10T14:08:46.722Z"
   },
   {
    "duration": 93,
    "start_time": "2024-01-10T14:08:59.610Z"
   },
   {
    "duration": 7,
    "start_time": "2024-01-10T14:09:01.843Z"
   },
   {
    "duration": 26,
    "start_time": "2024-01-10T14:09:03.232Z"
   },
   {
    "duration": 3,
    "start_time": "2024-01-10T14:10:17.509Z"
   },
   {
    "duration": 1418,
    "start_time": "2024-01-10T14:10:29.295Z"
   },
   {
    "duration": 3,
    "start_time": "2024-01-10T14:12:20.891Z"
   },
   {
    "duration": 38,
    "start_time": "2024-01-10T14:12:21.627Z"
   },
   {
    "duration": 3,
    "start_time": "2024-01-10T14:13:16.034Z"
   },
   {
    "duration": 1564,
    "start_time": "2024-01-10T14:13:16.711Z"
   },
   {
    "duration": 3,
    "start_time": "2024-01-10T14:13:28.598Z"
   },
   {
    "duration": 2,
    "start_time": "2024-01-10T14:13:45.990Z"
   },
   {
    "duration": 135593,
    "start_time": "2024-01-10T14:13:55.791Z"
   },
   {
    "duration": 111,
    "start_time": "2024-01-10T14:16:20.297Z"
   },
   {
    "duration": 4,
    "start_time": "2024-01-10T14:16:22.188Z"
   },
   {
    "duration": 3,
    "start_time": "2024-01-10T14:16:27.606Z"
   },
   {
    "duration": 2,
    "start_time": "2024-01-10T14:16:35.590Z"
   },
   {
    "duration": 129131,
    "start_time": "2024-01-10T14:16:45.066Z"
   },
   {
    "duration": 450,
    "start_time": "2024-01-10T14:19:44.943Z"
   },
   {
    "duration": 4,
    "start_time": "2024-01-10T14:19:47.210Z"
   },
   {
    "duration": 458,
    "start_time": "2024-01-10T14:19:51.535Z"
   },
   {
    "duration": 3,
    "start_time": "2024-01-10T14:20:58.675Z"
   },
   {
    "duration": 1587,
    "start_time": "2024-01-11T09:37:09.362Z"
   },
   {
    "duration": 2837,
    "start_time": "2024-01-11T09:37:10.951Z"
   },
   {
    "duration": 148,
    "start_time": "2024-01-11T09:37:13.790Z"
   },
   {
    "duration": 134,
    "start_time": "2024-01-11T09:37:13.939Z"
   },
   {
    "duration": 40,
    "start_time": "2024-01-11T09:37:14.076Z"
   },
   {
    "duration": 21,
    "start_time": "2024-01-11T09:37:14.118Z"
   },
   {
    "duration": 8,
    "start_time": "2024-01-11T09:37:14.141Z"
   },
   {
    "duration": 77,
    "start_time": "2024-01-11T09:37:14.150Z"
   },
   {
    "duration": 93,
    "start_time": "2024-01-11T09:37:14.229Z"
   },
   {
    "duration": 32,
    "start_time": "2024-01-11T09:37:14.324Z"
   },
   {
    "duration": 36,
    "start_time": "2024-01-11T09:37:14.358Z"
   },
   {
    "duration": 53,
    "start_time": "2024-01-11T09:37:14.396Z"
   },
   {
    "duration": 48,
    "start_time": "2024-01-11T09:37:14.451Z"
   },
   {
    "duration": 69,
    "start_time": "2024-01-11T09:37:14.502Z"
   },
   {
    "duration": 48,
    "start_time": "2024-01-11T09:37:14.573Z"
   },
   {
    "duration": 37,
    "start_time": "2024-01-11T09:37:14.623Z"
   },
   {
    "duration": 52,
    "start_time": "2024-01-11T09:37:14.662Z"
   },
   {
    "duration": 114280,
    "start_time": "2024-01-11T09:37:14.716Z"
   },
   {
    "duration": 73,
    "start_time": "2024-01-11T09:39:08.998Z"
   },
   {
    "duration": 74,
    "start_time": "2024-01-11T09:39:09.072Z"
   },
   {
    "duration": 193,
    "start_time": "2024-01-11T09:39:09.147Z"
   },
   {
    "duration": 182,
    "start_time": "2024-01-11T09:39:09.341Z"
   },
   {
    "duration": 702,
    "start_time": "2024-01-11T09:39:09.525Z"
   },
   {
    "duration": 184,
    "start_time": "2024-01-11T09:39:10.229Z"
   },
   {
    "duration": 5,
    "start_time": "2024-01-11T09:39:10.414Z"
   },
   {
    "duration": 26,
    "start_time": "2024-01-11T09:39:10.421Z"
   },
   {
    "duration": 14,
    "start_time": "2024-01-11T09:39:10.449Z"
   },
   {
    "duration": 37,
    "start_time": "2024-01-11T09:39:10.464Z"
   },
   {
    "duration": 4,
    "start_time": "2024-01-11T09:50:04.259Z"
   },
   {
    "duration": 24,
    "start_time": "2024-01-11T09:50:38.536Z"
   },
   {
    "duration": 8,
    "start_time": "2024-01-11T09:51:57.441Z"
   },
   {
    "duration": 10,
    "start_time": "2024-01-11T09:52:01.484Z"
   },
   {
    "duration": 28,
    "start_time": "2024-01-11T09:52:02.367Z"
   },
   {
    "duration": 21,
    "start_time": "2024-01-11T09:52:09.714Z"
   },
   {
    "duration": 20,
    "start_time": "2024-01-11T09:54:06.706Z"
   },
   {
    "duration": 21,
    "start_time": "2024-01-11T09:54:21.418Z"
   },
   {
    "duration": 15,
    "start_time": "2024-01-11T09:55:30.962Z"
   },
   {
    "duration": 15,
    "start_time": "2024-01-11T09:55:31.656Z"
   },
   {
    "duration": 71,
    "start_time": "2024-01-11T09:55:34.656Z"
   },
   {
    "duration": 9,
    "start_time": "2024-01-11T09:55:35.173Z"
   },
   {
    "duration": 7,
    "start_time": "2024-01-11T09:55:38.505Z"
   },
   {
    "duration": 21,
    "start_time": "2024-01-11T09:55:39.643Z"
   },
   {
    "duration": 26,
    "start_time": "2024-01-11T09:55:42.797Z"
   },
   {
    "duration": 8,
    "start_time": "2024-01-11T09:55:46.191Z"
   },
   {
    "duration": 14,
    "start_time": "2024-01-11T09:55:48.585Z"
   },
   {
    "duration": 19,
    "start_time": "2024-01-11T09:55:51.944Z"
   },
   {
    "duration": 13,
    "start_time": "2024-01-11T09:55:55.349Z"
   },
   {
    "duration": 5,
    "start_time": "2024-01-11T09:55:56.295Z"
   },
   {
    "duration": 15,
    "start_time": "2024-01-11T09:55:58.497Z"
   },
   {
    "duration": 68,
    "start_time": "2024-01-11T09:56:07.749Z"
   },
   {
    "duration": 13,
    "start_time": "2024-01-11T09:56:13.205Z"
   },
   {
    "duration": 23,
    "start_time": "2024-01-11T09:56:17.739Z"
   },
   {
    "duration": 57,
    "start_time": "2024-01-11T09:56:29.185Z"
   },
   {
    "duration": 14,
    "start_time": "2024-01-11T09:56:30.465Z"
   },
   {
    "duration": 77,
    "start_time": "2024-01-11T10:01:00.482Z"
   },
   {
    "duration": 111,
    "start_time": "2024-01-11T10:03:10.643Z"
   },
   {
    "duration": 105,
    "start_time": "2024-01-11T10:03:47.374Z"
   },
   {
    "duration": 10,
    "start_time": "2024-01-11T10:03:50.490Z"
   },
   {
    "duration": 13,
    "start_time": "2024-01-11T10:03:58.433Z"
   },
   {
    "duration": 5,
    "start_time": "2024-01-11T10:04:11.863Z"
   },
   {
    "duration": 143,
    "start_time": "2024-01-11T10:06:42.016Z"
   },
   {
    "duration": 4,
    "start_time": "2024-01-11T11:28:05.247Z"
   },
   {
    "duration": 82,
    "start_time": "2024-01-11T11:31:59.280Z"
   },
   {
    "duration": 6,
    "start_time": "2024-01-11T11:32:13.239Z"
   },
   {
    "duration": 22,
    "start_time": "2024-01-11T11:32:16.809Z"
   },
   {
    "duration": 4,
    "start_time": "2024-01-11T11:32:21.410Z"
   },
   {
    "duration": 35,
    "start_time": "2024-01-11T11:32:31.910Z"
   },
   {
    "duration": 3,
    "start_time": "2024-01-11T11:33:07.355Z"
   },
   {
    "duration": 1055,
    "start_time": "2024-01-11T11:33:09.345Z"
   },
   {
    "duration": 1374,
    "start_time": "2024-01-11T11:33:59.264Z"
   },
   {
    "duration": 841,
    "start_time": "2024-01-11T11:34:00.639Z"
   },
   {
    "duration": 145,
    "start_time": "2024-01-11T11:34:01.481Z"
   },
   {
    "duration": 128,
    "start_time": "2024-01-11T11:34:01.629Z"
   },
   {
    "duration": 47,
    "start_time": "2024-01-11T11:34:01.758Z"
   },
   {
    "duration": 29,
    "start_time": "2024-01-11T11:34:01.807Z"
   },
   {
    "duration": 31,
    "start_time": "2024-01-11T11:34:01.837Z"
   },
   {
    "duration": 70,
    "start_time": "2024-01-11T11:34:01.869Z"
   },
   {
    "duration": 85,
    "start_time": "2024-01-11T11:34:01.941Z"
   },
   {
    "duration": 78,
    "start_time": "2024-01-11T11:34:02.029Z"
   },
   {
    "duration": 48,
    "start_time": "2024-01-11T11:34:02.109Z"
   },
   {
    "duration": 94,
    "start_time": "2024-01-11T11:34:02.158Z"
   },
   {
    "duration": 29,
    "start_time": "2024-01-11T11:34:02.254Z"
   },
   {
    "duration": 104,
    "start_time": "2024-01-11T11:34:02.284Z"
   },
   {
    "duration": 32,
    "start_time": "2024-01-11T11:34:02.389Z"
   },
   {
    "duration": 89,
    "start_time": "2024-01-11T11:34:02.422Z"
   },
   {
    "duration": 69,
    "start_time": "2024-01-11T11:34:02.512Z"
   },
   {
    "duration": 108143,
    "start_time": "2024-01-11T11:34:02.582Z"
   },
   {
    "duration": 76,
    "start_time": "2024-01-11T11:35:50.727Z"
   },
   {
    "duration": 98,
    "start_time": "2024-01-11T11:35:50.805Z"
   },
   {
    "duration": 180,
    "start_time": "2024-01-11T11:35:50.904Z"
   },
   {
    "duration": 171,
    "start_time": "2024-01-11T11:35:51.085Z"
   },
   {
    "duration": 806,
    "start_time": "2024-01-11T11:35:51.257Z"
   },
   {
    "duration": 197,
    "start_time": "2024-01-11T11:35:52.065Z"
   },
   {
    "duration": 5,
    "start_time": "2024-01-11T11:35:52.263Z"
   },
   {
    "duration": 45,
    "start_time": "2024-01-11T11:35:52.269Z"
   },
   {
    "duration": 14,
    "start_time": "2024-01-11T11:35:52.315Z"
   },
   {
    "duration": 9,
    "start_time": "2024-01-11T11:35:52.332Z"
   },
   {
    "duration": 12,
    "start_time": "2024-01-11T11:35:52.342Z"
   },
   {
    "duration": 24,
    "start_time": "2024-01-11T11:35:52.355Z"
   },
   {
    "duration": 6,
    "start_time": "2024-01-11T11:35:52.392Z"
   },
   {
    "duration": 22,
    "start_time": "2024-01-11T11:35:52.399Z"
   },
   {
    "duration": 28,
    "start_time": "2024-01-11T11:35:52.423Z"
   },
   {
    "duration": 19,
    "start_time": "2024-01-11T11:35:52.453Z"
   },
   {
    "duration": 25,
    "start_time": "2024-01-11T11:35:52.474Z"
   },
   {
    "duration": 15,
    "start_time": "2024-01-11T11:35:52.500Z"
   },
   {
    "duration": 76,
    "start_time": "2024-01-11T11:35:52.516Z"
   },
   {
    "duration": 8,
    "start_time": "2024-01-11T11:35:52.594Z"
   },
   {
    "duration": 6,
    "start_time": "2024-01-11T11:35:52.604Z"
   },
   {
    "duration": 21,
    "start_time": "2024-01-11T11:35:52.611Z"
   },
   {
    "duration": 19,
    "start_time": "2024-01-11T11:35:52.633Z"
   },
   {
    "duration": 9,
    "start_time": "2024-01-11T11:35:52.653Z"
   },
   {
    "duration": 37,
    "start_time": "2024-01-11T11:35:52.663Z"
   },
   {
    "duration": 20,
    "start_time": "2024-01-11T11:35:52.701Z"
   },
   {
    "duration": 13,
    "start_time": "2024-01-11T11:35:52.722Z"
   },
   {
    "duration": 4,
    "start_time": "2024-01-11T11:35:52.736Z"
   },
   {
    "duration": 16,
    "start_time": "2024-01-11T11:35:52.742Z"
   },
   {
    "duration": 88,
    "start_time": "2024-01-11T11:35:52.760Z"
   },
   {
    "duration": 11,
    "start_time": "2024-01-11T11:35:52.849Z"
   },
   {
    "duration": 34,
    "start_time": "2024-01-11T11:35:52.861Z"
   },
   {
    "duration": 53,
    "start_time": "2024-01-11T11:35:52.897Z"
   },
   {
    "duration": 14,
    "start_time": "2024-01-11T11:35:52.951Z"
   },
   {
    "duration": 126,
    "start_time": "2024-01-11T11:35:52.966Z"
   },
   {
    "duration": 126,
    "start_time": "2024-01-11T11:35:53.094Z"
   },
   {
    "duration": 84,
    "start_time": "2024-01-11T11:35:53.221Z"
   },
   {
    "duration": 6,
    "start_time": "2024-01-11T11:35:53.307Z"
   },
   {
    "duration": 26,
    "start_time": "2024-01-11T11:35:53.314Z"
   },
   {
    "duration": 3,
    "start_time": "2024-01-11T11:36:35.478Z"
   },
   {
    "duration": 1190,
    "start_time": "2024-01-11T11:36:37.892Z"
   },
   {
    "duration": 3,
    "start_time": "2024-01-11T11:37:09.043Z"
   },
   {
    "duration": 34,
    "start_time": "2024-01-11T11:37:12.374Z"
   },
   {
    "duration": 758,
    "start_time": "2024-01-11T11:40:39.296Z"
   },
   {
    "duration": 1277,
    "start_time": "2024-01-11T11:41:08.526Z"
   },
   {
    "duration": 774,
    "start_time": "2024-01-11T11:41:11.152Z"
   },
   {
    "duration": 5750,
    "start_time": "2024-01-11T11:42:05.726Z"
   },
   {
    "duration": 6023,
    "start_time": "2024-01-11T11:43:30.693Z"
   },
   {
    "duration": 1997,
    "start_time": "2024-01-11T11:44:27.921Z"
   },
   {
    "duration": 1166,
    "start_time": "2024-01-11T11:44:55.798Z"
   },
   {
    "duration": 846,
    "start_time": "2024-01-11T11:44:56.966Z"
   },
   {
    "duration": 139,
    "start_time": "2024-01-11T11:44:57.814Z"
   },
   {
    "duration": 118,
    "start_time": "2024-01-11T11:44:57.955Z"
   },
   {
    "duration": 47,
    "start_time": "2024-01-11T11:44:58.075Z"
   },
   {
    "duration": 27,
    "start_time": "2024-01-11T11:44:58.123Z"
   },
   {
    "duration": 23,
    "start_time": "2024-01-11T11:44:58.151Z"
   },
   {
    "duration": 82,
    "start_time": "2024-01-11T11:44:58.176Z"
   },
   {
    "duration": 89,
    "start_time": "2024-01-11T11:44:58.259Z"
   },
   {
    "duration": 30,
    "start_time": "2024-01-11T11:44:58.350Z"
   },
   {
    "duration": 38,
    "start_time": "2024-01-11T11:44:58.381Z"
   },
   {
    "duration": 85,
    "start_time": "2024-01-11T11:44:58.421Z"
   },
   {
    "duration": 66,
    "start_time": "2024-01-11T11:44:58.507Z"
   },
   {
    "duration": 44,
    "start_time": "2024-01-11T11:44:58.575Z"
   },
   {
    "duration": 45,
    "start_time": "2024-01-11T11:44:58.621Z"
   },
   {
    "duration": 36,
    "start_time": "2024-01-11T11:44:58.668Z"
   },
   {
    "duration": 37,
    "start_time": "2024-01-11T11:44:58.705Z"
   },
   {
    "duration": 108666,
    "start_time": "2024-01-11T11:44:58.743Z"
   },
   {
    "duration": 109,
    "start_time": "2024-01-11T11:46:47.411Z"
   },
   {
    "duration": 74,
    "start_time": "2024-01-11T11:46:47.522Z"
   },
   {
    "duration": 190,
    "start_time": "2024-01-11T11:46:47.598Z"
   },
   {
    "duration": 178,
    "start_time": "2024-01-11T11:46:47.792Z"
   },
   {
    "duration": 696,
    "start_time": "2024-01-11T11:46:47.971Z"
   },
   {
    "duration": 208,
    "start_time": "2024-01-11T11:46:48.669Z"
   },
   {
    "duration": 4,
    "start_time": "2024-01-11T11:46:48.878Z"
   },
   {
    "duration": 35,
    "start_time": "2024-01-11T11:46:48.883Z"
   },
   {
    "duration": 16,
    "start_time": "2024-01-11T11:46:48.919Z"
   },
   {
    "duration": 9,
    "start_time": "2024-01-11T11:46:48.938Z"
   },
   {
    "duration": 3,
    "start_time": "2024-01-11T11:46:48.948Z"
   },
   {
    "duration": 41,
    "start_time": "2024-01-11T11:46:48.952Z"
   },
   {
    "duration": 6,
    "start_time": "2024-01-11T11:46:48.995Z"
   },
   {
    "duration": 26,
    "start_time": "2024-01-11T11:46:49.002Z"
   },
   {
    "duration": 28,
    "start_time": "2024-01-11T11:46:49.029Z"
   },
   {
    "duration": 20,
    "start_time": "2024-01-11T11:46:49.059Z"
   },
   {
    "duration": 14,
    "start_time": "2024-01-11T11:46:49.092Z"
   },
   {
    "duration": 16,
    "start_time": "2024-01-11T11:46:49.107Z"
   },
   {
    "duration": 68,
    "start_time": "2024-01-11T11:46:49.124Z"
   },
   {
    "duration": 10,
    "start_time": "2024-01-11T11:46:49.193Z"
   },
   {
    "duration": 8,
    "start_time": "2024-01-11T11:46:49.205Z"
   },
   {
    "duration": 14,
    "start_time": "2024-01-11T11:46:49.214Z"
   },
   {
    "duration": 20,
    "start_time": "2024-01-11T11:46:49.229Z"
   },
   {
    "duration": 41,
    "start_time": "2024-01-11T11:46:49.251Z"
   },
   {
    "duration": 14,
    "start_time": "2024-01-11T11:46:49.294Z"
   },
   {
    "duration": 22,
    "start_time": "2024-01-11T11:46:49.309Z"
   },
   {
    "duration": 13,
    "start_time": "2024-01-11T11:46:49.332Z"
   },
   {
    "duration": 4,
    "start_time": "2024-01-11T11:46:49.347Z"
   },
   {
    "duration": 40,
    "start_time": "2024-01-11T11:46:49.353Z"
   },
   {
    "duration": 68,
    "start_time": "2024-01-11T11:46:49.394Z"
   },
   {
    "duration": 11,
    "start_time": "2024-01-11T11:46:49.463Z"
   },
   {
    "duration": 34,
    "start_time": "2024-01-11T11:46:49.475Z"
   },
   {
    "duration": 55,
    "start_time": "2024-01-11T11:46:49.510Z"
   },
   {
    "duration": 29,
    "start_time": "2024-01-11T11:46:49.567Z"
   },
   {
    "duration": 120,
    "start_time": "2024-01-11T11:46:49.598Z"
   },
   {
    "duration": 144,
    "start_time": "2024-01-11T11:46:49.719Z"
   },
   {
    "duration": 77,
    "start_time": "2024-01-11T11:52:45.261Z"
   },
   {
    "duration": 6,
    "start_time": "2024-01-11T11:52:51.551Z"
   },
   {
    "duration": 20,
    "start_time": "2024-01-11T11:52:52.701Z"
   },
   {
    "duration": 3,
    "start_time": "2024-01-11T11:52:59.528Z"
   },
   {
    "duration": 1675,
    "start_time": "2024-01-11T11:53:02.886Z"
   },
   {
    "duration": 3,
    "start_time": "2024-01-11T11:53:12.951Z"
   },
   {
    "duration": 3,
    "start_time": "2024-01-11T11:53:20.613Z"
   },
   {
    "duration": 2,
    "start_time": "2024-01-11T11:53:28.586Z"
   },
   {
    "duration": 2494,
    "start_time": "2024-01-11T11:53:36.037Z"
   },
   {
    "duration": 3,
    "start_time": "2024-01-11T11:54:23.829Z"
   },
   {
    "duration": 3,
    "start_time": "2024-01-11T11:54:26.653Z"
   },
   {
    "duration": 468437,
    "start_time": "2024-01-11T11:54:28.601Z"
   },
   {
    "duration": 3,
    "start_time": "2024-01-11T12:03:21.823Z"
   },
   {
    "duration": 8,
    "start_time": "2024-01-11T12:03:35.174Z"
   },
   {
    "duration": 2,
    "start_time": "2024-01-11T12:03:45.781Z"
   },
   {
    "duration": 24149,
    "start_time": "2024-01-11T12:03:53.339Z"
   },
   {
    "duration": 3,
    "start_time": "2024-01-11T12:06:20.121Z"
   },
   {
    "duration": 8,
    "start_time": "2024-01-11T12:06:45.846Z"
   },
   {
    "duration": 8,
    "start_time": "2024-01-11T12:07:05.583Z"
   },
   {
    "duration": 3,
    "start_time": "2024-01-11T12:07:09.893Z"
   },
   {
    "duration": 317,
    "start_time": "2024-01-11T12:07:18.817Z"
   },
   {
    "duration": 3,
    "start_time": "2024-01-11T12:07:45.298Z"
   },
   {
    "duration": 3,
    "start_time": "2024-01-11T12:09:25.237Z"
   },
   {
    "duration": 2,
    "start_time": "2024-01-11T12:09:32.101Z"
   },
   {
    "duration": 146340,
    "start_time": "2024-01-11T12:16:53.267Z"
   },
   {
    "duration": 3,
    "start_time": "2024-01-11T12:20:52.433Z"
   },
   {
    "duration": 2,
    "start_time": "2024-01-11T12:20:55.744Z"
   },
   {
    "duration": 4512,
    "start_time": "2024-01-11T12:20:57.888Z"
   },
   {
    "duration": 3,
    "start_time": "2024-01-11T12:21:02.402Z"
   },
   {
    "duration": 950,
    "start_time": "2024-01-11T12:21:07.447Z"
   },
   {
    "duration": 4,
    "start_time": "2024-01-11T12:21:09.814Z"
   },
   {
    "duration": 15,
    "start_time": "2024-01-11T12:43:08.738Z"
   },
   {
    "duration": 13,
    "start_time": "2024-01-11T12:43:21.581Z"
   },
   {
    "duration": 10,
    "start_time": "2024-01-11T12:44:58.399Z"
   },
   {
    "duration": 4,
    "start_time": "2024-01-11T12:45:53.533Z"
   },
   {
    "duration": 8,
    "start_time": "2024-01-11T12:46:04.985Z"
   },
   {
    "duration": 11,
    "start_time": "2024-01-11T12:46:20.728Z"
   },
   {
    "duration": 9,
    "start_time": "2024-01-11T12:46:31.360Z"
   },
   {
    "duration": 12,
    "start_time": "2024-01-11T12:47:39.809Z"
   },
   {
    "duration": 9,
    "start_time": "2024-01-11T12:47:52.574Z"
   },
   {
    "duration": 9,
    "start_time": "2024-01-11T12:48:01.665Z"
   },
   {
    "duration": 1219,
    "start_time": "2024-01-11T12:49:28.770Z"
   },
   {
    "duration": 914,
    "start_time": "2024-01-11T12:49:29.991Z"
   },
   {
    "duration": 139,
    "start_time": "2024-01-11T12:49:30.907Z"
   },
   {
    "duration": 154,
    "start_time": "2024-01-11T12:49:31.048Z"
   },
   {
    "duration": 40,
    "start_time": "2024-01-11T12:49:31.204Z"
   },
   {
    "duration": 21,
    "start_time": "2024-01-11T12:49:31.246Z"
   },
   {
    "duration": 25,
    "start_time": "2024-01-11T12:49:31.268Z"
   },
   {
    "duration": 85,
    "start_time": "2024-01-11T12:49:31.295Z"
   },
   {
    "duration": 81,
    "start_time": "2024-01-11T12:49:31.381Z"
   },
   {
    "duration": 42,
    "start_time": "2024-01-11T12:49:31.465Z"
   },
   {
    "duration": 71,
    "start_time": "2024-01-11T12:49:31.508Z"
   },
   {
    "duration": 109,
    "start_time": "2024-01-11T12:49:31.580Z"
   },
   {
    "duration": 34,
    "start_time": "2024-01-11T12:49:31.690Z"
   },
   {
    "duration": 52,
    "start_time": "2024-01-11T12:49:31.726Z"
   },
   {
    "duration": 38,
    "start_time": "2024-01-11T12:49:31.780Z"
   },
   {
    "duration": 56,
    "start_time": "2024-01-11T12:49:31.820Z"
   },
   {
    "duration": 43,
    "start_time": "2024-01-11T12:49:31.877Z"
   },
   {
    "duration": 110288,
    "start_time": "2024-01-11T12:49:31.922Z"
   },
   {
    "duration": 80,
    "start_time": "2024-01-11T12:51:22.212Z"
   },
   {
    "duration": 74,
    "start_time": "2024-01-11T12:51:22.293Z"
   },
   {
    "duration": 221,
    "start_time": "2024-01-11T12:51:22.368Z"
   },
   {
    "duration": 187,
    "start_time": "2024-01-11T12:51:22.592Z"
   },
   {
    "duration": 719,
    "start_time": "2024-01-11T12:51:22.781Z"
   },
   {
    "duration": 194,
    "start_time": "2024-01-11T12:51:23.501Z"
   },
   {
    "duration": 6,
    "start_time": "2024-01-11T12:51:23.696Z"
   },
   {
    "duration": 29,
    "start_time": "2024-01-11T12:51:23.703Z"
   },
   {
    "duration": 14,
    "start_time": "2024-01-11T12:51:23.734Z"
   },
   {
    "duration": 11,
    "start_time": "2024-01-11T12:51:23.753Z"
   },
   {
    "duration": 28,
    "start_time": "2024-01-11T12:51:23.765Z"
   },
   {
    "duration": 27,
    "start_time": "2024-01-11T12:51:23.795Z"
   },
   {
    "duration": 7,
    "start_time": "2024-01-11T12:51:23.824Z"
   },
   {
    "duration": 10,
    "start_time": "2024-01-11T12:51:23.832Z"
   },
   {
    "duration": 51,
    "start_time": "2024-01-11T12:51:23.843Z"
   },
   {
    "duration": 22,
    "start_time": "2024-01-11T12:51:23.895Z"
   },
   {
    "duration": 14,
    "start_time": "2024-01-11T12:51:23.918Z"
   },
   {
    "duration": 16,
    "start_time": "2024-01-11T12:51:23.933Z"
   },
   {
    "duration": 80,
    "start_time": "2024-01-11T12:51:23.950Z"
   },
   {
    "duration": 10,
    "start_time": "2024-01-11T12:51:24.032Z"
   },
   {
    "duration": 12,
    "start_time": "2024-01-11T12:51:24.043Z"
   },
   {
    "duration": 55,
    "start_time": "2024-01-11T12:51:24.056Z"
   },
   {
    "duration": 37,
    "start_time": "2024-01-11T12:51:24.112Z"
   },
   {
    "duration": 7,
    "start_time": "2024-01-11T12:51:24.151Z"
   },
   {
    "duration": 44,
    "start_time": "2024-01-11T12:51:24.160Z"
   },
   {
    "duration": 19,
    "start_time": "2024-01-11T12:51:24.206Z"
   },
   {
    "duration": 13,
    "start_time": "2024-01-11T12:51:24.227Z"
   },
   {
    "duration": 5,
    "start_time": "2024-01-11T12:51:24.241Z"
   },
   {
    "duration": 15,
    "start_time": "2024-01-11T12:51:24.247Z"
   },
   {
    "duration": 94,
    "start_time": "2024-01-11T12:51:24.263Z"
   },
   {
    "duration": 11,
    "start_time": "2024-01-11T12:51:24.358Z"
   },
   {
    "duration": 34,
    "start_time": "2024-01-11T12:51:24.370Z"
   },
   {
    "duration": 58,
    "start_time": "2024-01-11T12:51:24.406Z"
   },
   {
    "duration": 27,
    "start_time": "2024-01-11T12:51:24.465Z"
   },
   {
    "duration": 125,
    "start_time": "2024-01-11T12:51:24.494Z"
   },
   {
    "duration": 132,
    "start_time": "2024-01-11T12:51:24.620Z"
   },
   {
    "duration": 101,
    "start_time": "2024-01-11T12:51:24.753Z"
   },
   {
    "duration": 7,
    "start_time": "2024-01-11T12:51:24.855Z"
   },
   {
    "duration": 29,
    "start_time": "2024-01-11T12:51:24.863Z"
   },
   {
    "duration": 3,
    "start_time": "2024-01-11T12:51:24.894Z"
   },
   {
    "duration": 1706,
    "start_time": "2024-01-11T12:51:24.898Z"
   },
   {
    "duration": 3,
    "start_time": "2024-01-11T12:51:26.606Z"
   },
   {
    "duration": 11,
    "start_time": "2024-01-11T12:51:26.610Z"
   },
   {
    "duration": 487642,
    "start_time": "2024-01-11T12:51:26.622Z"
   },
   {
    "duration": 4,
    "start_time": "2024-01-11T12:59:34.265Z"
   },
   {
    "duration": 6,
    "start_time": "2024-01-11T12:59:34.270Z"
   },
   {
    "duration": 25372,
    "start_time": "2024-01-11T12:59:34.277Z"
   },
   {
    "duration": 4,
    "start_time": "2024-01-11T12:59:59.650Z"
   },
   {
    "duration": 330,
    "start_time": "2024-01-11T12:59:59.655Z"
   },
   {
    "duration": 5,
    "start_time": "2024-01-11T12:59:59.987Z"
   },
   {
    "duration": 75,
    "start_time": "2024-01-11T12:59:59.994Z"
   },
   {
    "duration": 295,
    "start_time": "2024-01-11T13:00:00.071Z"
   },
   {
    "duration": 302,
    "start_time": "2024-01-11T13:00:00.367Z"
   },
   {
    "duration": 236,
    "start_time": "2024-01-11T13:00:00.671Z"
   },
   {
    "duration": 209785,
    "start_time": "2024-01-11T13:00:00.908Z"
   },
   {
    "duration": 3,
    "start_time": "2024-01-11T13:03:30.695Z"
   },
   {
    "duration": 35,
    "start_time": "2024-01-11T13:03:30.699Z"
   },
   {
    "duration": 16858,
    "start_time": "2024-01-11T13:03:30.736Z"
   },
   {
    "duration": 4,
    "start_time": "2024-01-11T13:03:47.596Z"
   },
   {
    "duration": 913,
    "start_time": "2024-01-11T13:03:47.602Z"
   },
   {
    "duration": 4,
    "start_time": "2024-01-11T13:03:48.593Z"
   },
   {
    "duration": 5,
    "start_time": "2024-01-11T13:03:48.598Z"
   },
   {
    "duration": 5,
    "start_time": "2024-01-11T13:03:48.604Z"
   },
   {
    "duration": 23,
    "start_time": "2024-01-11T13:03:48.616Z"
   },
   {
    "duration": 443,
    "start_time": "2024-01-11T13:54:03.947Z"
   },
   {
    "duration": 272,
    "start_time": "2024-01-11T13:54:10.738Z"
   },
   {
    "duration": 4,
    "start_time": "2024-01-11T13:59:23.435Z"
   },
   {
    "duration": 24,
    "start_time": "2024-01-11T13:59:27.624Z"
   },
   {
    "duration": 11,
    "start_time": "2024-01-11T14:00:34.880Z"
   },
   {
    "duration": 22,
    "start_time": "2024-01-11T14:01:07.206Z"
   },
   {
    "duration": 16,
    "start_time": "2024-01-11T14:02:41.635Z"
   },
   {
    "duration": 3,
    "start_time": "2024-01-11T14:03:26.064Z"
   },
   {
    "duration": 6,
    "start_time": "2024-01-11T14:03:45.376Z"
   },
   {
    "duration": 5,
    "start_time": "2024-01-11T14:04:12.405Z"
   },
   {
    "duration": 11,
    "start_time": "2024-01-11T14:21:30.914Z"
   },
   {
    "duration": 4,
    "start_time": "2024-01-11T14:22:00.009Z"
   },
   {
    "duration": 25,
    "start_time": "2024-01-11T14:22:11.303Z"
   },
   {
    "duration": 1308,
    "start_time": "2024-01-11T14:23:50.289Z"
   },
   {
    "duration": 878,
    "start_time": "2024-01-11T14:23:51.599Z"
   },
   {
    "duration": 169,
    "start_time": "2024-01-11T14:23:52.479Z"
   },
   {
    "duration": 129,
    "start_time": "2024-01-11T14:23:52.650Z"
   },
   {
    "duration": 39,
    "start_time": "2024-01-11T14:23:52.781Z"
   },
   {
    "duration": 21,
    "start_time": "2024-01-11T14:23:52.822Z"
   },
   {
    "duration": 4,
    "start_time": "2024-01-11T14:23:52.844Z"
   },
   {
    "duration": 82,
    "start_time": "2024-01-11T14:23:52.849Z"
   },
   {
    "duration": 90,
    "start_time": "2024-01-11T14:23:52.932Z"
   },
   {
    "duration": 32,
    "start_time": "2024-01-11T14:23:53.024Z"
   },
   {
    "duration": 36,
    "start_time": "2024-01-11T14:23:53.057Z"
   },
   {
    "duration": 50,
    "start_time": "2024-01-11T14:23:53.094Z"
   },
   {
    "duration": 48,
    "start_time": "2024-01-11T14:23:53.145Z"
   },
   {
    "duration": 49,
    "start_time": "2024-01-11T14:23:53.194Z"
   },
   {
    "duration": 31,
    "start_time": "2024-01-11T14:23:53.244Z"
   },
   {
    "duration": 35,
    "start_time": "2024-01-11T14:23:53.291Z"
   },
   {
    "duration": 32,
    "start_time": "2024-01-11T14:23:53.328Z"
   },
   {
    "duration": 116919,
    "start_time": "2024-01-11T14:23:53.361Z"
   },
   {
    "duration": 84,
    "start_time": "2024-01-11T14:25:50.282Z"
   },
   {
    "duration": 82,
    "start_time": "2024-01-11T14:25:50.368Z"
   },
   {
    "duration": 212,
    "start_time": "2024-01-11T14:25:50.451Z"
   },
   {
    "duration": 191,
    "start_time": "2024-01-11T14:25:50.665Z"
   },
   {
    "duration": 815,
    "start_time": "2024-01-11T14:25:50.857Z"
   },
   {
    "duration": 193,
    "start_time": "2024-01-11T14:25:51.673Z"
   },
   {
    "duration": 5,
    "start_time": "2024-01-11T14:25:51.867Z"
   },
   {
    "duration": 33,
    "start_time": "2024-01-11T14:25:51.873Z"
   },
   {
    "duration": 14,
    "start_time": "2024-01-11T14:25:51.907Z"
   },
   {
    "duration": 10,
    "start_time": "2024-01-11T14:25:51.925Z"
   },
   {
    "duration": 20,
    "start_time": "2024-01-11T14:25:51.936Z"
   },
   {
    "duration": 36,
    "start_time": "2024-01-11T14:25:51.957Z"
   },
   {
    "duration": 7,
    "start_time": "2024-01-11T14:25:51.994Z"
   },
   {
    "duration": 26,
    "start_time": "2024-01-11T14:25:52.002Z"
   },
   {
    "duration": 29,
    "start_time": "2024-01-11T14:25:52.030Z"
   },
   {
    "duration": 25,
    "start_time": "2024-01-11T14:25:52.061Z"
   },
   {
    "duration": 21,
    "start_time": "2024-01-11T14:25:52.088Z"
   },
   {
    "duration": 15,
    "start_time": "2024-01-11T14:25:52.111Z"
   },
   {
    "duration": 15,
    "start_time": "2024-01-11T14:25:52.127Z"
   },
   {
    "duration": 102,
    "start_time": "2024-01-11T14:25:52.143Z"
   },
   {
    "duration": 9,
    "start_time": "2024-01-11T14:25:52.246Z"
   },
   {
    "duration": 7,
    "start_time": "2024-01-11T14:25:52.257Z"
   },
   {
    "duration": 31,
    "start_time": "2024-01-11T14:25:52.266Z"
   },
   {
    "duration": 29,
    "start_time": "2024-01-11T14:25:52.299Z"
   },
   {
    "duration": 8,
    "start_time": "2024-01-11T14:25:52.329Z"
   },
   {
    "duration": 32,
    "start_time": "2024-01-11T14:25:52.339Z"
   },
   {
    "duration": 33,
    "start_time": "2024-01-11T14:25:52.373Z"
   },
   {
    "duration": 15,
    "start_time": "2024-01-11T14:25:52.407Z"
   },
   {
    "duration": 15,
    "start_time": "2024-01-11T14:25:52.423Z"
   },
   {
    "duration": 22,
    "start_time": "2024-01-11T14:25:52.439Z"
   },
   {
    "duration": 85,
    "start_time": "2024-01-11T14:25:52.463Z"
   },
   {
    "duration": 16,
    "start_time": "2024-01-11T14:25:52.550Z"
   },
   {
    "duration": 40,
    "start_time": "2024-01-11T14:25:52.567Z"
   },
   {
    "duration": 58,
    "start_time": "2024-01-11T14:25:52.609Z"
   },
   {
    "duration": 29,
    "start_time": "2024-01-11T14:25:52.668Z"
   },
   {
    "duration": 124,
    "start_time": "2024-01-11T14:25:52.699Z"
   },
   {
    "duration": 135,
    "start_time": "2024-01-11T14:25:52.825Z"
   },
   {
    "duration": 94,
    "start_time": "2024-01-11T14:25:52.962Z"
   },
   {
    "duration": 7,
    "start_time": "2024-01-11T14:25:53.057Z"
   },
   {
    "duration": 29,
    "start_time": "2024-01-11T14:25:53.065Z"
   },
   {
    "duration": 15,
    "start_time": "2024-01-11T14:25:53.096Z"
   },
   {
    "duration": 1739,
    "start_time": "2024-01-11T14:25:53.112Z"
   },
   {
    "duration": 4,
    "start_time": "2024-01-11T14:25:54.853Z"
   },
   {
    "duration": 15,
    "start_time": "2024-01-11T14:25:54.858Z"
   },
   {
    "duration": 487894,
    "start_time": "2024-01-11T14:25:54.874Z"
   },
   {
    "duration": 4,
    "start_time": "2024-01-11T14:34:02.770Z"
   },
   {
    "duration": 36,
    "start_time": "2024-01-11T14:34:02.775Z"
   },
   {
    "duration": 25126,
    "start_time": "2024-01-11T14:34:02.813Z"
   },
   {
    "duration": 3,
    "start_time": "2024-01-11T14:34:27.941Z"
   },
   {
    "duration": 335,
    "start_time": "2024-01-11T14:34:27.945Z"
   },
   {
    "duration": 3,
    "start_time": "2024-01-11T14:34:28.281Z"
   },
   {
    "duration": 3,
    "start_time": "2024-01-11T14:34:28.292Z"
   },
   {
    "duration": 15,
    "start_time": "2024-01-11T14:34:28.296Z"
   },
   {
    "duration": 25,
    "start_time": "2024-01-11T14:34:28.313Z"
   },
   {
    "duration": 5,
    "start_time": "2024-01-11T14:34:28.340Z"
   },
   {
    "duration": 860366,
    "start_time": "2024-01-11T14:34:28.346Z"
   },
   {
    "duration": 5,
    "start_time": "2024-01-11T14:48:48.714Z"
   },
   {
    "duration": 4,
    "start_time": "2024-01-11T14:48:48.721Z"
   },
   {
    "duration": 4265,
    "start_time": "2024-01-11T14:48:48.727Z"
   },
   {
    "duration": 3,
    "start_time": "2024-01-11T14:48:52.994Z"
   },
   {
    "duration": 911,
    "start_time": "2024-01-11T14:48:52.998Z"
   },
   {
    "duration": 3,
    "start_time": "2024-01-11T14:48:53.911Z"
   },
   {
    "duration": 12,
    "start_time": "2024-01-11T14:48:53.916Z"
   },
   {
    "duration": 2,
    "start_time": "2024-01-11T14:48:53.933Z"
   },
   {
    "duration": 60,
    "start_time": "2024-01-11T14:48:53.936Z"
   },
   {
    "duration": 308,
    "start_time": "2024-01-11T14:48:53.998Z"
   },
   {
    "duration": 5,
    "start_time": "2024-01-11T14:48:54.307Z"
   },
   {
    "duration": 1522,
    "start_time": "2024-01-12T11:01:57.610Z"
   },
   {
    "duration": 4,
    "start_time": "2024-01-12T11:02:08.175Z"
   },
   {
    "duration": 1173,
    "start_time": "2024-01-12T11:02:10.748Z"
   },
   {
    "duration": 150,
    "start_time": "2024-01-12T11:02:15.261Z"
   },
   {
    "duration": 90,
    "start_time": "2024-01-12T11:02:41.491Z"
   },
   {
    "duration": 111,
    "start_time": "2024-01-12T11:03:10.632Z"
   },
   {
    "duration": 5292,
    "start_time": "2024-01-12T11:05:19.063Z"
   },
   {
    "duration": 946,
    "start_time": "2024-01-12T11:05:24.357Z"
   },
   {
    "duration": 147,
    "start_time": "2024-01-12T11:05:25.304Z"
   },
   {
    "duration": 137,
    "start_time": "2024-01-12T11:05:25.453Z"
   },
   {
    "duration": 42,
    "start_time": "2024-01-12T11:05:25.593Z"
   },
   {
    "duration": 33,
    "start_time": "2024-01-12T11:05:25.637Z"
   },
   {
    "duration": 15,
    "start_time": "2024-01-12T11:05:25.672Z"
   },
   {
    "duration": 75,
    "start_time": "2024-01-12T11:05:25.689Z"
   },
   {
    "duration": 114,
    "start_time": "2024-01-12T11:05:25.766Z"
   },
   {
    "duration": 48,
    "start_time": "2024-01-12T11:05:25.884Z"
   },
   {
    "duration": 37,
    "start_time": "2024-01-12T11:05:25.934Z"
   },
   {
    "duration": 55,
    "start_time": "2024-01-12T11:05:25.974Z"
   },
   {
    "duration": 51,
    "start_time": "2024-01-12T11:05:26.031Z"
   },
   {
    "duration": 52,
    "start_time": "2024-01-12T11:05:26.085Z"
   },
   {
    "duration": 55,
    "start_time": "2024-01-12T11:05:26.138Z"
   },
   {
    "duration": 70,
    "start_time": "2024-01-12T11:05:26.196Z"
   },
   {
    "duration": 40,
    "start_time": "2024-01-12T11:05:26.268Z"
   },
   {
    "duration": 118283,
    "start_time": "2024-01-12T11:05:26.310Z"
   },
   {
    "duration": 91,
    "start_time": "2024-01-12T11:07:24.595Z"
   },
   {
    "duration": 100,
    "start_time": "2024-01-12T11:07:24.688Z"
   },
   {
    "duration": 221,
    "start_time": "2024-01-12T11:07:24.790Z"
   },
   {
    "duration": 210,
    "start_time": "2024-01-12T11:07:25.012Z"
   },
   {
    "duration": 869,
    "start_time": "2024-01-12T11:07:25.223Z"
   },
   {
    "duration": 216,
    "start_time": "2024-01-12T11:07:26.094Z"
   },
   {
    "duration": 5,
    "start_time": "2024-01-12T11:07:26.311Z"
   },
   {
    "duration": 43,
    "start_time": "2024-01-12T11:07:26.318Z"
   },
   {
    "duration": 16,
    "start_time": "2024-01-12T11:07:26.362Z"
   },
   {
    "duration": 17,
    "start_time": "2024-01-12T11:07:26.381Z"
   },
   {
    "duration": 32,
    "start_time": "2024-01-12T11:07:26.399Z"
   },
   {
    "duration": 53,
    "start_time": "2024-01-12T11:07:26.433Z"
   },
   {
    "duration": 8,
    "start_time": "2024-01-12T11:07:26.487Z"
   },
   {
    "duration": 48,
    "start_time": "2024-01-12T11:07:26.497Z"
   },
   {
    "duration": 46,
    "start_time": "2024-01-12T11:07:26.547Z"
   },
   {
    "duration": 114,
    "start_time": "2024-01-12T11:07:26.595Z"
   },
   {
    "duration": 0,
    "start_time": "2024-01-12T11:07:26.710Z"
   },
   {
    "duration": 0,
    "start_time": "2024-01-12T11:07:26.711Z"
   },
   {
    "duration": 0,
    "start_time": "2024-01-12T11:07:26.712Z"
   },
   {
    "duration": 0,
    "start_time": "2024-01-12T11:07:26.713Z"
   },
   {
    "duration": 0,
    "start_time": "2024-01-12T11:07:26.715Z"
   },
   {
    "duration": 0,
    "start_time": "2024-01-12T11:07:26.716Z"
   },
   {
    "duration": 0,
    "start_time": "2024-01-12T11:07:26.717Z"
   },
   {
    "duration": 0,
    "start_time": "2024-01-12T11:07:26.718Z"
   },
   {
    "duration": 0,
    "start_time": "2024-01-12T11:07:26.719Z"
   },
   {
    "duration": 0,
    "start_time": "2024-01-12T11:07:26.720Z"
   },
   {
    "duration": 0,
    "start_time": "2024-01-12T11:07:26.721Z"
   },
   {
    "duration": 0,
    "start_time": "2024-01-12T11:07:26.722Z"
   },
   {
    "duration": 0,
    "start_time": "2024-01-12T11:07:26.723Z"
   },
   {
    "duration": 0,
    "start_time": "2024-01-12T11:07:26.724Z"
   },
   {
    "duration": 0,
    "start_time": "2024-01-12T11:07:26.725Z"
   },
   {
    "duration": 0,
    "start_time": "2024-01-12T11:07:26.726Z"
   },
   {
    "duration": 0,
    "start_time": "2024-01-12T11:07:26.727Z"
   },
   {
    "duration": 0,
    "start_time": "2024-01-12T11:07:26.728Z"
   },
   {
    "duration": 0,
    "start_time": "2024-01-12T11:07:26.729Z"
   },
   {
    "duration": 0,
    "start_time": "2024-01-12T11:07:26.729Z"
   },
   {
    "duration": 0,
    "start_time": "2024-01-12T11:07:26.766Z"
   },
   {
    "duration": 21,
    "start_time": "2024-01-12T11:08:14.381Z"
   },
   {
    "duration": 16,
    "start_time": "2024-01-12T11:08:25.051Z"
   },
   {
    "duration": 18,
    "start_time": "2024-01-12T11:08:26.579Z"
   },
   {
    "duration": 63,
    "start_time": "2024-01-12T11:08:28.516Z"
   },
   {
    "duration": 10,
    "start_time": "2024-01-12T11:08:29.505Z"
   },
   {
    "duration": 8,
    "start_time": "2024-01-12T11:08:31.468Z"
   },
   {
    "duration": 15,
    "start_time": "2024-01-12T11:08:33.124Z"
   },
   {
    "duration": 22,
    "start_time": "2024-01-12T11:08:35.523Z"
   },
   {
    "duration": 8,
    "start_time": "2024-01-12T11:08:37.470Z"
   },
   {
    "duration": 15,
    "start_time": "2024-01-12T11:08:39.770Z"
   },
   {
    "duration": 21,
    "start_time": "2024-01-12T11:08:54.108Z"
   },
   {
    "duration": 15,
    "start_time": "2024-01-12T11:08:57.896Z"
   },
   {
    "duration": 6,
    "start_time": "2024-01-12T11:09:00.027Z"
   },
   {
    "duration": 16,
    "start_time": "2024-01-12T11:09:01.961Z"
   },
   {
    "duration": 71,
    "start_time": "2024-01-12T11:09:04.464Z"
   },
   {
    "duration": 16,
    "start_time": "2024-01-12T11:09:08.034Z"
   },
   {
    "duration": 22,
    "start_time": "2024-01-12T11:09:10.509Z"
   },
   {
    "duration": 59,
    "start_time": "2024-01-12T11:09:11.252Z"
   },
   {
    "duration": 15,
    "start_time": "2024-01-12T11:09:11.550Z"
   },
   {
    "duration": 116,
    "start_time": "2024-01-12T11:09:15.324Z"
   },
   {
    "duration": 152,
    "start_time": "2024-01-12T11:09:15.880Z"
   },
   {
    "duration": 53,
    "start_time": "2024-01-12T11:10:15.439Z"
   },
   {
    "duration": 3,
    "start_time": "2024-01-12T11:10:23.063Z"
   },
   {
    "duration": 36,
    "start_time": "2024-01-12T11:10:26.122Z"
   },
   {
    "duration": 36,
    "start_time": "2024-01-12T11:10:41.528Z"
   },
   {
    "duration": 1118,
    "start_time": "2024-01-12T11:11:14.452Z"
   },
   {
    "duration": 1118,
    "start_time": "2024-01-12T11:12:07.556Z"
   },
   {
    "duration": 6893,
    "start_time": "2024-01-12T11:13:29.094Z"
   },
   {
    "duration": 2923,
    "start_time": "2024-01-12T11:13:57.750Z"
   },
   {
    "duration": 1296,
    "start_time": "2024-01-12T11:14:00.675Z"
   },
   {
    "duration": 907,
    "start_time": "2024-01-12T11:14:01.972Z"
   },
   {
    "duration": 152,
    "start_time": "2024-01-12T11:14:02.881Z"
   },
   {
    "duration": 205,
    "start_time": "2024-01-12T11:14:03.035Z"
   },
   {
    "duration": 408,
    "start_time": "2024-01-12T11:14:03.242Z"
   },
   {
    "duration": 162,
    "start_time": "2024-01-12T11:14:03.651Z"
   },
   {
    "duration": 265,
    "start_time": "2024-01-12T11:14:03.814Z"
   },
   {
    "duration": 162,
    "start_time": "2024-01-12T11:14:04.081Z"
   },
   {
    "duration": 108,
    "start_time": "2024-01-12T11:14:04.246Z"
   },
   {
    "duration": 95,
    "start_time": "2024-01-12T11:14:04.356Z"
   },
   {
    "duration": 83,
    "start_time": "2024-01-12T11:14:04.452Z"
   },
   {
    "duration": 105,
    "start_time": "2024-01-12T11:14:04.537Z"
   },
   {
    "duration": 39,
    "start_time": "2024-01-12T11:14:04.644Z"
   },
   {
    "duration": 53,
    "start_time": "2024-01-12T11:14:04.684Z"
   },
   {
    "duration": 50,
    "start_time": "2024-01-12T11:14:04.739Z"
   },
   {
    "duration": 45,
    "start_time": "2024-01-12T11:14:04.790Z"
   },
   {
    "duration": 45,
    "start_time": "2024-01-12T11:14:04.837Z"
   },
   {
    "duration": 118468,
    "start_time": "2024-01-12T11:14:04.883Z"
   },
   {
    "duration": 84,
    "start_time": "2024-01-12T11:16:03.352Z"
   },
   {
    "duration": 114,
    "start_time": "2024-01-12T11:16:03.438Z"
   },
   {
    "duration": 217,
    "start_time": "2024-01-12T11:16:03.553Z"
   },
   {
    "duration": 192,
    "start_time": "2024-01-12T11:16:03.772Z"
   },
   {
    "duration": 749,
    "start_time": "2024-01-12T11:16:03.966Z"
   },
   {
    "duration": 194,
    "start_time": "2024-01-12T11:16:04.717Z"
   },
   {
    "duration": 6,
    "start_time": "2024-01-12T11:16:04.912Z"
   },
   {
    "duration": 40,
    "start_time": "2024-01-12T11:16:04.919Z"
   },
   {
    "duration": 15,
    "start_time": "2024-01-12T11:16:04.964Z"
   },
   {
    "duration": 31,
    "start_time": "2024-01-12T11:16:04.981Z"
   },
   {
    "duration": 16,
    "start_time": "2024-01-12T11:16:05.014Z"
   },
   {
    "duration": 73,
    "start_time": "2024-01-12T11:16:05.031Z"
   },
   {
    "duration": 14,
    "start_time": "2024-01-12T11:16:05.106Z"
   },
   {
    "duration": 18,
    "start_time": "2024-01-12T11:16:05.121Z"
   },
   {
    "duration": 36,
    "start_time": "2024-01-12T11:16:05.141Z"
   },
   {
    "duration": 21,
    "start_time": "2024-01-12T11:16:05.178Z"
   },
   {
    "duration": 17,
    "start_time": "2024-01-12T11:16:05.200Z"
   },
   {
    "duration": 27,
    "start_time": "2024-01-12T11:16:05.218Z"
   },
   {
    "duration": 75,
    "start_time": "2024-01-12T11:16:05.246Z"
   },
   {
    "duration": 10,
    "start_time": "2024-01-12T11:16:05.322Z"
   },
   {
    "duration": 18,
    "start_time": "2024-01-12T11:16:05.333Z"
   },
   {
    "duration": 23,
    "start_time": "2024-01-12T11:16:05.352Z"
   },
   {
    "duration": 32,
    "start_time": "2024-01-12T11:16:05.376Z"
   },
   {
    "duration": 8,
    "start_time": "2024-01-12T11:16:05.410Z"
   },
   {
    "duration": 47,
    "start_time": "2024-01-12T11:16:05.419Z"
   },
   {
    "duration": 21,
    "start_time": "2024-01-12T11:16:05.467Z"
   },
   {
    "duration": 14,
    "start_time": "2024-01-12T11:16:05.490Z"
   },
   {
    "duration": 4,
    "start_time": "2024-01-12T11:16:05.506Z"
   },
   {
    "duration": 37,
    "start_time": "2024-01-12T11:16:05.511Z"
   },
   {
    "duration": 80,
    "start_time": "2024-01-12T11:16:05.549Z"
   },
   {
    "duration": 12,
    "start_time": "2024-01-12T11:16:05.630Z"
   },
   {
    "duration": 34,
    "start_time": "2024-01-12T11:16:05.644Z"
   },
   {
    "duration": 58,
    "start_time": "2024-01-12T11:16:05.680Z"
   },
   {
    "duration": 30,
    "start_time": "2024-01-12T11:16:05.740Z"
   },
   {
    "duration": 147,
    "start_time": "2024-01-12T11:16:05.771Z"
   },
   {
    "duration": 149,
    "start_time": "2024-01-12T11:16:05.919Z"
   },
   {
    "duration": 55,
    "start_time": "2024-01-12T11:16:06.070Z"
   },
   {
    "duration": 2,
    "start_time": "2024-01-12T11:16:06.127Z"
   },
   {
    "duration": 17,
    "start_time": "2024-01-12T11:16:06.130Z"
   },
   {
    "duration": 38,
    "start_time": "2024-01-12T11:16:06.149Z"
   },
   {
    "duration": 1791,
    "start_time": "2024-01-12T11:16:06.188Z"
   },
   {
    "duration": 3,
    "start_time": "2024-01-12T11:16:07.981Z"
   },
   {
    "duration": 6,
    "start_time": "2024-01-12T11:16:07.986Z"
   },
   {
    "duration": 636726,
    "start_time": "2024-01-12T11:16:07.993Z"
   },
   {
    "duration": 3,
    "start_time": "2024-01-12T11:26:44.721Z"
   },
   {
    "duration": 8,
    "start_time": "2024-01-12T11:26:44.726Z"
   },
   {
    "duration": 37704,
    "start_time": "2024-01-12T11:26:44.735Z"
   },
   {
    "duration": 3,
    "start_time": "2024-01-12T11:27:22.441Z"
   },
   {
    "duration": 421,
    "start_time": "2024-01-12T11:27:22.446Z"
   },
   {
    "duration": 3,
    "start_time": "2024-01-12T11:27:22.869Z"
   },
   {
    "duration": 4,
    "start_time": "2024-01-12T11:27:22.873Z"
   },
   {
    "duration": 6,
    "start_time": "2024-01-12T11:27:22.879Z"
   },
   {
    "duration": 13,
    "start_time": "2024-01-12T11:27:22.886Z"
   },
   {
    "duration": 27,
    "start_time": "2024-01-12T11:27:22.900Z"
   },
   {
    "duration": 174052,
    "start_time": "2024-01-12T11:27:22.928Z"
   },
   {
    "duration": 3,
    "start_time": "2024-01-12T11:30:16.982Z"
   },
   {
    "duration": 5,
    "start_time": "2024-01-12T11:30:16.987Z"
   },
   {
    "duration": 6080,
    "start_time": "2024-01-12T11:30:16.994Z"
   },
   {
    "duration": 3,
    "start_time": "2024-01-12T11:30:23.076Z"
   },
   {
    "duration": 1309,
    "start_time": "2024-01-12T11:30:23.081Z"
   },
   {
    "duration": 3,
    "start_time": "2024-01-12T11:30:24.392Z"
   },
   {
    "duration": 15,
    "start_time": "2024-01-12T11:30:24.397Z"
   },
   {
    "duration": 2,
    "start_time": "2024-01-12T11:30:24.417Z"
   },
   {
    "duration": 9,
    "start_time": "2024-01-12T11:30:24.466Z"
   },
   {
    "duration": 401,
    "start_time": "2024-01-12T11:30:24.477Z"
   },
   {
    "duration": 5,
    "start_time": "2024-01-12T11:30:24.879Z"
   },
   {
    "duration": 12,
    "start_time": "2024-01-12T11:58:13.250Z"
   },
   {
    "duration": 10,
    "start_time": "2024-01-12T12:50:44.472Z"
   },
   {
    "duration": 108,
    "start_time": "2024-01-12T12:52:27.569Z"
   },
   {
    "duration": 2804,
    "start_time": "2024-01-12T12:53:16.382Z"
   },
   {
    "duration": 1218,
    "start_time": "2024-01-12T12:53:19.188Z"
   },
   {
    "duration": 896,
    "start_time": "2024-01-12T12:53:20.407Z"
   },
   {
    "duration": 186,
    "start_time": "2024-01-12T12:53:21.304Z"
   },
   {
    "duration": 138,
    "start_time": "2024-01-12T12:53:21.493Z"
   },
   {
    "duration": 48,
    "start_time": "2024-01-12T12:53:21.633Z"
   },
   {
    "duration": 22,
    "start_time": "2024-01-12T12:53:21.683Z"
   },
   {
    "duration": 33,
    "start_time": "2024-01-12T12:53:21.707Z"
   },
   {
    "duration": 71,
    "start_time": "2024-01-12T12:53:21.742Z"
   },
   {
    "duration": 102,
    "start_time": "2024-01-12T12:53:21.816Z"
   },
   {
    "duration": 32,
    "start_time": "2024-01-12T12:53:21.919Z"
   },
   {
    "duration": 36,
    "start_time": "2024-01-12T12:53:21.952Z"
   },
   {
    "duration": 80,
    "start_time": "2024-01-12T12:53:21.990Z"
   },
   {
    "duration": 33,
    "start_time": "2024-01-12T12:53:22.072Z"
   },
   {
    "duration": 58,
    "start_time": "2024-01-12T12:53:22.107Z"
   },
   {
    "duration": 32,
    "start_time": "2024-01-12T12:53:22.167Z"
   },
   {
    "duration": 41,
    "start_time": "2024-01-12T12:53:22.200Z"
   },
   {
    "duration": 56,
    "start_time": "2024-01-12T12:53:22.242Z"
   },
   {
    "duration": 115992,
    "start_time": "2024-01-12T12:53:22.299Z"
   },
   {
    "duration": 80,
    "start_time": "2024-01-12T12:55:18.292Z"
   },
   {
    "duration": 72,
    "start_time": "2024-01-12T12:55:18.374Z"
   },
   {
    "duration": 213,
    "start_time": "2024-01-12T12:55:18.447Z"
   },
   {
    "duration": 183,
    "start_time": "2024-01-12T12:55:18.665Z"
   },
   {
    "duration": 756,
    "start_time": "2024-01-12T12:55:18.849Z"
   },
   {
    "duration": 193,
    "start_time": "2024-01-12T12:55:19.607Z"
   },
   {
    "duration": 5,
    "start_time": "2024-01-12T12:55:19.801Z"
   },
   {
    "duration": 32,
    "start_time": "2024-01-12T12:55:19.807Z"
   },
   {
    "duration": 26,
    "start_time": "2024-01-12T12:55:19.844Z"
   },
   {
    "duration": 11,
    "start_time": "2024-01-12T12:55:19.872Z"
   },
   {
    "duration": 17,
    "start_time": "2024-01-12T12:55:19.884Z"
   },
   {
    "duration": 38,
    "start_time": "2024-01-12T12:55:19.902Z"
   },
   {
    "duration": 7,
    "start_time": "2024-01-12T12:55:19.942Z"
   },
   {
    "duration": 28,
    "start_time": "2024-01-12T12:55:19.951Z"
   },
   {
    "duration": 29,
    "start_time": "2024-01-12T12:55:19.980Z"
   },
   {
    "duration": 21,
    "start_time": "2024-01-12T12:55:20.011Z"
   },
   {
    "duration": 22,
    "start_time": "2024-01-12T12:55:20.033Z"
   },
   {
    "duration": 23,
    "start_time": "2024-01-12T12:55:20.057Z"
   },
   {
    "duration": 71,
    "start_time": "2024-01-12T12:55:20.082Z"
   },
   {
    "duration": 12,
    "start_time": "2024-01-12T12:55:20.154Z"
   },
   {
    "duration": 11,
    "start_time": "2024-01-12T12:55:20.168Z"
   },
   {
    "duration": 30,
    "start_time": "2024-01-12T12:55:20.180Z"
   },
   {
    "duration": 30,
    "start_time": "2024-01-12T12:55:20.211Z"
   },
   {
    "duration": 7,
    "start_time": "2024-01-12T12:55:20.242Z"
   },
   {
    "duration": 23,
    "start_time": "2024-01-12T12:55:20.251Z"
   },
   {
    "duration": 29,
    "start_time": "2024-01-12T12:55:20.276Z"
   },
   {
    "duration": 15,
    "start_time": "2024-01-12T12:55:20.306Z"
   },
   {
    "duration": 7,
    "start_time": "2024-01-12T12:55:20.323Z"
   },
   {
    "duration": 35,
    "start_time": "2024-01-12T12:55:20.331Z"
   },
   {
    "duration": 74,
    "start_time": "2024-01-12T12:55:20.368Z"
   },
   {
    "duration": 28,
    "start_time": "2024-01-12T12:55:20.444Z"
   },
   {
    "duration": 46,
    "start_time": "2024-01-12T12:55:20.473Z"
   },
   {
    "duration": 56,
    "start_time": "2024-01-12T12:55:20.521Z"
   },
   {
    "duration": 14,
    "start_time": "2024-01-12T12:55:20.578Z"
   },
   {
    "duration": 136,
    "start_time": "2024-01-12T12:55:20.594Z"
   },
   {
    "duration": 140,
    "start_time": "2024-01-12T12:55:20.732Z"
   },
   {
    "duration": 51,
    "start_time": "2024-01-12T12:55:20.873Z"
   },
   {
    "duration": 3,
    "start_time": "2024-01-12T12:55:20.925Z"
   },
   {
    "duration": 1813,
    "start_time": "2024-01-12T12:55:20.930Z"
   },
   {
    "duration": 3,
    "start_time": "2024-01-12T12:55:22.744Z"
   },
   {
    "duration": 19,
    "start_time": "2024-01-12T12:55:22.749Z"
   },
   {
    "duration": 17,
    "start_time": "2024-01-12T12:55:22.769Z"
   },
   {
    "duration": 642679,
    "start_time": "2024-01-12T12:55:22.787Z"
   },
   {
    "duration": 3,
    "start_time": "2024-01-12T13:06:05.468Z"
   },
   {
    "duration": 11,
    "start_time": "2024-01-12T13:06:05.472Z"
   },
   {
    "duration": 32995,
    "start_time": "2024-01-12T13:06:05.484Z"
   },
   {
    "duration": 4,
    "start_time": "2024-01-12T13:06:38.481Z"
   },
   {
    "duration": 414,
    "start_time": "2024-01-12T13:06:38.487Z"
   },
   {
    "duration": 4,
    "start_time": "2024-01-12T13:06:38.903Z"
   },
   {
    "duration": 5,
    "start_time": "2024-01-12T13:06:38.908Z"
   },
   {
    "duration": 9,
    "start_time": "2024-01-12T13:06:38.914Z"
   },
   {
    "duration": 193151,
    "start_time": "2024-01-12T13:06:38.925Z"
   },
   {
    "duration": 3,
    "start_time": "2024-01-12T13:09:52.078Z"
   },
   {
    "duration": 28,
    "start_time": "2024-01-12T13:09:52.083Z"
   },
   {
    "duration": 6353,
    "start_time": "2024-01-12T13:09:52.113Z"
   },
   {
    "duration": 3,
    "start_time": "2024-01-12T13:09:58.467Z"
   },
   {
    "duration": 1214,
    "start_time": "2024-01-12T13:09:58.472Z"
   },
   {
    "duration": 4,
    "start_time": "2024-01-12T13:09:59.687Z"
   },
   {
    "duration": 40,
    "start_time": "2024-01-12T13:09:59.692Z"
   },
   {
    "duration": 436,
    "start_time": "2024-01-12T13:09:59.734Z"
   },
   {
    "duration": 6,
    "start_time": "2024-01-12T13:10:00.171Z"
   },
   {
    "duration": 9,
    "start_time": "2024-01-12T13:13:43.691Z"
   }
  ],
  "kernelspec": {
   "display_name": "Python 3 (ipykernel)",
   "language": "python",
   "name": "python3"
  },
  "language_info": {
   "codemirror_mode": {
    "name": "ipython",
    "version": 3
   },
   "file_extension": ".py",
   "mimetype": "text/x-python",
   "name": "python",
   "nbconvert_exporter": "python",
   "pygments_lexer": "ipython3",
   "version": "3.9.5"
  },
  "toc": {
   "base_numbering": 1,
   "nav_menu": {},
   "number_sections": true,
   "sideBar": true,
   "skip_h1_title": true,
   "title_cell": "Table of Contents",
   "title_sidebar": "Contents",
   "toc_cell": false,
   "toc_position": {},
   "toc_section_display": true,
   "toc_window_display": false
  }
 },
 "nbformat": 4,
 "nbformat_minor": 2
}
